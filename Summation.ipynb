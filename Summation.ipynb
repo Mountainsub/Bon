{
 "cells": [
  {
   "cell_type": "code",
   "execution_count": 1,
   "id": "8663c2c2",
   "metadata": {},
   "outputs": [],
   "source": [
    "\n",
    "# import module list is independent on respective file.\n",
    "import yfinance as yf\n",
    "import numpy as np\n",
    "import pandas as pd\n",
    "%matplotlib inline\n",
    "import matplotlib.pyplot as plt\n",
    "\n",
    "import seaborn as sns\n",
    "\n",
    "from datetime import datetime as dt\n",
    "from datetime import date as date\n",
    "from datetime import timedelta\n",
    "from dateutil.relativedelta import relativedelta\n",
    "\n",
    "\n",
    "from scipy.stats import mstats\n",
    "import japanize_matplotlib\n",
    "from tqdm.notebook import tqdm\n"
   ]
  },
  {
   "cell_type": "code",
   "execution_count": 3,
   "id": "5f9f3a67",
   "metadata": {},
   "outputs": [],
   "source": [
    "a=pd.read_csv('testdata/25811start.csv', index_col=0, parse_dates=True)\n",
    "b=pd.read_csv('testdata/36912start.csv', index_col=0, parse_dates=True)"
   ]
  },
  {
   "cell_type": "code",
   "execution_count": 32,
   "id": "2357ea1e",
   "metadata": {},
   "outputs": [],
   "source": [
    "c=pd.read_csv('testdata/25811_raw.csv', index_col=0, parse_dates=True)\n",
    "d=pd.read_csv('testdata/36912start_raw.csv', index_col=0, parse_dates=True)"
   ]
  },
  {
   "cell_type": "code",
   "execution_count": 7,
   "id": "f49301af",
   "metadata": {},
   "outputs": [],
   "source": [
    "data = pd.concat([a, b]).rename_axis('Date').sort_values(by='Date')"
   ]
  },
  {
   "cell_type": "code",
   "execution_count": 33,
   "id": "d216a878",
   "metadata": {},
   "outputs": [],
   "source": [
    "data2 = pd.concat([c, d]).rename_axis('Date').sort_values(by='Date')"
   ]
  },
  {
   "cell_type": "code",
   "execution_count": 70,
   "id": "47b90d24",
   "metadata": {
    "scrolled": true
   },
   "outputs": [
    {
     "data": {
      "text/plain": [
       "year  month  date      \n",
       "2022  5      2022-05-01     9.661785\n",
       "      6      2022-06-01     4.554216\n",
       "      8      2022-08-01    10.406795\n",
       "      9      2022-09-01     4.631100\n",
       "Name: interest, dtype: float64"
      ]
     },
     "metadata": {},
     "output_type": "display_data"
    },
    {
     "data": {
      "text/plain": [
       "2.0680448345697053"
      ]
     },
     "execution_count": 70,
     "metadata": {},
     "output_type": "execute_result"
    }
   ],
   "source": [
    "start = 2015 # year\n",
    "\n",
    "def Yield(data, start=2015):\n",
    "    df2 = data.set_index([data.index.year,data.index.month, data.index])\n",
    "    df2.index.names = ['year', 'month', 'date']\n",
    "\n",
    "    display(df2.query('year<=@start+@i & month <=9')['interest'].tail(4))\n",
    "    dic2 = {2015+i:df2.query('year<=@start+@i & month <=9')['interest'].tail(8).sum()/ df2.query('year<=@start+@i & month <=9')['open_price'].tail(8).mean() for i in range(8) }\n",
    "    df = pd.DataFrame.from_dict(dic2, orient='index').rename(columns={0:'Return'})\n",
    "    return df\n",
    "df=Yield(data)\n",
    "sharp_ratio = np.mean(df['Return']) /np.std(df['Return'], ddof=1)\n",
    "sharp_ratio"
   ]
  },
  {
   "cell_type": "code",
   "execution_count": 72,
   "id": "f8646afc",
   "metadata": {},
   "outputs": [
    {
     "data": {
      "text/html": [
       "<div>\n",
       "<style scoped>\n",
       "    .dataframe tbody tr th:only-of-type {\n",
       "        vertical-align: middle;\n",
       "    }\n",
       "\n",
       "    .dataframe tbody tr th {\n",
       "        vertical-align: top;\n",
       "    }\n",
       "\n",
       "    .dataframe thead th {\n",
       "        text-align: right;\n",
       "    }\n",
       "</style>\n",
       "<table border=\"1\" class=\"dataframe\">\n",
       "  <thead>\n",
       "    <tr style=\"text-align: right;\">\n",
       "      <th></th>\n",
       "      <th>Return</th>\n",
       "    </tr>\n",
       "  </thead>\n",
       "  <tbody>\n",
       "    <tr>\n",
       "      <th>2016.3</th>\n",
       "      <td>0.495075</td>\n",
       "    </tr>\n",
       "    <tr>\n",
       "      <th>2017.3</th>\n",
       "      <td>0.375658</td>\n",
       "    </tr>\n",
       "    <tr>\n",
       "      <th>2018.3</th>\n",
       "      <td>0.254982</td>\n",
       "    </tr>\n",
       "    <tr>\n",
       "      <th>2019.3</th>\n",
       "      <td>0.025777</td>\n",
       "    </tr>\n",
       "    <tr>\n",
       "      <th>2020.3</th>\n",
       "      <td>0.453129</td>\n",
       "    </tr>\n",
       "    <tr>\n",
       "      <th>2021.3</th>\n",
       "      <td>0.606219</td>\n",
       "    </tr>\n",
       "    <tr>\n",
       "      <th>2022.3</th>\n",
       "      <td>0.359634</td>\n",
       "    </tr>\n",
       "    <tr>\n",
       "      <th>2023.3</th>\n",
       "      <td>0.597915</td>\n",
       "    </tr>\n",
       "  </tbody>\n",
       "</table>\n",
       "</div>"
      ],
      "text/plain": [
       "          Return\n",
       "2016.3  0.495075\n",
       "2017.3  0.375658\n",
       "2018.3  0.254982\n",
       "2019.3  0.025777\n",
       "2020.3  0.453129\n",
       "2021.3  0.606219\n",
       "2022.3  0.359634\n",
       "2023.3  0.597915"
      ]
     },
     "execution_count": 72,
     "metadata": {},
     "output_type": "execute_result"
    }
   ],
   "source": [
    "#df.index = [ f'{str(i+1)}.3' for i in df.index]\n",
    "df"
   ]
  },
  {
   "cell_type": "code",
   "execution_count": 56,
   "id": "90a2bd38",
   "metadata": {},
   "outputs": [
    {
     "data": {
      "image/png": "[encoded data removed]",
      "text/plain": [
       "<Figure size 1200x700 with 2 Axes>"
      ]
     },
     "metadata": {},
     "output_type": "display_data"
    }
   ],
   "source": [
    "fig, ax = plt.subplots(figsize=(12, 7))\n",
    "ax2 = ax.twinx()\n",
    "df=Yield(data)\n",
    "df['Market'] = Yield(data2)['Return'] \n",
    "(1+np.cumsum(df)).plot(ax=ax)\n",
    "df['hist'] = df['Return'] - df['Market']\n",
    "\n",
    "#ax2.hist(df['hist'],alpha=0.5, color='pink')\n",
    "plt.savefig('graph_image/shift.png')"
   ]
  },
  {
   "cell_type": "code",
   "execution_count": 59,
   "id": "829cb3a0",
   "metadata": {},
   "outputs": [
    {
     "data": {
      "text/html": [
       "<div>\n",
       "<style scoped>\n",
       "    .dataframe tbody tr th:only-of-type {\n",
       "        vertical-align: middle;\n",
       "    }\n",
       "\n",
       "    .dataframe tbody tr th {\n",
       "        vertical-align: top;\n",
       "    }\n",
       "\n",
       "    .dataframe thead th {\n",
       "        text-align: right;\n",
       "    }\n",
       "</style>\n",
       "<table border=\"1\" class=\"dataframe\">\n",
       "  <thead>\n",
       "    <tr style=\"text-align: right;\">\n",
       "      <th></th>\n",
       "      <th>Return</th>\n",
       "      <th>Market</th>\n",
       "      <th>hist</th>\n",
       "    </tr>\n",
       "  </thead>\n",
       "  <tbody>\n",
       "    <tr>\n",
       "      <th>2015</th>\n",
       "      <td>0.635453</td>\n",
       "      <td>-0.130081</td>\n",
       "      <td>0.765535</td>\n",
       "    </tr>\n",
       "    <tr>\n",
       "      <th>2016</th>\n",
       "      <td>0.205269</td>\n",
       "      <td>0.179505</td>\n",
       "      <td>0.025764</td>\n",
       "    </tr>\n",
       "    <tr>\n",
       "      <th>2017</th>\n",
       "      <td>0.090343</td>\n",
       "      <td>-0.113627</td>\n",
       "      <td>0.203970</td>\n",
       "    </tr>\n",
       "    <tr>\n",
       "      <th>2018</th>\n",
       "      <td>0.187337</td>\n",
       "      <td>0.522338</td>\n",
       "      <td>-0.335001</td>\n",
       "    </tr>\n",
       "    <tr>\n",
       "      <th>2019</th>\n",
       "      <td>0.526488</td>\n",
       "      <td>-0.409314</td>\n",
       "      <td>0.935802</td>\n",
       "    </tr>\n",
       "    <tr>\n",
       "      <th>2020</th>\n",
       "      <td>0.606935</td>\n",
       "      <td>0.857460</td>\n",
       "      <td>-0.250525</td>\n",
       "    </tr>\n",
       "    <tr>\n",
       "      <th>2021</th>\n",
       "      <td>0.132238</td>\n",
       "      <td>0.095340</td>\n",
       "      <td>0.036898</td>\n",
       "    </tr>\n",
       "    <tr>\n",
       "      <th>2022</th>\n",
       "      <td>0.599840</td>\n",
       "      <td>-0.530927</td>\n",
       "      <td>1.130766</td>\n",
       "    </tr>\n",
       "  </tbody>\n",
       "</table>\n",
       "</div>"
      ],
      "text/plain": [
       "        Return    Market      hist\n",
       "2015  0.635453 -0.130081  0.765535\n",
       "2016  0.205269  0.179505  0.025764\n",
       "2017  0.090343 -0.113627  0.203970\n",
       "2018  0.187337  0.522338 -0.335001\n",
       "2019  0.526488 -0.409314  0.935802\n",
       "2020  0.606935  0.857460 -0.250525\n",
       "2021  0.132238  0.095340  0.036898\n",
       "2022  0.599840 -0.530927  1.130766"
      ]
     },
     "execution_count": 59,
     "metadata": {},
     "output_type": "execute_result"
    }
   ],
   "source": [
    "data"
   ]
  },
  {
   "cell_type": "code",
   "execution_count": 58,
   "id": "d746b6a2",
   "metadata": {},
   "outputs": [
    {
     "ename": "KeyError",
     "evalue": "'open_price'",
     "output_type": "error",
     "traceback": [
      "\u001b[1;31m---------------------------------------------------------------------------\u001b[0m",
      "\u001b[1;31mKeyError\u001b[0m                                  Traceback (most recent call last)",
      "File \u001b[1;32m~\\anaconda3\\Lib\\site-packages\\pandas\\core\\indexes\\base.py:3653\u001b[0m, in \u001b[0;36mIndex.get_loc\u001b[1;34m(self, key)\u001b[0m\n\u001b[0;32m   3652\u001b[0m \u001b[38;5;28;01mtry\u001b[39;00m:\n\u001b[1;32m-> 3653\u001b[0m     \u001b[38;5;28;01mreturn\u001b[39;00m \u001b[38;5;28mself\u001b[39m\u001b[38;5;241m.\u001b[39m_engine\u001b[38;5;241m.\u001b[39mget_loc(casted_key)\n\u001b[0;32m   3654\u001b[0m \u001b[38;5;28;01mexcept\u001b[39;00m \u001b[38;5;167;01mKeyError\u001b[39;00m \u001b[38;5;28;01mas\u001b[39;00m err:\n",
      "File \u001b[1;32m~\\anaconda3\\Lib\\site-packages\\pandas\\_libs\\index.pyx:147\u001b[0m, in \u001b[0;36mpandas._libs.index.IndexEngine.get_loc\u001b[1;34m()\u001b[0m\n",
      "File \u001b[1;32m~\\anaconda3\\Lib\\site-packages\\pandas\\_libs\\index.pyx:176\u001b[0m, in \u001b[0;36mpandas._libs.index.IndexEngine.get_loc\u001b[1;34m()\u001b[0m\n",
      "File \u001b[1;32mpandas\\_libs\\hashtable_class_helper.pxi:7080\u001b[0m, in \u001b[0;36mpandas._libs.hashtable.PyObjectHashTable.get_item\u001b[1;34m()\u001b[0m\n",
      "File \u001b[1;32mpandas\\_libs\\hashtable_class_helper.pxi:7088\u001b[0m, in \u001b[0;36mpandas._libs.hashtable.PyObjectHashTable.get_item\u001b[1;34m()\u001b[0m\n",
      "\u001b[1;31mKeyError\u001b[0m: 'open_price'",
      "\nThe above exception was the direct cause of the following exception:\n",
      "\u001b[1;31mKeyError\u001b[0m                                  Traceback (most recent call last)",
      "Cell \u001b[1;32mIn[58], line 18\u001b[0m\n\u001b[0;32m     16\u001b[0m     fig, ax \u001b[38;5;241m=\u001b[39m plt\u001b[38;5;241m.\u001b[39msubplots()\n\u001b[0;32m     17\u001b[0m     ax\u001b[38;5;241m.\u001b[39mhist(df[\u001b[38;5;124m'\u001b[39m\u001b[38;5;124minterest\u001b[39m\u001b[38;5;124m'\u001b[39m], bins\u001b[38;5;241m=\u001b[39m\u001b[38;5;241m20\u001b[39m, label\u001b[38;5;241m=\u001b[39m\u001b[38;5;124m'\u001b[39m\u001b[38;5;124minterest\u001b[39m\u001b[38;5;124m'\u001b[39m)\n\u001b[1;32m---> 18\u001b[0m Evaluation(df)\n",
      "Cell \u001b[1;32mIn[58], line 3\u001b[0m, in \u001b[0;36mEvaluation\u001b[1;34m(df)\u001b[0m\n\u001b[0;32m      1\u001b[0m \u001b[38;5;28;01mdef\u001b[39;00m \u001b[38;5;21mEvaluation\u001b[39m(df):\n\u001b[0;32m      2\u001b[0m     Sel \u001b[38;5;241m=\u001b[39m pd\u001b[38;5;241m.\u001b[39mSeries()\n\u001b[1;32m----> 3\u001b[0m     Sel[\u001b[38;5;124m'\u001b[39m\u001b[38;5;124m初期資金\u001b[39m\u001b[38;5;124m'\u001b[39m] \u001b[38;5;241m=\u001b[39m df[\u001b[38;5;124m'\u001b[39m\u001b[38;5;124mopen_price\u001b[39m\u001b[38;5;124m'\u001b[39m][\u001b[38;5;241m0\u001b[39m]\n\u001b[0;32m      5\u001b[0m     Sel[\u001b[38;5;124m\"\u001b[39m\u001b[38;5;124m全トレード数\u001b[39m\u001b[38;5;124m\"\u001b[39m] \u001b[38;5;241m=\u001b[39m df\u001b[38;5;241m.\u001b[39mshape[\u001b[38;5;241m0\u001b[39m]\n\u001b[0;32m      6\u001b[0m     \u001b[38;5;66;03m#print((10**2) * df.query('interest >= 0').count() / df.shape[0])\u001b[39;00m\n",
      "File \u001b[1;32m~\\anaconda3\\Lib\\site-packages\\pandas\\core\\frame.py:3761\u001b[0m, in \u001b[0;36mDataFrame.__getitem__\u001b[1;34m(self, key)\u001b[0m\n\u001b[0;32m   3759\u001b[0m \u001b[38;5;28;01mif\u001b[39;00m \u001b[38;5;28mself\u001b[39m\u001b[38;5;241m.\u001b[39mcolumns\u001b[38;5;241m.\u001b[39mnlevels \u001b[38;5;241m>\u001b[39m \u001b[38;5;241m1\u001b[39m:\n\u001b[0;32m   3760\u001b[0m     \u001b[38;5;28;01mreturn\u001b[39;00m \u001b[38;5;28mself\u001b[39m\u001b[38;5;241m.\u001b[39m_getitem_multilevel(key)\n\u001b[1;32m-> 3761\u001b[0m indexer \u001b[38;5;241m=\u001b[39m \u001b[38;5;28mself\u001b[39m\u001b[38;5;241m.\u001b[39mcolumns\u001b[38;5;241m.\u001b[39mget_loc(key)\n\u001b[0;32m   3762\u001b[0m \u001b[38;5;28;01mif\u001b[39;00m is_integer(indexer):\n\u001b[0;32m   3763\u001b[0m     indexer \u001b[38;5;241m=\u001b[39m [indexer]\n",
      "File \u001b[1;32m~\\anaconda3\\Lib\\site-packages\\pandas\\core\\indexes\\base.py:3655\u001b[0m, in \u001b[0;36mIndex.get_loc\u001b[1;34m(self, key)\u001b[0m\n\u001b[0;32m   3653\u001b[0m     \u001b[38;5;28;01mreturn\u001b[39;00m \u001b[38;5;28mself\u001b[39m\u001b[38;5;241m.\u001b[39m_engine\u001b[38;5;241m.\u001b[39mget_loc(casted_key)\n\u001b[0;32m   3654\u001b[0m \u001b[38;5;28;01mexcept\u001b[39;00m \u001b[38;5;167;01mKeyError\u001b[39;00m \u001b[38;5;28;01mas\u001b[39;00m err:\n\u001b[1;32m-> 3655\u001b[0m     \u001b[38;5;28;01mraise\u001b[39;00m \u001b[38;5;167;01mKeyError\u001b[39;00m(key) \u001b[38;5;28;01mfrom\u001b[39;00m \u001b[38;5;21;01merr\u001b[39;00m\n\u001b[0;32m   3656\u001b[0m \u001b[38;5;28;01mexcept\u001b[39;00m \u001b[38;5;167;01mTypeError\u001b[39;00m:\n\u001b[0;32m   3657\u001b[0m     \u001b[38;5;66;03m# If we have a listlike key, _check_indexing_error will raise\u001b[39;00m\n\u001b[0;32m   3658\u001b[0m     \u001b[38;5;66;03m#  InvalidIndexError. Otherwise we fall through and re-raise\u001b[39;00m\n\u001b[0;32m   3659\u001b[0m     \u001b[38;5;66;03m#  the TypeError.\u001b[39;00m\n\u001b[0;32m   3660\u001b[0m     \u001b[38;5;28mself\u001b[39m\u001b[38;5;241m.\u001b[39m_check_indexing_error(key)\n",
      "\u001b[1;31mKeyError\u001b[0m: 'open_price'"
     ]
    }
   ],
   "source": [
    "def Evaluation(df):\n",
    "    Sel = pd.Series()\n",
    "    Sel['初期資金'] = df['open_price'][0]\n",
    "    \n",
    "    Sel[\"全トレード数\"] = df.shape[0]\n",
    "    #print((10**2) * df.query('interest >= 0').count() / df.shape[0])\n",
    "    Sel[\"勝率\"] = \"{:.2f}%\".format((10**2) * df.query('interest >= 0').shape[0] / df.shape[0])\n",
    "    Sel[\"負率\"] = \"{:.2f}%\".format((10**2)* df.query('interest < 0').shape[0] / df.shape[0])\n",
    "    Sel[\"全トレード平均利益\"] = df['interest'].mean()\n",
    "    Sel[\"勝ちトレード平均利益\"] =  df.query('interest >= 0')['interest'].mean()\n",
    "    Sel[\"負けトレード平均利益\"] =  df.query('interest < 0')['interest'].mean()\n",
    "    \n",
    "    Sel[\"プロフィットファクター\"] = df.query('interest >= 0')['interest'].sum() / -df.query('interest < 0')['interest'].sum()\n",
    "    \n",
    "    display(pd.DataFrame(Sel))\n",
    "    fig, ax = plt.subplots()\n",
    "    ax.hist(df['interest'], bins=20, label='interest')\n",
    "Evaluation(df)"
   ]
  },
  {
   "cell_type": "code",
   "execution_count": 9,
   "id": "6fc55fcf",
   "metadata": {},
   "outputs": [
    {
     "data": {
      "text/plain": [
       "2.006549251073026"
      ]
     },
     "execution_count": 9,
     "metadata": {},
     "output_type": "execute_result"
    }
   ],
   "source": [
    "sharp_ratio = np.mean(data['Return']) /np.std(data['Return'], ddof=1)\n",
    "sharp_ratio*np.sqrt((12/(12/8)))"
   ]
  },
  {
   "cell_type": "code",
   "execution_count": 12,
   "id": "f4d77324",
   "metadata": {},
   "outputs": [],
   "source": [
    "df_list = {}\n",
    "for ticker in ['IYR', 'RWR', 'XLRE', 'VNQ']:\n",
    "    df_list[ticker] = pd.read_csv('testdata/'+ticker+'dataframe.csv', index_col=0, parse_dates=True)"
   ]
  },
  {
   "cell_type": "code",
   "execution_count": 11,
   "id": "3078364f",
   "metadata": {},
   "outputs": [],
   "source": [
    "datelist = pd.date_range(start='2011-01-01', end='2023-06-01', freq='1MS')"
   ]
  },
  {
   "cell_type": "code",
   "execution_count": 43,
   "id": "4719d774",
   "metadata": {},
   "outputs": [
    {
     "data": {
      "application/vnd.jupyter.widget-view+json": {
       "model_id": "f8d8c34675f344e380d82aa681d4b2d2",
       "version_major": 2,
       "version_minor": 0
      },
      "text/plain": [
       "  0%|          | 0/150 [00:00<?, ?it/s]"
      ]
     },
     "metadata": {},
     "output_type": "display_data"
    }
   ],
   "source": [
    "datadict = {}\n",
    "SET = set()\n",
    "for i in tqdm(datelist):\n",
    "    Asset, cum = 0, 0\n",
    "    for ticker in ['IYR', 'RWR', 'XLRE', 'VNQ']:\n",
    "        temp = df_list[ticker]\n",
    "        try:\n",
    "            temp2 = temp.loc[i.strftime('%Y-%m-%d'), :]\n",
    "        except:\n",
    "            continue\n",
    "        if not temp.loc[i.strftime('%Y-%m-%d'), :].isna().any():\n",
    "            SET.add(ticker)\n",
    "        Asset += temp2['open_price']\n",
    "        cum += temp2['interest']\n",
    "        \n",
    "    Return = cum / Asset\n",
    "    datadict.update({i:[Return, SET]})"
   ]
  },
  {
   "cell_type": "code",
   "execution_count": 50,
   "id": "09c68957",
   "metadata": {},
   "outputs": [
    {
     "data": {
      "text/html": [
       "<div>\n",
       "<style scoped>\n",
       "    .dataframe tbody tr th:only-of-type {\n",
       "        vertical-align: middle;\n",
       "    }\n",
       "\n",
       "    .dataframe tbody tr th {\n",
       "        vertical-align: top;\n",
       "    }\n",
       "\n",
       "    .dataframe thead th {\n",
       "        text-align: right;\n",
       "    }\n",
       "</style>\n",
       "<table border=\"1\" class=\"dataframe\">\n",
       "  <thead>\n",
       "    <tr style=\"text-align: right;\">\n",
       "      <th></th>\n",
       "      <th>Return</th>\n",
       "      <th>Ticker</th>\n",
       "    </tr>\n",
       "  </thead>\n",
       "  <tbody>\n",
       "    <tr>\n",
       "      <th>2011-01-01</th>\n",
       "      <td>0.030000</td>\n",
       "      <td>{XLRE, IYR, VNQ, RWR}</td>\n",
       "    </tr>\n",
       "    <tr>\n",
       "      <th>2011-02-01</th>\n",
       "      <td>-0.013714</td>\n",
       "      <td>{XLRE, IYR, VNQ, RWR}</td>\n",
       "    </tr>\n",
       "    <tr>\n",
       "      <th>2011-03-01</th>\n",
       "      <td>0.030000</td>\n",
       "      <td>{XLRE, IYR, VNQ, RWR}</td>\n",
       "    </tr>\n",
       "    <tr>\n",
       "      <th>2011-04-01</th>\n",
       "      <td>0.054466</td>\n",
       "      <td>{XLRE, IYR, VNQ, RWR}</td>\n",
       "    </tr>\n",
       "    <tr>\n",
       "      <th>2011-05-01</th>\n",
       "      <td>-0.047336</td>\n",
       "      <td>{XLRE, IYR, VNQ, RWR}</td>\n",
       "    </tr>\n",
       "    <tr>\n",
       "      <th>...</th>\n",
       "      <td>...</td>\n",
       "      <td>...</td>\n",
       "    </tr>\n",
       "    <tr>\n",
       "      <th>2023-02-01</th>\n",
       "      <td>-0.123374</td>\n",
       "      <td>{XLRE, IYR, VNQ, RWR}</td>\n",
       "    </tr>\n",
       "    <tr>\n",
       "      <th>2023-03-01</th>\n",
       "      <td>-0.003777</td>\n",
       "      <td>{XLRE, IYR, VNQ, RWR}</td>\n",
       "    </tr>\n",
       "    <tr>\n",
       "      <th>2023-04-01</th>\n",
       "      <td>0.030000</td>\n",
       "      <td>{XLRE, IYR, VNQ, RWR}</td>\n",
       "    </tr>\n",
       "    <tr>\n",
       "      <th>2023-05-01</th>\n",
       "      <td>0.017266</td>\n",
       "      <td>{XLRE, IYR, VNQ, RWR}</td>\n",
       "    </tr>\n",
       "    <tr>\n",
       "      <th>2023-06-01</th>\n",
       "      <td>0.027202</td>\n",
       "      <td>{XLRE, IYR, VNQ, RWR}</td>\n",
       "    </tr>\n",
       "  </tbody>\n",
       "</table>\n",
       "<p>150 rows × 2 columns</p>\n",
       "</div>"
      ],
      "text/plain": [
       "              Return                 Ticker\n",
       "2011-01-01  0.030000  {XLRE, IYR, VNQ, RWR}\n",
       "2011-02-01 -0.013714  {XLRE, IYR, VNQ, RWR}\n",
       "2011-03-01  0.030000  {XLRE, IYR, VNQ, RWR}\n",
       "2011-04-01  0.054466  {XLRE, IYR, VNQ, RWR}\n",
       "2011-05-01 -0.047336  {XLRE, IYR, VNQ, RWR}\n",
       "...              ...                    ...\n",
       "2023-02-01 -0.123374  {XLRE, IYR, VNQ, RWR}\n",
       "2023-03-01 -0.003777  {XLRE, IYR, VNQ, RWR}\n",
       "2023-04-01  0.030000  {XLRE, IYR, VNQ, RWR}\n",
       "2023-05-01  0.017266  {XLRE, IYR, VNQ, RWR}\n",
       "2023-06-01  0.027202  {XLRE, IYR, VNQ, RWR}\n",
       "\n",
       "[150 rows x 2 columns]"
      ]
     },
     "execution_count": 50,
     "metadata": {},
     "output_type": "execute_result"
    }
   ],
   "source": [
    "df"
   ]
  },
  {
   "cell_type": "code",
   "execution_count": 45,
   "id": "ff6c649e",
   "metadata": {},
   "outputs": [],
   "source": [
    "df = pd.DataFrame.from_dict(datadict, orient='index',columns=['Return', 'Ticker'])"
   ]
  },
  {
   "cell_type": "code",
   "execution_count": 53,
   "id": "8870d835",
   "metadata": {},
   "outputs": [
    {
     "name": "stdout",
     "output_type": "stream",
     "text": [
      "単利計算です。各y値は、その時点までの各利率の累積です。\n",
      "最大ドローダウン: 14.412 %\n"
     ]
    },
    {
     "data": {
      "image/png": "[encoded data removed]",
      "text/plain": [
       "<Figure size 1200x700 with 2 Axes>"
      ]
     },
     "metadata": {},
     "output_type": "display_data"
    }
   ],
   "source": [
    "print(\"単利計算です。各y値は、その時点までの各利率の累積です。\")\n",
    "temp = df[\"Return\"].values\n",
    "\n",
    "\n",
    "\n",
    "profit_month = np.array(temp)\n",
    "\n",
    "# 単利運用での資産額の計算\n",
    "total = 1 + np.cumsum(profit_month)\n",
    "\n",
    "# 月ごとのそれまでの最大資産の計算\n",
    "max_assets = pd.Series(total).cummax().values\n",
    "\n",
    "# ドローダウンの計算\n",
    "dd = max_assets - total\n",
    "\n",
    "# 最大ドローダウンの計算\n",
    "max_dd_percent = max(dd) * 100\n",
    "print(f'最大ドローダウン: {max_dd_percent:.3f} %')\n",
    "\n",
    "fig, ax1 = plt.subplots(figsize=(12, 7))\n",
    "ax2 = ax1.twinx()\n",
    "\n",
    "ax1.set_ylabel('資産額')\n",
    "ax1.plot(df.index,total, label='Total')\n",
    "ax1.plot(df.index, max_assets, label='max Total')\n",
    "ax1.legend()\n",
    "\n",
    "ax2.set_ylabel('Drawdown(％)')\n",
    "ax2.bar(df.index, np.arange(len(dd)), dd*100, alpha=0.5, color='pink', label='ドローダウン(％)')\n",
    "ax2.legend(loc='upper right')\n",
    "plt.savefig('graph_image/summation_distribution.png')"
   ]
  },
  {
   "cell_type": "code",
   "execution_count": null,
   "id": "5d084978",
   "metadata": {},
   "outputs": [],
   "source": []
  }
 ],
 "metadata": {
  "kernelspec": {
   "display_name": "Python 3 (ipykernel)",
   "language": "python",
   "name": "python3"
  },
  "language_info": {
   "codemirror_mode": {
    "name": "ipython",
    "version": 3
   },
   "file_extension": ".py",
   "mimetype": "text/x-python",
   "name": "python",
   "nbconvert_exporter": "python",
   "pygments_lexer": "ipython3",
   "version": "3.11.5"
  }
 },
 "nbformat": 4,
 "nbformat_minor": 5
}
