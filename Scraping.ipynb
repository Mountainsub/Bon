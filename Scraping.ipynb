{
 "cells": [
  {
   "cell_type": "code",
   "execution_count": 1,
   "id": "c803b843",
   "metadata": {},
   "outputs": [],
   "source": [
    "import numpy as np\n",
    "import pandas as pd\n",
    "get_ipython().run_line_magic('matplotlib', 'inline')\n",
    "import matplotlib.pyplot as plt\n",
    "import sys\n",
    "\n",
    "\n",
    "from datetime import datetime as dt\n",
    "from datetime import date as date\n",
    "from datetime import timedelta\n",
    "from dateutil.relativedelta import relativedelta\n",
    "from sklearn.metrics import accuracy_score\n",
    "\n",
    "from scipy.stats import mstats\n",
    "\n",
    "from tqdm.notebook import tqdm\n",
    "import yfinance as yf\n",
    "import japanize_matplotlib\n",
    "\n",
    "from sklearn.ensemble import RandomForestClassifier\n",
    "# 評価\n",
    "from sklearn import metrics\n",
    "from sklearn.model_selection import cross_val_score\n",
    "import warnings"
   ]
  },
  {
   "cell_type": "code",
   "execution_count": 2,
   "id": "7db35fb9",
   "metadata": {},
   "outputs": [
    {
     "data": {
      "text/plain": [
       "'\\n//*[@id=\"__next\"]/div[2]/div[2]/div[2]/div[1]/div[2]/div[3]/table\\n'"
      ]
     },
     "execution_count": 2,
     "metadata": {},
     "output_type": "execute_result"
    }
   ],
   "source": [
    "'''\n",
    "//*[@id=\"__next\"]/div[2]/div[2]/div[2]/div[1]/div[2]/div[3]/table\n",
    "'''"
   ]
  },
  {
   "cell_type": "code",
   "execution_count": 4,
   "id": "2f998aaf",
   "metadata": {
    "scrolled": true
   },
   "outputs": [
    {
     "name": "stdout",
     "output_type": "stream",
     "text": [
      "##################\n",
      "日付け 終値 始値 高値 安値 出来高 変化率 %\n",
      "2023-12-17 112.52 112.52 112.52 112.52 0.00%\n",
      "2023-12-16 112.52 112.52 112.52 112.52 +0.09%\n",
      "2023-12-15 112.41 112.55 112.75 112.12 1.83M -0.10%\n",
      "2023-12-14 112.52 112.03 112.88 111.98 3.12M +0.56%\n",
      "2023-12-13 111.89 110.58 112.11 110.50 2.37M +1.21%\n",
      "2023-12-12 110.55 110.34 110.98 110.23 1.83M +0.20%\n",
      "2023-12-11 110.33 110.30 110.41 109.98 1.44M -0.04%\n",
      "2023-12-09 110.38 110.38 110.38 110.38 +0.10%\n",
      "2023-12-08 110.27 110.98 111.03 110.02 2.16M -0.80%\n",
      "2023-12-07 111.16 111.23 111.30 110.72 1.88M +0.02%\n",
      "2023-12-06 111.14 110.91 111.27 110.64 1.75M +0.20%\n",
      "2023-12-05 110.92 110.36 110.98 110.31 1.87M +0.66%\n",
      "2023-12-04 110.19 110.84 110.84 110.11 1.64M -0.24%\n",
      "2023-12-02 110.45 110.45 110.45 110.45 -0.20%\n",
      "2023-12-01 110.67 109.95 110.88 109.78 2.39M +0.79%\n",
      "2023-11-30 109.80 110.36 110.44 109.69 2.75M -0.46%\n",
      "2023-11-29 110.31 109.94 110.48 109.91 2.55M +0.38%\n",
      "2023-11-28 109.89 109.38 109.97 109.17 2.95M +0.47%\n",
      "2023-11-27 109.38 108.80 109.42 108.58 3.76M +0.91%\n",
      "2023-11-24 108.39 108.84 108.97 108.33 2.27M -0.17%\n",
      "2023-11-23 108.58 108.91 108.97 108.50 490.75K -0.21%\n",
      "2023-11-22 108.81 109.03 109.27 108.59 3.69M -0.12%\n",
      "2023-11-21 108.94 108.86 109.11 108.73 2.96M +0.09%\n",
      "2023-11-20 108.84 108.69 108.92 108.44 1.61M +0.07%\n",
      "2023-11-18 108.77 108.77 108.77 108.77 +0.01%\n",
      "2023-11-17 108.75 108.88 109.27 108.59 1.69M -0.10%\n",
      "##################\n"
     ]
    }
   ],
   "source": [
    "from selenium import webdriver\n",
    "from selenium.webdriver.common.by import By\n",
    "import time\n",
    "from selenium.webdriver.chrome import service as fs\n",
    "from webdriver_manager.chrome import ChromeDriverManager\n",
    "\n",
    " \n",
    "# Initialize edge driver\n",
    "def get_driver():\n",
    "    options = webdriver.ChromeOptions()\n",
    "    options.add_experimental_option('excludeSwitches', ['enable-logging'])\n",
    "    options.use_chromium = True\n",
    "    chrome_service = fs.Service(executable_path=ChromeDriverManager().install()) \n",
    "    driver = webdriver.Chrome(service=chrome_service, options=options)\n",
    "    return driver\n",
    "driver = get_driver()\n",
    "\n",
    "# download page\n",
    "driver.get('https://jp.investing.com/rates-bonds/us-10-yr-t-note-historical-data')\n",
    "\n",
    "# wait few seconds\n",
    "driver.implicitly_wait(10)\n",
    "\n",
    "'''\n",
    "# we need to accept cookies, etc\n",
    "element = driver.find_element(By.ID, 'onetrust-accept-btn-handler')\n",
    "driver.execute_script(\"arguments[0].click();\", element)\n",
    "'''\n",
    "# get value using XPATH\n",
    "number = driver.find_element(By.XPATH,'//*[@id=\"__next\"]/div[2]/div[2]/div[2]/div[1]/div[2]/div[3]/table')\n",
    "\n",
    "# done :)\n",
    "print(\"##################\")\n",
    "print(number.text)\n",
    "print(\"##################\")\n",
    "\n",
    "# some cleanup"
   ]
  },
  {
   "cell_type": "code",
   "execution_count": 23,
   "id": "b23541c8",
   "metadata": {},
   "outputs": [
    {
     "data": {
      "text/plain": [
       "'日付け 終値 始値 高値 安値 出来高 変化率 %\\n2023-12-01 146.29 146.44 146.74 146.14 37.62K -0.12%\\n2023-11-30 146.46 146.69 147.16 146.32 56.81K -0.11%\\n2023-11-29 146.62 145.84 146.63 145.78 38.15K +0.53%\\n2023-11-28 145.85 145.72 145.99 145.65 32.04K +0.10%\\n2023-11-27 145.70 145.64 145.74 145.53 25.24K +0.03%\\n2023-11-24 145.66 146.06 146.25 145.59 39.27K -0.20%\\n2023-11-23 145.95 146.06 146.12 145.94 -0.08%\\n2023-11-22 146.06 146.29 146.43 145.95 39.80K -0.16%\\n2023-11-21 146.30 145.81 146.39 145.75 41.96K +0.32%\\n2023-11-20 145.83 145.73 146.03 145.60 33.49K +0.07%\\n2023-11-17 145.73 145.34 146.06 145.29 44.51K +0.28%\\n2023-11-16 145.33 145.27 145.38 145.10 35.55K +0.06%\\n2023-11-15 145.25 144.61 145.55 144.57 52.02K +0.44%\\n2023-11-14 144.62 144.39 144.67 144.26 29.29K +0.17%\\n2023-11-13 144.38 144.51 144.64 144.18 25.81K -0.11%\\n2023-11-10 144.54 144.79 144.84 144.40 32.70K -0.15%\\n2023-11-09 144.76 144.65 144.89 144.58 33.93K +0.06%\\n2023-11-08 144.67 144.32 144.72 144.25 32.36K +0.23%\\n2023-11-07 144.34 144.41 144.43 144.17 26.86K -0.06%\\n2023-11-06 144.42 144.05 144.55 143.81 38.83K +0.08%\\n2023-11-03 144.30 144.10 144.32 144.06 +0.15%'"
      ]
     },
     "execution_count": 23,
     "metadata": {},
     "output_type": "execute_result"
    }
   ],
   "source": [
    "import pandas as pd\n"
   ]
  },
  {
   "cell_type": "code",
   "execution_count": 5,
   "id": "f6cebf35",
   "metadata": {},
   "outputs": [
    {
     "ename": "AttributeError",
     "evalue": "'WebDriver' object has no attribute 'find_element_by_name'",
     "output_type": "error",
     "traceback": [
      "\u001b[1;31m---------------------------------------------------------------------------\u001b[0m",
      "\u001b[1;31mAttributeError\u001b[0m                            Traceback (most recent call last)",
      "Cell \u001b[1;32mIn[5], line 2\u001b[0m\n\u001b[0;32m      1\u001b[0m \u001b[38;5;66;03m#　指定した日付を入力\u001b[39;00m\n\u001b[1;32m----> 2\u001b[0m days \u001b[38;5;241m=\u001b[39m driver\u001b[38;5;241m.\u001b[39mfind_element_by_name(\u001b[38;5;124m\"\u001b[39m\u001b[38;5;124mdays_name\u001b[39m\u001b[38;5;124m\"\u001b[39m)\n\u001b[0;32m      3\u001b[0m days\u001b[38;5;241m.\u001b[39msend_keys(\u001b[38;5;124m\"\u001b[39m\u001b[38;5;124m2020-01-01\u001b[39m\u001b[38;5;124m\"\u001b[39m)\n",
      "\u001b[1;31mAttributeError\u001b[0m: 'WebDriver' object has no attribute 'find_element_by_name'"
     ]
    }
   ],
   "source": [
    "#　指定した日付を入力\n",
    "days = driver.find_element_by_name(\"days_name\")\n",
    "days.send_keys(\"2020-01-01\")"
   ]
  },
  {
   "cell_type": "code",
   "execution_count": 9,
   "id": "0eb815a4",
   "metadata": {},
   "outputs": [
    {
     "ename": "AttributeError",
     "evalue": "'str' object has no attribute 'capabilities'",
     "output_type": "error",
     "traceback": [
      "\u001b[1;31m---------------------------------------------------------------------------\u001b[0m",
      "\u001b[1;31mAttributeError\u001b[0m                            Traceback (most recent call last)",
      "File \u001b[1;32m~\\anaconda3\\Lib\\site-packages\\selenium\\webdriver\\common\\driver_finder.py:38\u001b[0m, in \u001b[0;36mDriverFinder.get_path\u001b[1;34m(service, options)\u001b[0m\n\u001b[0;32m     37\u001b[0m \u001b[38;5;28;01mtry\u001b[39;00m:\n\u001b[1;32m---> 38\u001b[0m     path \u001b[38;5;241m=\u001b[39m SeleniumManager()\u001b[38;5;241m.\u001b[39mdriver_location(options) \u001b[38;5;28;01mif\u001b[39;00m path \u001b[38;5;129;01mis\u001b[39;00m \u001b[38;5;28;01mNone\u001b[39;00m \u001b[38;5;28;01melse\u001b[39;00m path\n\u001b[0;32m     39\u001b[0m \u001b[38;5;28;01mexcept\u001b[39;00m \u001b[38;5;167;01mException\u001b[39;00m \u001b[38;5;28;01mas\u001b[39;00m err:\n",
      "File \u001b[1;32m~\\anaconda3\\Lib\\site-packages\\selenium\\webdriver\\common\\selenium_manager.py:75\u001b[0m, in \u001b[0;36mSeleniumManager.driver_location\u001b[1;34m(self, options)\u001b[0m\n\u001b[0;32m     68\u001b[0m \u001b[38;5;250m\u001b[39m\u001b[38;5;124;03m\"\"\"Determines the path of the correct driver.\u001b[39;00m\n\u001b[0;32m     69\u001b[0m \n\u001b[0;32m     70\u001b[0m \u001b[38;5;124;03m:Args:\u001b[39;00m\n\u001b[0;32m     71\u001b[0m \u001b[38;5;124;03m - browser: which browser to get the driver path for.\u001b[39;00m\n\u001b[0;32m     72\u001b[0m \u001b[38;5;124;03m:Returns: The driver path to use\u001b[39;00m\n\u001b[0;32m     73\u001b[0m \u001b[38;5;124;03m\"\"\"\u001b[39;00m\n\u001b[1;32m---> 75\u001b[0m browser \u001b[38;5;241m=\u001b[39m options\u001b[38;5;241m.\u001b[39mcapabilities[\u001b[38;5;124m\"\u001b[39m\u001b[38;5;124mbrowserName\u001b[39m\u001b[38;5;124m\"\u001b[39m]\n\u001b[0;32m     77\u001b[0m args \u001b[38;5;241m=\u001b[39m [\u001b[38;5;28mstr\u001b[39m(\u001b[38;5;28mself\u001b[39m\u001b[38;5;241m.\u001b[39mget_binary()), \u001b[38;5;124m\"\u001b[39m\u001b[38;5;124m--browser\u001b[39m\u001b[38;5;124m\"\u001b[39m, browser]\n",
      "\u001b[1;31mAttributeError\u001b[0m: 'str' object has no attribute 'capabilities'",
      "\nDuring handling of the above exception, another exception occurred:\n",
      "\u001b[1;31mAttributeError\u001b[0m                            Traceback (most recent call last)",
      "Cell \u001b[1;32mIn[9], line 11\u001b[0m\n\u001b[0;32m      7\u001b[0m \u001b[38;5;28;01mimport\u001b[39;00m \u001b[38;5;21;01mdatetime\u001b[39;00m\n\u001b[0;32m     10\u001b[0m \u001b[38;5;66;03m# 1.操作するブラウザ\u001b[39;00m\n\u001b[1;32m---> 11\u001b[0m driver \u001b[38;5;241m=\u001b[39m webdriver\u001b[38;5;241m.\u001b[39mChrome(\u001b[38;5;124m'\u001b[39m\u001b[38;5;124mC:/Users/oono/Downloads/chromedriver_win32/chromedriver\u001b[39m\u001b[38;5;124m'\u001b[39m)\n\u001b[0;32m     13\u001b[0m \u001b[38;5;66;03m# 2.操作するページを開く\u001b[39;00m\n\u001b[0;32m     14\u001b[0m driver\u001b[38;5;241m.\u001b[39mget(\u001b[38;5;124m'\u001b[39m\u001b[38;5;124mURL\u001b[39m\u001b[38;5;124m'\u001b[39m)\n",
      "File \u001b[1;32m~\\anaconda3\\Lib\\site-packages\\selenium\\webdriver\\chrome\\webdriver.py:45\u001b[0m, in \u001b[0;36mWebDriver.__init__\u001b[1;34m(self, options, service, keep_alive)\u001b[0m\n\u001b[0;32m     42\u001b[0m service \u001b[38;5;241m=\u001b[39m service \u001b[38;5;28;01mif\u001b[39;00m service \u001b[38;5;28;01melse\u001b[39;00m Service()\n\u001b[0;32m     43\u001b[0m options \u001b[38;5;241m=\u001b[39m options \u001b[38;5;28;01mif\u001b[39;00m options \u001b[38;5;28;01melse\u001b[39;00m Options()\n\u001b[1;32m---> 45\u001b[0m \u001b[38;5;28msuper\u001b[39m()\u001b[38;5;241m.\u001b[39m\u001b[38;5;21m__init__\u001b[39m(\n\u001b[0;32m     46\u001b[0m     DesiredCapabilities\u001b[38;5;241m.\u001b[39mCHROME[\u001b[38;5;124m\"\u001b[39m\u001b[38;5;124mbrowserName\u001b[39m\u001b[38;5;124m\"\u001b[39m],\n\u001b[0;32m     47\u001b[0m     \u001b[38;5;124m\"\u001b[39m\u001b[38;5;124mgoog\u001b[39m\u001b[38;5;124m\"\u001b[39m,\n\u001b[0;32m     48\u001b[0m     options,\n\u001b[0;32m     49\u001b[0m     service,\n\u001b[0;32m     50\u001b[0m     keep_alive,\n\u001b[0;32m     51\u001b[0m )\n",
      "File \u001b[1;32m~\\anaconda3\\Lib\\site-packages\\selenium\\webdriver\\chromium\\webdriver.py:51\u001b[0m, in \u001b[0;36mChromiumDriver.__init__\u001b[1;34m(self, browser_name, vendor_prefix, options, service, keep_alive)\u001b[0m\n\u001b[0;32m     47\u001b[0m \u001b[38;5;28mself\u001b[39m\u001b[38;5;241m.\u001b[39mvendor_prefix \u001b[38;5;241m=\u001b[39m vendor_prefix\n\u001b[0;32m     49\u001b[0m \u001b[38;5;28mself\u001b[39m\u001b[38;5;241m.\u001b[39mservice \u001b[38;5;241m=\u001b[39m service\n\u001b[1;32m---> 51\u001b[0m \u001b[38;5;28mself\u001b[39m\u001b[38;5;241m.\u001b[39mservice\u001b[38;5;241m.\u001b[39mpath \u001b[38;5;241m=\u001b[39m DriverFinder\u001b[38;5;241m.\u001b[39mget_path(\u001b[38;5;28mself\u001b[39m\u001b[38;5;241m.\u001b[39mservice, options)\n\u001b[0;32m     53\u001b[0m \u001b[38;5;28mself\u001b[39m\u001b[38;5;241m.\u001b[39mservice\u001b[38;5;241m.\u001b[39mstart()\n\u001b[0;32m     55\u001b[0m \u001b[38;5;28;01mtry\u001b[39;00m:\n",
      "File \u001b[1;32m~\\anaconda3\\Lib\\site-packages\\selenium\\webdriver\\common\\driver_finder.py:40\u001b[0m, in \u001b[0;36mDriverFinder.get_path\u001b[1;34m(service, options)\u001b[0m\n\u001b[0;32m     38\u001b[0m     path \u001b[38;5;241m=\u001b[39m SeleniumManager()\u001b[38;5;241m.\u001b[39mdriver_location(options) \u001b[38;5;28;01mif\u001b[39;00m path \u001b[38;5;129;01mis\u001b[39;00m \u001b[38;5;28;01mNone\u001b[39;00m \u001b[38;5;28;01melse\u001b[39;00m path\n\u001b[0;32m     39\u001b[0m \u001b[38;5;28;01mexcept\u001b[39;00m \u001b[38;5;167;01mException\u001b[39;00m \u001b[38;5;28;01mas\u001b[39;00m err:\n\u001b[1;32m---> 40\u001b[0m     msg \u001b[38;5;241m=\u001b[39m \u001b[38;5;124mf\u001b[39m\u001b[38;5;124m\"\u001b[39m\u001b[38;5;124mUnable to obtain driver for \u001b[39m\u001b[38;5;132;01m{\u001b[39;00moptions\u001b[38;5;241m.\u001b[39mcapabilities[\u001b[38;5;124m'\u001b[39m\u001b[38;5;124mbrowserName\u001b[39m\u001b[38;5;124m'\u001b[39m]\u001b[38;5;132;01m}\u001b[39;00m\u001b[38;5;124m using Selenium Manager.\u001b[39m\u001b[38;5;124m\"\u001b[39m\n\u001b[0;32m     41\u001b[0m     \u001b[38;5;28;01mraise\u001b[39;00m NoSuchDriverException(msg) \u001b[38;5;28;01mfrom\u001b[39;00m \u001b[38;5;21;01merr\u001b[39;00m\n\u001b[0;32m     43\u001b[0m \u001b[38;5;28;01mif\u001b[39;00m path \u001b[38;5;129;01mis\u001b[39;00m \u001b[38;5;28;01mNone\u001b[39;00m \u001b[38;5;129;01mor\u001b[39;00m \u001b[38;5;129;01mnot\u001b[39;00m Path(path)\u001b[38;5;241m.\u001b[39mis_file():\n",
      "\u001b[1;31mAttributeError\u001b[0m: 'str' object has no attribute 'capabilities'"
     ]
    }
   ],
   "source": [
    "from selenium import webdriver\n",
    "from selenium.webdriver.common.keys import Keys\n",
    "from selenium.webdriver.support.ui import WebDriverWait\n",
    "from selenium.webdriver.support import expected_conditions\n",
    "from selenium.webdriver.common.by import By\n",
    "from selenium.webdriver.support.ui import Select\n",
    "import datetime\n",
    "\n",
    "\n",
    "# 1.操作するブラウザ\n",
    "#YYYYdriver = webdriver.Chrome('C:/Users/oono/Downloads/chromedriver_win32/chromedriver')\n",
    "\n",
    "# 2.操作するページを開く\n",
    "driver.get('URL')\n",
    "\n",
    "# ３．本日の日付\n",
    "d_today = datetime.date.today()\n",
    "\n",
    "#　４．本日の日付を入力\n",
    "days = driver.find_element_by_name(\"days_name\")\n",
    "days.send_keys(\"{d_today}\")\n",
    "days.send_keys(Keys.ENTER)"
   ]
  },
  {
   "cell_type": "code",
   "execution_count": null,
   "id": "61e69f16",
   "metadata": {},
   "outputs": [],
   "source": []
  }
 ],
 "metadata": {
  "kernelspec": {
   "display_name": "Python 3 (ipykernel)",
   "language": "python",
   "name": "python3"
  },
  "language_info": {
   "codemirror_mode": {
    "name": "ipython",
    "version": 3
   },
   "file_extension": ".py",
   "mimetype": "text/x-python",
   "name": "python",
   "nbconvert_exporter": "python",
   "pygments_lexer": "ipython3",
   "version": "3.11.5"
  }
 },
 "nbformat": 4,
 "nbformat_minor": 5
}
