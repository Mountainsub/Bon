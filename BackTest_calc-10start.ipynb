{
 "cells": [
  {
   "cell_type": "code",
   "execution_count": 1,
   "metadata": {},
   "outputs": [],
   "source": [
    "\n",
    "# import module list is independent on respective file.\n",
    "import yfinance as yf\n",
    "import numpy as np\n",
    "import pandas as pd\n",
    "%matplotlib inline\n",
    "import matplotlib.pyplot as plt\n",
    "\n",
    "\n",
    "\n",
    "from datetime import datetime as dt\n",
    "from datetime import date as date\n",
    "from datetime import timedelta\n",
    "from dateutil.relativedelta import relativedelta\n",
    "\n",
    "\n",
    "from scipy.stats import mstats\n",
    "import japanize_matplotlib\n",
    "\n"
   ]
  },
  {
   "cell_type": "code",
   "execution_count": 2,
   "metadata": {},
   "outputs": [],
   "source": [
    "\n",
    "def folding_price_data(df, index2):\n",
    "       \n",
    "\n",
    "\n",
    "    DATA = pd.DataFrame({})\n",
    "\n",
    "\n",
    "    for i in range(0,len(df), index2):\n",
    "\n",
    "        try:\n",
    "            temp = df.iloc[i:index2+i,:]\n",
    "        except:\n",
    "            temp = df.iloc[i:,:]\n",
    "        M, m = max(temp[\"High\"]), min(temp[\"Low\"])\n",
    "        open_p, close_p = temp['Open'].values[0], temp['Close'].values[-1]\n",
    "        tp = pd.DataFrame({'Open':[open_p], 'High':[M], 'Low':[m], 'Close':[close_p]}, index=[temp.index.to_list()[0]])\n",
    "        DATA = pd.concat([DATA, tp], axis=0)\n",
    "        \n",
    "\n",
    "    #DATA.index = df.query('@df.index.month % @index2== 0').index\n",
    "\n",
    "    return DATA \n",
    "\n",
    "\n",
    "        "
   ]
  },
  {
   "cell_type": "code",
   "execution_count": 3,
   "metadata": {},
   "outputs": [
    {
     "data": {
      "text/html": [
       "<div>\n",
       "<style scoped>\n",
       "    .dataframe tbody tr th:only-of-type {\n",
       "        vertical-align: middle;\n",
       "    }\n",
       "\n",
       "    .dataframe tbody tr th {\n",
       "        vertical-align: top;\n",
       "    }\n",
       "\n",
       "    .dataframe thead th {\n",
       "        text-align: right;\n",
       "    }\n",
       "</style>\n",
       "<table border=\"1\" class=\"dataframe\">\n",
       "  <thead>\n",
       "    <tr style=\"text-align: right;\">\n",
       "      <th></th>\n",
       "      <th>predict</th>\n",
       "    </tr>\n",
       "  </thead>\n",
       "  <tbody>\n",
       "    <tr>\n",
       "      <th>2009-01-01</th>\n",
       "      <td>0.0</td>\n",
       "    </tr>\n",
       "    <tr>\n",
       "      <th>2009-07-01</th>\n",
       "      <td>1.0</td>\n",
       "    </tr>\n",
       "    <tr>\n",
       "      <th>2010-01-01</th>\n",
       "      <td>0.0</td>\n",
       "    </tr>\n",
       "    <tr>\n",
       "      <th>2010-07-01</th>\n",
       "      <td>0.0</td>\n",
       "    </tr>\n",
       "    <tr>\n",
       "      <th>2011-01-01</th>\n",
       "      <td>0.0</td>\n",
       "    </tr>\n",
       "    <tr>\n",
       "      <th>2011-07-01</th>\n",
       "      <td>1.0</td>\n",
       "    </tr>\n",
       "    <tr>\n",
       "      <th>2012-01-01</th>\n",
       "      <td>0.0</td>\n",
       "    </tr>\n",
       "    <tr>\n",
       "      <th>2012-07-01</th>\n",
       "      <td>1.0</td>\n",
       "    </tr>\n",
       "    <tr>\n",
       "      <th>2013-01-01</th>\n",
       "      <td>1.0</td>\n",
       "    </tr>\n",
       "    <tr>\n",
       "      <th>2013-07-01</th>\n",
       "      <td>1.0</td>\n",
       "    </tr>\n",
       "    <tr>\n",
       "      <th>2014-01-01</th>\n",
       "      <td>1.0</td>\n",
       "    </tr>\n",
       "    <tr>\n",
       "      <th>2014-07-01</th>\n",
       "      <td>0.0</td>\n",
       "    </tr>\n",
       "    <tr>\n",
       "      <th>2015-01-01</th>\n",
       "      <td>0.0</td>\n",
       "    </tr>\n",
       "    <tr>\n",
       "      <th>2015-07-01</th>\n",
       "      <td>0.0</td>\n",
       "    </tr>\n",
       "    <tr>\n",
       "      <th>2016-01-01</th>\n",
       "      <td>0.0</td>\n",
       "    </tr>\n",
       "    <tr>\n",
       "      <th>2016-07-01</th>\n",
       "      <td>0.0</td>\n",
       "    </tr>\n",
       "    <tr>\n",
       "      <th>2017-01-01</th>\n",
       "      <td>0.0</td>\n",
       "    </tr>\n",
       "    <tr>\n",
       "      <th>2017-07-01</th>\n",
       "      <td>1.0</td>\n",
       "    </tr>\n",
       "    <tr>\n",
       "      <th>2018-01-01</th>\n",
       "      <td>0.0</td>\n",
       "    </tr>\n",
       "    <tr>\n",
       "      <th>2018-07-01</th>\n",
       "      <td>1.0</td>\n",
       "    </tr>\n",
       "    <tr>\n",
       "      <th>2019-01-01</th>\n",
       "      <td>1.0</td>\n",
       "    </tr>\n",
       "    <tr>\n",
       "      <th>2019-07-01</th>\n",
       "      <td>1.0</td>\n",
       "    </tr>\n",
       "    <tr>\n",
       "      <th>2020-01-01</th>\n",
       "      <td>0.0</td>\n",
       "    </tr>\n",
       "    <tr>\n",
       "      <th>2020-07-01</th>\n",
       "      <td>0.0</td>\n",
       "    </tr>\n",
       "    <tr>\n",
       "      <th>2021-01-01</th>\n",
       "      <td>0.0</td>\n",
       "    </tr>\n",
       "    <tr>\n",
       "      <th>2021-07-01</th>\n",
       "      <td>1.0</td>\n",
       "    </tr>\n",
       "    <tr>\n",
       "      <th>2022-01-01</th>\n",
       "      <td>1.0</td>\n",
       "    </tr>\n",
       "    <tr>\n",
       "      <th>2022-07-01</th>\n",
       "      <td>1.0</td>\n",
       "    </tr>\n",
       "    <tr>\n",
       "      <th>2023-01-01</th>\n",
       "      <td>0.0</td>\n",
       "    </tr>\n",
       "    <tr>\n",
       "      <th>2023-07-01</th>\n",
       "      <td>1.0</td>\n",
       "    </tr>\n",
       "  </tbody>\n",
       "</table>\n",
       "</div>"
      ],
      "text/plain": [
       "            predict\n",
       "2009-01-01      0.0\n",
       "2009-07-01      1.0\n",
       "2010-01-01      0.0\n",
       "2010-07-01      0.0\n",
       "2011-01-01      0.0\n",
       "2011-07-01      1.0\n",
       "2012-01-01      0.0\n",
       "2012-07-01      1.0\n",
       "2013-01-01      1.0\n",
       "2013-07-01      1.0\n",
       "2014-01-01      1.0\n",
       "2014-07-01      0.0\n",
       "2015-01-01      0.0\n",
       "2015-07-01      0.0\n",
       "2016-01-01      0.0\n",
       "2016-07-01      0.0\n",
       "2017-01-01      0.0\n",
       "2017-07-01      1.0\n",
       "2018-01-01      0.0\n",
       "2018-07-01      1.0\n",
       "2019-01-01      1.0\n",
       "2019-07-01      1.0\n",
       "2020-01-01      0.0\n",
       "2020-07-01      0.0\n",
       "2021-01-01      0.0\n",
       "2021-07-01      1.0\n",
       "2022-01-01      1.0\n",
       "2022-07-01      1.0\n",
       "2023-01-01      0.0\n",
       "2023-07-01      1.0"
      ]
     },
     "execution_count": 3,
     "metadata": {},
     "output_type": "execute_result"
    }
   ],
   "source": [
    "# 月時価格データおよび予測\n",
    "\n",
    "predict = pd.read_csv(\"./prediction/\" + 'US' + f\"3mo1218Test2.csv\", index_col=0, parse_dates=True)\n",
    "predict"
   ]
  },
  {
   "cell_type": "code",
   "execution_count": 4,
   "metadata": {},
   "outputs": [
    {
     "name": "stdout",
     "output_type": "stream",
     "text": [
      "[*********************100%%**********************]  1 of 1 completed\n"
     ]
    },
    {
     "data": {
      "text/html": [
       "<div>\n",
       "<style scoped>\n",
       "    .dataframe tbody tr th:only-of-type {\n",
       "        vertical-align: middle;\n",
       "    }\n",
       "\n",
       "    .dataframe tbody tr th {\n",
       "        vertical-align: top;\n",
       "    }\n",
       "\n",
       "    .dataframe thead th {\n",
       "        text-align: right;\n",
       "    }\n",
       "</style>\n",
       "<table border=\"1\" class=\"dataframe\">\n",
       "  <thead>\n",
       "    <tr style=\"text-align: right;\">\n",
       "      <th></th>\n",
       "      <th>Open</th>\n",
       "      <th>High</th>\n",
       "      <th>Low</th>\n",
       "      <th>Close</th>\n",
       "      <th>Adj Close</th>\n",
       "      <th>Volume</th>\n",
       "    </tr>\n",
       "    <tr>\n",
       "      <th>Date</th>\n",
       "      <th></th>\n",
       "      <th></th>\n",
       "      <th></th>\n",
       "      <th></th>\n",
       "      <th></th>\n",
       "      <th></th>\n",
       "    </tr>\n",
       "  </thead>\n",
       "  <tbody>\n",
       "    <tr>\n",
       "      <th>2011-09-01</th>\n",
       "      <td>57.060001</td>\n",
       "      <td>57.380001</td>\n",
       "      <td>50.430000</td>\n",
       "      <td>50.570000</td>\n",
       "      <td>32.916214</td>\n",
       "      <td>231594400</td>\n",
       "    </tr>\n",
       "    <tr>\n",
       "      <th>2011-10-01</th>\n",
       "      <td>50.180000</td>\n",
       "      <td>58.180000</td>\n",
       "      <td>46.700001</td>\n",
       "      <td>57.240002</td>\n",
       "      <td>37.659756</td>\n",
       "      <td>243037900</td>\n",
       "    </tr>\n",
       "    <tr>\n",
       "      <th>2011-11-01</th>\n",
       "      <td>55.720001</td>\n",
       "      <td>57.529999</td>\n",
       "      <td>51.230000</td>\n",
       "      <td>55.139999</td>\n",
       "      <td>36.278107</td>\n",
       "      <td>172846900</td>\n",
       "    </tr>\n",
       "    <tr>\n",
       "      <th>2011-12-01</th>\n",
       "      <td>54.990002</td>\n",
       "      <td>57.660000</td>\n",
       "      <td>53.509998</td>\n",
       "      <td>56.810001</td>\n",
       "      <td>37.376846</td>\n",
       "      <td>116678700</td>\n",
       "    </tr>\n",
       "    <tr>\n",
       "      <th>2012-01-01</th>\n",
       "      <td>57.740002</td>\n",
       "      <td>61.020000</td>\n",
       "      <td>56.060001</td>\n",
       "      <td>60.560001</td>\n",
       "      <td>40.261250</td>\n",
       "      <td>116124600</td>\n",
       "    </tr>\n",
       "    <tr>\n",
       "      <th>...</th>\n",
       "      <td>...</td>\n",
       "      <td>...</td>\n",
       "      <td>...</td>\n",
       "      <td>...</td>\n",
       "      <td>...</td>\n",
       "      <td>...</td>\n",
       "    </tr>\n",
       "    <tr>\n",
       "      <th>2023-05-01</th>\n",
       "      <td>85.360001</td>\n",
       "      <td>85.889999</td>\n",
       "      <td>79.940002</td>\n",
       "      <td>82.230003</td>\n",
       "      <td>80.245605</td>\n",
       "      <td>124955000</td>\n",
       "    </tr>\n",
       "    <tr>\n",
       "      <th>2023-06-01</th>\n",
       "      <td>82.089996</td>\n",
       "      <td>87.040001</td>\n",
       "      <td>81.360001</td>\n",
       "      <td>86.540001</td>\n",
       "      <td>84.451599</td>\n",
       "      <td>129892000</td>\n",
       "    </tr>\n",
       "    <tr>\n",
       "      <th>2023-07-01</th>\n",
       "      <td>86.440002</td>\n",
       "      <td>90.339996</td>\n",
       "      <td>85.269997</td>\n",
       "      <td>88.050003</td>\n",
       "      <td>86.330795</td>\n",
       "      <td>125916200</td>\n",
       "    </tr>\n",
       "    <tr>\n",
       "      <th>2023-08-01</th>\n",
       "      <td>87.830002</td>\n",
       "      <td>88.220001</td>\n",
       "      <td>81.750000</td>\n",
       "      <td>85.339996</td>\n",
       "      <td>83.673706</td>\n",
       "      <td>122352100</td>\n",
       "    </tr>\n",
       "    <tr>\n",
       "      <th>2023-09-01</th>\n",
       "      <td>85.720001</td>\n",
       "      <td>86.099998</td>\n",
       "      <td>76.750000</td>\n",
       "      <td>78.139999</td>\n",
       "      <td>76.614288</td>\n",
       "      <td>126007700</td>\n",
       "    </tr>\n",
       "  </tbody>\n",
       "</table>\n",
       "<p>145 rows × 6 columns</p>\n",
       "</div>"
      ],
      "text/plain": [
       "                 Open       High        Low      Close  Adj Close     Volume\n",
       "Date                                                                        \n",
       "2011-09-01  57.060001  57.380001  50.430000  50.570000  32.916214  231594400\n",
       "2011-10-01  50.180000  58.180000  46.700001  57.240002  37.659756  243037900\n",
       "2011-11-01  55.720001  57.529999  51.230000  55.139999  36.278107  172846900\n",
       "2011-12-01  54.990002  57.660000  53.509998  56.810001  37.376846  116678700\n",
       "2012-01-01  57.740002  61.020000  56.060001  60.560001  40.261250  116124600\n",
       "...               ...        ...        ...        ...        ...        ...\n",
       "2023-05-01  85.360001  85.889999  79.940002  82.230003  80.245605  124955000\n",
       "2023-06-01  82.089996  87.040001  81.360001  86.540001  84.451599  129892000\n",
       "2023-07-01  86.440002  90.339996  85.269997  88.050003  86.330795  125916200\n",
       "2023-08-01  87.830002  88.220001  81.750000  85.339996  83.673706  122352100\n",
       "2023-09-01  85.720001  86.099998  76.750000  78.139999  76.614288  126007700\n",
       "\n",
       "[145 rows x 6 columns]"
      ]
     },
     "execution_count": 4,
     "metadata": {},
     "output_type": "execute_result"
    }
   ],
   "source": [
    "ticker = 'IYR'\n",
    "price = yf.download(ticker, start='2011-09-01', end='2023-09-30', interval='1mo')\n",
    "\n",
    "price"
   ]
  },
  {
   "cell_type": "code",
   "execution_count": 5,
   "metadata": {},
   "outputs": [
    {
     "name": "stdout",
     "output_type": "stream",
     "text": [
      "[*********************100%%**********************]  1 of 1 completed\n"
     ]
    },
    {
     "data": {
      "text/html": [
       "<div>\n",
       "<style scoped>\n",
       "    .dataframe tbody tr th:only-of-type {\n",
       "        vertical-align: middle;\n",
       "    }\n",
       "\n",
       "    .dataframe tbody tr th {\n",
       "        vertical-align: top;\n",
       "    }\n",
       "\n",
       "    .dataframe thead th {\n",
       "        text-align: right;\n",
       "    }\n",
       "</style>\n",
       "<table border=\"1\" class=\"dataframe\">\n",
       "  <thead>\n",
       "    <tr style=\"text-align: right;\">\n",
       "      <th></th>\n",
       "      <th>Open</th>\n",
       "      <th>High</th>\n",
       "      <th>Low</th>\n",
       "      <th>Close</th>\n",
       "      <th>Adj Close</th>\n",
       "      <th>Volume</th>\n",
       "      <th>Trade</th>\n",
       "      <th>year</th>\n",
       "      <th>month</th>\n",
       "    </tr>\n",
       "    <tr>\n",
       "      <th>Date</th>\n",
       "      <th></th>\n",
       "      <th></th>\n",
       "      <th></th>\n",
       "      <th></th>\n",
       "      <th></th>\n",
       "      <th></th>\n",
       "      <th></th>\n",
       "      <th></th>\n",
       "      <th></th>\n",
       "    </tr>\n",
       "  </thead>\n",
       "  <tbody>\n",
       "    <tr>\n",
       "      <th>2011-01-03</th>\n",
       "      <td>56.290001</td>\n",
       "      <td>56.930000</td>\n",
       "      <td>56.250000</td>\n",
       "      <td>56.830002</td>\n",
       "      <td>36.340218</td>\n",
       "      <td>8221200</td>\n",
       "      <td>0.0</td>\n",
       "      <td>2011</td>\n",
       "      <td>1</td>\n",
       "    </tr>\n",
       "    <tr>\n",
       "      <th>2011-01-04</th>\n",
       "      <td>57.000000</td>\n",
       "      <td>57.080002</td>\n",
       "      <td>55.560001</td>\n",
       "      <td>55.820000</td>\n",
       "      <td>35.694359</td>\n",
       "      <td>11275100</td>\n",
       "      <td>0.0</td>\n",
       "      <td>2011</td>\n",
       "      <td>1</td>\n",
       "    </tr>\n",
       "    <tr>\n",
       "      <th>2011-01-05</th>\n",
       "      <td>55.639999</td>\n",
       "      <td>56.169998</td>\n",
       "      <td>55.599998</td>\n",
       "      <td>56.049999</td>\n",
       "      <td>35.841434</td>\n",
       "      <td>9167100</td>\n",
       "      <td>0.0</td>\n",
       "      <td>2011</td>\n",
       "      <td>1</td>\n",
       "    </tr>\n",
       "    <tr>\n",
       "      <th>2011-01-06</th>\n",
       "      <td>56.139999</td>\n",
       "      <td>56.230000</td>\n",
       "      <td>55.619999</td>\n",
       "      <td>55.750000</td>\n",
       "      <td>35.649593</td>\n",
       "      <td>6797500</td>\n",
       "      <td>0.0</td>\n",
       "      <td>2011</td>\n",
       "      <td>1</td>\n",
       "    </tr>\n",
       "    <tr>\n",
       "      <th>2011-01-07</th>\n",
       "      <td>55.900002</td>\n",
       "      <td>56.099998</td>\n",
       "      <td>55.230000</td>\n",
       "      <td>55.730000</td>\n",
       "      <td>35.636810</td>\n",
       "      <td>10495700</td>\n",
       "      <td>0.0</td>\n",
       "      <td>2011</td>\n",
       "      <td>1</td>\n",
       "    </tr>\n",
       "    <tr>\n",
       "      <th>...</th>\n",
       "      <td>...</td>\n",
       "      <td>...</td>\n",
       "      <td>...</td>\n",
       "      <td>...</td>\n",
       "      <td>...</td>\n",
       "      <td>...</td>\n",
       "      <td>...</td>\n",
       "      <td>...</td>\n",
       "      <td>...</td>\n",
       "    </tr>\n",
       "    <tr>\n",
       "      <th>2011-05-19</th>\n",
       "      <td>61.619999</td>\n",
       "      <td>61.980000</td>\n",
       "      <td>61.250000</td>\n",
       "      <td>61.660000</td>\n",
       "      <td>39.772324</td>\n",
       "      <td>5112300</td>\n",
       "      <td>0.0</td>\n",
       "      <td>2011</td>\n",
       "      <td>5</td>\n",
       "    </tr>\n",
       "    <tr>\n",
       "      <th>2011-05-20</th>\n",
       "      <td>61.450001</td>\n",
       "      <td>61.660000</td>\n",
       "      <td>60.980000</td>\n",
       "      <td>61.029999</td>\n",
       "      <td>39.365959</td>\n",
       "      <td>5737100</td>\n",
       "      <td>0.0</td>\n",
       "      <td>2011</td>\n",
       "      <td>5</td>\n",
       "    </tr>\n",
       "    <tr>\n",
       "      <th>2011-05-23</th>\n",
       "      <td>60.389999</td>\n",
       "      <td>60.689999</td>\n",
       "      <td>60.290001</td>\n",
       "      <td>60.389999</td>\n",
       "      <td>38.953144</td>\n",
       "      <td>10880900</td>\n",
       "      <td>0.0</td>\n",
       "      <td>2011</td>\n",
       "      <td>5</td>\n",
       "    </tr>\n",
       "    <tr>\n",
       "      <th>2011-05-24</th>\n",
       "      <td>60.480000</td>\n",
       "      <td>60.779999</td>\n",
       "      <td>60.349998</td>\n",
       "      <td>60.570000</td>\n",
       "      <td>39.069263</td>\n",
       "      <td>5952100</td>\n",
       "      <td>0.0</td>\n",
       "      <td>2011</td>\n",
       "      <td>5</td>\n",
       "    </tr>\n",
       "    <tr>\n",
       "      <th>2011-05-25</th>\n",
       "      <td>60.450001</td>\n",
       "      <td>61.130001</td>\n",
       "      <td>60.070000</td>\n",
       "      <td>60.820000</td>\n",
       "      <td>39.230515</td>\n",
       "      <td>7244500</td>\n",
       "      <td>0.0</td>\n",
       "      <td>2011</td>\n",
       "      <td>5</td>\n",
       "    </tr>\n",
       "  </tbody>\n",
       "</table>\n",
       "<p>100 rows × 9 columns</p>\n",
       "</div>"
      ],
      "text/plain": [
       "                 Open       High        Low      Close  Adj Close    Volume  \\\n",
       "Date                                                                          \n",
       "2011-01-03  56.290001  56.930000  56.250000  56.830002  36.340218   8221200   \n",
       "2011-01-04  57.000000  57.080002  55.560001  55.820000  35.694359  11275100   \n",
       "2011-01-05  55.639999  56.169998  55.599998  56.049999  35.841434   9167100   \n",
       "2011-01-06  56.139999  56.230000  55.619999  55.750000  35.649593   6797500   \n",
       "2011-01-07  55.900002  56.099998  55.230000  55.730000  35.636810  10495700   \n",
       "...               ...        ...        ...        ...        ...       ...   \n",
       "2011-05-19  61.619999  61.980000  61.250000  61.660000  39.772324   5112300   \n",
       "2011-05-20  61.450001  61.660000  60.980000  61.029999  39.365959   5737100   \n",
       "2011-05-23  60.389999  60.689999  60.290001  60.389999  38.953144  10880900   \n",
       "2011-05-24  60.480000  60.779999  60.349998  60.570000  39.069263   5952100   \n",
       "2011-05-25  60.450001  61.130001  60.070000  60.820000  39.230515   7244500   \n",
       "\n",
       "            Trade  year  month  \n",
       "Date                            \n",
       "2011-01-03    0.0  2011      1  \n",
       "2011-01-04    0.0  2011      1  \n",
       "2011-01-05    0.0  2011      1  \n",
       "2011-01-06    0.0  2011      1  \n",
       "2011-01-07    0.0  2011      1  \n",
       "...           ...   ...    ...  \n",
       "2011-05-19    0.0  2011      5  \n",
       "2011-05-20    0.0  2011      5  \n",
       "2011-05-23    0.0  2011      5  \n",
       "2011-05-24    0.0  2011      5  \n",
       "2011-05-25    0.0  2011      5  \n",
       "\n",
       "[100 rows x 9 columns]"
      ]
     },
     "execution_count": 5,
     "metadata": {},
     "output_type": "execute_result"
    }
   ],
   "source": [
    "\n",
    "data2 = yf.download(ticker, start='2011-01-01', end='2023-06-30', interval='1d')\n",
    "switch = 0\n",
    "pd.set_option('display.max_rows', 10)\n",
    "\n",
    "\n",
    "def get_nth_week(day):\n",
    "    return (day - 1) // 7 + 1\n",
    "\n",
    "def get_nth_dow(year, month, day):\n",
    "    return get_nth_week(day), calendar.weekday(year, month, day)\n",
    "\n",
    "\n",
    "def get_nth_dow_datetime(year, month, day):\n",
    "    return get_nth_week(day), date(year, month, day).weekday()\n",
    "\n",
    "def get_date_of_nth_dow(year, month, nth, dow):\n",
    "    day = get_day_of_nth_dow(year, month, nth, dow)\n",
    "    return dt.date(year, month, day) if day else None\n",
    "\n",
    "# 12日(休日の場合は直後の平日)に決済、決済後の平日に新規購入        \n",
    "count = 0\n",
    "data3 = data2\n",
    "for i, j in data3.iterrows():\n",
    "    \n",
    "\n",
    "    if i.month % 6 != 1:\n",
    "        data3.loc[i, 'Trade'] =  0\n",
    "        continue\n",
    "\n",
    "    \n",
    "    if switch == 1:\n",
    "        switch += 1\n",
    "        data3.loc[i, 'Trade'] =  2\n",
    "        continue\n",
    "    \n",
    "    row, week_num = get_nth_dow_datetime(*[i.year, i.month, i.day])\n",
    "\n",
    "    \n",
    "    \n",
    "    \n",
    "    if (switch == 0) & (i.day>= 12):\n",
    "        data3.loc[i, 'Trade'] =  1\n",
    "        count = 0\n",
    "        switch += 1\n",
    "\n",
    "    elif i.day in range(1, 10):\n",
    "        data3.loc[i, 'Trade'] =  0\n",
    "        \n",
    "        switch = 0\n",
    "    \n",
    "    else:\n",
    "    \n",
    "        data3.loc[i, 'Trade'] =  0\n",
    "        pass\n",
    "    \n",
    "    \n",
    "        \n",
    "    \n",
    "data2 = data3.fillna({\"Trade\": float(0)})\n",
    "data2['year'], data2['month'] = data2.index.year, data2.index.month\n",
    "data2.head(100)"
   ]
  },
  {
   "cell_type": "code",
   "execution_count": 6,
   "metadata": {},
   "outputs": [
    {
     "data": {
      "text/html": [
       "<div>\n",
       "<style scoped>\n",
       "    .dataframe tbody tr th:only-of-type {\n",
       "        vertical-align: middle;\n",
       "    }\n",
       "\n",
       "    .dataframe tbody tr th {\n",
       "        vertical-align: top;\n",
       "    }\n",
       "\n",
       "    .dataframe thead th {\n",
       "        text-align: right;\n",
       "    }\n",
       "</style>\n",
       "<table border=\"1\" class=\"dataframe\">\n",
       "  <thead>\n",
       "    <tr style=\"text-align: right;\">\n",
       "      <th></th>\n",
       "      <th>Open</th>\n",
       "      <th>High</th>\n",
       "      <th>Low</th>\n",
       "      <th>Close</th>\n",
       "      <th>predict</th>\n",
       "    </tr>\n",
       "  </thead>\n",
       "  <tbody>\n",
       "    <tr>\n",
       "      <th>2009-01-01</th>\n",
       "      <td>NaN</td>\n",
       "      <td>NaN</td>\n",
       "      <td>NaN</td>\n",
       "      <td>NaN</td>\n",
       "      <td>0.0</td>\n",
       "    </tr>\n",
       "    <tr>\n",
       "      <th>2009-07-01</th>\n",
       "      <td>NaN</td>\n",
       "      <td>NaN</td>\n",
       "      <td>NaN</td>\n",
       "      <td>NaN</td>\n",
       "      <td>1.0</td>\n",
       "    </tr>\n",
       "    <tr>\n",
       "      <th>2010-01-01</th>\n",
       "      <td>NaN</td>\n",
       "      <td>NaN</td>\n",
       "      <td>NaN</td>\n",
       "      <td>NaN</td>\n",
       "      <td>0.0</td>\n",
       "    </tr>\n",
       "    <tr>\n",
       "      <th>2010-07-01</th>\n",
       "      <td>NaN</td>\n",
       "      <td>NaN</td>\n",
       "      <td>NaN</td>\n",
       "      <td>NaN</td>\n",
       "      <td>0.0</td>\n",
       "    </tr>\n",
       "    <tr>\n",
       "      <th>2011-01-01</th>\n",
       "      <td>NaN</td>\n",
       "      <td>NaN</td>\n",
       "      <td>NaN</td>\n",
       "      <td>NaN</td>\n",
       "      <td>0.0</td>\n",
       "    </tr>\n",
       "    <tr>\n",
       "      <th>...</th>\n",
       "      <td>...</td>\n",
       "      <td>...</td>\n",
       "      <td>...</td>\n",
       "      <td>...</td>\n",
       "      <td>...</td>\n",
       "    </tr>\n",
       "    <tr>\n",
       "      <th>2021-07-01</th>\n",
       "      <td>102.000000</td>\n",
       "      <td>116.889999</td>\n",
       "      <td>101.559998</td>\n",
       "      <td>116.139999</td>\n",
       "      <td>1.0</td>\n",
       "    </tr>\n",
       "    <tr>\n",
       "      <th>2022-01-01</th>\n",
       "      <td>116.500000</td>\n",
       "      <td>116.750000</td>\n",
       "      <td>86.570000</td>\n",
       "      <td>91.980003</td>\n",
       "      <td>1.0</td>\n",
       "    </tr>\n",
       "    <tr>\n",
       "      <th>2022-07-01</th>\n",
       "      <td>91.790001</td>\n",
       "      <td>103.360001</td>\n",
       "      <td>75.660004</td>\n",
       "      <td>84.190002</td>\n",
       "      <td>1.0</td>\n",
       "    </tr>\n",
       "    <tr>\n",
       "      <th>2023-01-01</th>\n",
       "      <td>84.959999</td>\n",
       "      <td>96.019997</td>\n",
       "      <td>78.110001</td>\n",
       "      <td>86.540001</td>\n",
       "      <td>0.0</td>\n",
       "    </tr>\n",
       "    <tr>\n",
       "      <th>2023-07-01</th>\n",
       "      <td>86.440002</td>\n",
       "      <td>90.339996</td>\n",
       "      <td>81.750000</td>\n",
       "      <td>85.339996</td>\n",
       "      <td>1.0</td>\n",
       "    </tr>\n",
       "  </tbody>\n",
       "</table>\n",
       "<p>30 rows × 5 columns</p>\n",
       "</div>"
      ],
      "text/plain": [
       "                  Open        High         Low       Close  predict\n",
       "2009-01-01         NaN         NaN         NaN         NaN      0.0\n",
       "2009-07-01         NaN         NaN         NaN         NaN      1.0\n",
       "2010-01-01         NaN         NaN         NaN         NaN      0.0\n",
       "2010-07-01         NaN         NaN         NaN         NaN      0.0\n",
       "2011-01-01         NaN         NaN         NaN         NaN      0.0\n",
       "...                ...         ...         ...         ...      ...\n",
       "2021-07-01  102.000000  116.889999  101.559998  116.139999      1.0\n",
       "2022-01-01  116.500000  116.750000   86.570000   91.980003      1.0\n",
       "2022-07-01   91.790001  103.360001   75.660004   84.190002      1.0\n",
       "2023-01-01   84.959999   96.019997   78.110001   86.540001      0.0\n",
       "2023-07-01   86.440002   90.339996   81.750000   85.339996      1.0\n",
       "\n",
       "[30 rows x 5 columns]"
      ]
     },
     "execution_count": 6,
     "metadata": {},
     "output_type": "execute_result"
    }
   ],
   "source": [
    "fold_index = 6\n",
    "\n",
    "price_and_predict = pd.concat([folding_price_data(price.loc[\"2012-01-01\":\"2023-08-01\"], fold_index), predict.loc[:\"2023-09-01\",:]],axis=1)\n",
    "price_and_predict"
   ]
  },
  {
   "cell_type": "code",
   "execution_count": 7,
   "metadata": {},
   "outputs": [],
   "source": [
    "# graphization\n",
    "def graph(df, save, file_name, simple_interest=False):\n",
    "    if not simple_interest:\n",
    "        \n",
    "        print(\"利回り中心です。各y値は、総資産/初期資金です。\")\n",
    "        temp = df[\"interest\"].values\n",
    "\n",
    "        initial = df[\"Asset\"][0] \n",
    "        lis = np.cumsum(temp) + initial\n",
    "\n",
    "        profit_month =np.array(lis)  / initial\n",
    "        \n",
    "        # 月ごとのそれまでの最大資産の計算\n",
    "        max_assets = pd.Series(profit_month).cummax().values\n",
    "        \n",
    "        total = profit_month\n",
    "        \n",
    "        # ドローダウンの計算\n",
    "        dd = 1 - profit_month / max_assets\n",
    "    else:\n",
    "        print(\"単利計算です。各y値は、その時点までの各利率の累積です。\")\n",
    "        temp = df[\"Return\"].values\n",
    "\n",
    "        \n",
    "        \n",
    "        profit_month = np.array(temp)\n",
    "\n",
    "        # 単利運用での資産額の計算\n",
    "        total = 1 + np.cumsum(profit_month)\n",
    "\n",
    "        # 月ごとのそれまでの最大資産の計算\n",
    "        max_assets = pd.Series(total).cummax().values\n",
    "\n",
    "        # ドローダウンの計算\n",
    "        dd = max_assets - total\n",
    "    \n",
    "    # 最大ドローダウンの計算\n",
    "    max_dd_percent = max(dd) * 100\n",
    "    print(f'最大ドローダウン: {max_dd_percent:.3f} %')\n",
    "\n",
    "    fig, ax1 = plt.subplots(figsize=(12, 7))\n",
    "    ax2 = ax1.twinx()\n",
    "    \n",
    "    ax1.set_ylabel('資産額')\n",
    "    ax1.plot(total, label='Total')\n",
    "    ax1.plot(max_assets, label='max Total')\n",
    "    ax1.legend()\n",
    "\n",
    "    ax2.set_ylabel('Drawdown(％)')\n",
    "    ax2.bar(np.arange(len(dd)), dd*100, alpha=0.5, color='pink', label='ドローダウン(％)')\n",
    "    ax2.legend(loc='upper right')\n",
    "    if save:\n",
    "        fig.savefig(file_name+\".png\")"
   ]
  },
  {
   "cell_type": "code",
   "execution_count": 16,
   "metadata": {},
   "outputs": [],
   "source": [
    "\n",
    "\n",
    "# 計算用\n",
    "\n",
    "# ロスカットした際に所持金額が足りないとき\n",
    "def Asset_initiated(initiate_asset, open_price, rate, next_month_open_price,totalreturn, ind):    \n",
    "\n",
    "    # Losscut : open_price * (1-losscut_rate) > next_month_open_price\n",
    "    string = str(ind) + \" \"\n",
    "    \n",
    "    if open_price * (1+ rate) > next_month_open_price:\n",
    "        pass\n",
    "    elif open_price * (1+ rate)+totalreturn > next_month_open_price:\n",
    "        # if you trade off at all,sale price at the time + totalreturn > next month open price,then you can trade it freely.   \n",
    "        pass\n",
    "    else:\n",
    "        # initiate asset is replaced.\n",
    "        initiate_asset = next_month_open_price\n",
    "        \n",
    "        # string : ProfitLine -> \"profit line is crossed.\"\" Losscut -> \"Losscut.\"\"\n",
    "        print(string + \" And initiate asset is replaced.\")\n",
    "    \n",
    "    return initiate_asset\n",
    "\n",
    "\n",
    "# plはprofit and loss です.\n",
    "\n",
    "def order_pl(data, losscut, profitline, losscut2, profitline2, predict):\n",
    "    open_price = data.query('Trade==2')['Open'].values[0]\n",
    "    open_price = float(open_price)\n",
    "    skip_num = np.where(data['Trade'].values==2)[0][0]\n",
    "    \n",
    "    switch = 0\n",
    "    # ↓not used\n",
    "    return_value = 0\n",
    "    data = data.iloc[skip_num:, :]\n",
    "    try:\n",
    "        exit_idxs = np.where(data['Trade'].values==1)[1]\n",
    "    except:\n",
    "        exit_idxs = np.where(data['Trade'].values==1)[0]\n",
    "        \n",
    "    if len(exit_idxs) > 0:\n",
    "        # データに手仕舞い日以降のデータが含まれていたら削除\n",
    "        data = data.iloc[:exit_idxs[-1]+1]\n",
    "    string = \"None\"\n",
    "    for i, temp in data.iterrows():\n",
    "\n",
    "        high_to_open = temp[\"High\"] - open_price\n",
    "        open_to_low = open_price - temp[\"Low\"]\n",
    "        if predict == 0: \n",
    "            \n",
    "            # sell order \n",
    "\n",
    "            perspective_maxloss = high_to_open \n",
    "            perspective_maxprofit = open_to_low\n",
    "            \n",
    "            losscut_rate = losscut2\n",
    "            profit_rate = profitline2\n",
    "            \n",
    "            director = -1    \n",
    "        else:           \n",
    "            \n",
    "            # buy order\n",
    "            \n",
    "            perspective_maxloss = open_to_low\n",
    "            perspective_maxprofit = high_to_open\n",
    "            director = 1\n",
    "            \n",
    "            losscut_rate = losscut\n",
    "            profit_rate = profitline\n",
    "            pass\n",
    "        \n",
    "        \n",
    "        \n",
    "        profit_secure = perspective_maxprofit >= open_price * profit_rate\n",
    "        loss_cut = perspective_maxloss >= open_price * losscut_rate\n",
    "        if (not profit_secure) and (not loss_cut):\n",
    "            # 利確・損切に到達していないとき\n",
    "            continue\n",
    "        elif profit_secure and loss_cut:\n",
    "            \n",
    "            # まさかないとは思うが、、、日中でロスカットと利確ラインに到達したとき\n",
    "            assert False, \"TODO: 日中でロスカットと利確ラインに到達した場合の処理を書く\"\n",
    "        elif profit_secure:\n",
    "            profit = open_price * profit_rate\n",
    "            message = 'crossed'\n",
    "            print(\"check : Profit Line is crossed.\")\n",
    "            return profit, message, open_price\n",
    "        else: # loss_cut\n",
    "            profit = -open_price * losscut_rate\n",
    "            message = 'losscut.'\n",
    "            print(\"check : Losscut.\")\n",
    "            return profit, message, open_price\n",
    "\n",
    "    try:\n",
    "        data.query('Trade==1')['Close'].values[-1]\n",
    "    except:\n",
    "        close_price = data['Close'].tail(1).values\n",
    "        return_value =  close_price - open_price\n",
    "        return_value *= director\n",
    "    else:\n",
    "        return_value = data.query('Trade==1')['Close'].values[-1] - open_price\n",
    "        return_value *= director\n",
    "\n",
    "\n",
    "    \n",
    "\n",
    "    \n",
    "    return (return_value, string, open_price)\n",
    "\n",
    "\n",
    "def judge_message(message):\n",
    "    if message == 'crossed':\n",
    "        profitline, loss_cut = \"crossed\", \"safe\"\n",
    "    elif message == 'losscut.':\n",
    "        profitline, loss_cut = \"not crossed\", \"Losscut.\"\n",
    "    elif message != 'anomally':\n",
    "        profitline, loss_cut = 'not crossed', 'safe'\n",
    "    else:\n",
    "        profitline, loss_cut = 'anomally', 'anomally'\n",
    "    return (profitline, loss_cut)\n",
    "    \n",
    "def judge_count(message):\n",
    "    if message == 'crossed':\n",
    "        profitline, loss_cut = 1, 0\n",
    "    elif message == 'losscut.':\n",
    "        profitline, loss_cut = 0, 1\n",
    "    else:\n",
    "        profitline, loss_cut = 0, 0\n",
    "    return (profitline, loss_cut)\n",
    "\n",
    "# This code(function) yields to totalreturn_per_year_list and dataframe of whole trades.\n",
    "# If variable option is not incerted,  option is void, or empty.(空白)\n",
    "# data2 is price data per day.\n",
    "\n",
    "def calc(data, losscut_rate, profitlevel, reverse, leverage,losscut2, profitlevel2, data2=data2):\n",
    "    \n",
    "    profit_count = 0 \n",
    "    losscut_count = 0\n",
    "    \n",
    "    \n",
    "    predicts = data[\"predict\"].values\n",
    "    # \"reverse\" were the opposite, then What score...?\n",
    "    if reverse:\n",
    "        predicts = [int(not num) for num in predicts] \n",
    "        print(\"(入力前の)シグナルが0なら買います。\")\n",
    "    else:\n",
    "        # reverse_ind = 1\n",
    "        print(\"(入力前の)シグナルが0なら売ります。\")\n",
    "    \n",
    "    \n",
    "    profitline= \"not crossed\"\n",
    "    \n",
    "    box = []\n",
    "    totalreturn = 0\n",
    "    Asset = 0\n",
    "    \n",
    "    loss_cut_sgn = \"safe\"\n",
    "    profit_count = 0\n",
    "    losscut_count = 0\n",
    "    dic = {}\n",
    "    df = pd.DataFrame()\n",
    "    initiate_asset = data[\"Open\"][0]\n",
    "    \n",
    "    \n",
    "    for i,ind in enumerate(data.index) :       \n",
    "        predict = predicts[i]\n",
    "        \n",
    "        year = int(ind.year)\n",
    "        month = int(ind.month)\n",
    "        \n",
    "        # Example startが2011.7.12のとき、2011.7.1 ～ 2011.8.28までのデータを入手\n",
    "        init = date(year, month, 1)\n",
    "        \n",
    "        # data2は日時データで一部をqueryで抜粋する。\n",
    "        # ex.start : 2011.7のとき、intervalが1か月ならば、7月13日あたり(休日等考慮)に取引して、2011.8.12あたりに手じまいする。\n",
    "        # となると, 2月が28日までなので、1か月先の8月28日まで入手する必要がある。\n",
    "        \n",
    "        end = date(year, month, 28) + relativedelta(months=6)\n",
    "        tp = data2.query(\"Date >=@init & Date <=@end\")\n",
    "        try:\n",
    "            tp = order_pl(tp, losscut_rate, profitlevel,losscut2, profitline2, predict)\n",
    "        except Exception as e:\n",
    "            print(e)\n",
    "            continue\n",
    "        \n",
    "        \n",
    "        interest = tp[0]\n",
    "        message = tp[1]\n",
    "        open_price = tp[2]\n",
    "        \n",
    "        profitline, loss_cut_sgn = judge_message(message)\n",
    "        profit_count += judge_count(message)[0]\n",
    "        losscut_count +=  judge_count(message)[1] \n",
    "        \n",
    "        \n",
    "\n",
    "        interest *= leverage\n",
    "        totalreturn += interest\n",
    "        Return = interest / open_price\n",
    "        dic = {\"signal\":predict, \"Return\":Return, \"totalreturn\":totalreturn,\"profitline\":profitline,\"loss_cut\":loss_cut_sgn,\"interest\":interest, \"open_price\":open_price}\n",
    "        temp = pd.DataFrame(dic, index=[ind])\n",
    "        df = pd.concat([df,temp],axis=0)\n",
    "        \n",
    "        \n",
    "        if ind.month == 12:\n",
    "            box.append(totalreturn)\n",
    "            \n",
    "    print(f\"loss_cut: {losscut_count}\", f\"profit_count: {profit_count}\")\n",
    "    print(f\"totalreturn: {totalreturn}\", f\"initiate_asset:{initiate_asset}\")\n",
    "    \n",
    "\n",
    "    \n",
    "    return [box, df]\n",
    "        "
   ]
  },
  {
   "cell_type": "code",
   "execution_count": 10,
   "metadata": {},
   "outputs": [],
   "source": [
    "loss_cut2, profitline2 = 0.1, 0.1"
   ]
  },
  {
   "cell_type": "code",
   "execution_count": 11,
   "metadata": {},
   "outputs": [
    {
     "data": {
      "application/vnd.jupyter.widget-view+json": {
       "model_id": "adc02f7727e94caba9831e73835f200f",
       "version_major": 2,
       "version_minor": 0
      },
      "text/plain": [
       "  0%|          | 0/1 [00:00<?, ?it/s]"
      ]
     },
     "metadata": {},
     "output_type": "display_data"
    },
    {
     "name": "stdout",
     "output_type": "stream",
     "text": [
      "(入力前の)シグナルが0なら売ります。\n",
      "check : Losscut.\n",
      "check : Profit Line is crossed.\n",
      "check : Losscut.\n",
      "check : Losscut.\n",
      "check : Profit Line is crossed.\n",
      "check : Losscut.\n",
      "check : Profit Line is crossed.\n",
      "check : Losscut.\n",
      "check : Profit Line is crossed.\n",
      "check : Profit Line is crossed.\n"
     ]
    },
    {
     "name": "stderr",
     "output_type": "stream",
     "text": [
      "C:\\Users\\admin\\AppData\\Local\\Temp\\ipykernel_9988\\1064569515.py:161: FutureWarning: Series.__getitem__ treating keys as positions is deprecated. In a future version, integer keys will always be treated as labels (consistent with DataFrame behavior). To access a value by position, use `ser.iloc[pos]`\n",
      "  initiate_asset = data[\"Open\"][0]\n"
     ]
    },
    {
     "name": "stdout",
     "output_type": "stream",
     "text": [
      "check : Losscut.\n",
      "check : Losscut.\n",
      "check : Losscut.\n",
      "check : Losscut.\n",
      "check : Profit Line is crossed.\n",
      "index 0 is out of bounds for axis 0 with size 0\n",
      "loss_cut: 9 profit_count: 6\n",
      "totalreturn: 11.459954850006106 initiate_asset:57.7400016784668\n",
      "0.08581952646110352\n",
      "(入力前の)シグナルが0なら売ります。\n",
      "check : Losscut.\n",
      "check : Profit Line is crossed.\n",
      "check : Losscut.\n",
      "check : Losscut.\n",
      "check : Profit Line is crossed.\n",
      "check : Profit Line is crossed.\n",
      "check : Profit Line is crossed.\n",
      "check : Profit Line is crossed.\n",
      "check : Profit Line is crossed.\n",
      "check : Losscut.\n"
     ]
    },
    {
     "name": "stderr",
     "output_type": "stream",
     "text": [
      "C:\\Users\\admin\\AppData\\Local\\Temp\\ipykernel_9988\\1064569515.py:161: FutureWarning: Series.__getitem__ treating keys as positions is deprecated. In a future version, integer keys will always be treated as labels (consistent with DataFrame behavior). To access a value by position, use `ser.iloc[pos]`\n",
      "  initiate_asset = data[\"Open\"][0]\n"
     ]
    },
    {
     "name": "stdout",
     "output_type": "stream",
     "text": [
      "check : Profit Line is crossed.\n",
      "check : Profit Line is crossed.\n",
      "check : Losscut.\n",
      "check : Losscut.\n",
      "check : Losscut.\n",
      "check : Losscut.\n",
      "check : Profit Line is crossed.\n",
      "index 0 is out of bounds for axis 0 with size 0\n",
      "loss_cut: 8 profit_count: 9\n",
      "totalreturn: 36.88947828521729 initiate_asset:57.7400016784668\n",
      "0.3880096961993602\n",
      "(入力前の)シグナルが0なら売ります。\n",
      "check : Losscut.\n",
      "check : Profit Line is crossed.\n",
      "check : Losscut.\n",
      "check : Losscut.\n",
      "check : Profit Line is crossed.\n",
      "check : Profit Line is crossed.\n",
      "check : Profit Line is crossed.\n",
      "check : Profit Line is crossed.\n"
     ]
    },
    {
     "name": "stderr",
     "output_type": "stream",
     "text": [
      "C:\\Users\\admin\\AppData\\Local\\Temp\\ipykernel_9988\\1064569515.py:161: FutureWarning: Series.__getitem__ treating keys as positions is deprecated. In a future version, integer keys will always be treated as labels (consistent with DataFrame behavior). To access a value by position, use `ser.iloc[pos]`\n",
      "  initiate_asset = data[\"Open\"][0]\n"
     ]
    },
    {
     "name": "stdout",
     "output_type": "stream",
     "text": [
      "check : Profit Line is crossed.\n",
      "check : Losscut.\n",
      "check : Profit Line is crossed.\n",
      "check : Profit Line is crossed.\n",
      "check : Losscut.\n",
      "check : Losscut.\n",
      "check : Losscut.\n",
      "check : Losscut.\n",
      "check : Profit Line is crossed.\n",
      "index 0 is out of bounds for axis 0 with size 0\n",
      "loss_cut: 8 profit_count: 9\n",
      "totalreturn: 37.17572828140258 initiate_asset:57.7400016784668\n",
      "0.39025147617951916\n",
      "(入力前の)シグナルが0なら売ります。\n",
      "check : Losscut.\n",
      "check : Profit Line is crossed.\n",
      "check : Losscut.\n",
      "check : Losscut.\n",
      "check : Profit Line is crossed.\n",
      "check : Profit Line is crossed.\n",
      "check : Profit Line is crossed.\n",
      "check : Profit Line is crossed.\n"
     ]
    },
    {
     "name": "stderr",
     "output_type": "stream",
     "text": [
      "C:\\Users\\admin\\AppData\\Local\\Temp\\ipykernel_9988\\1064569515.py:161: FutureWarning: Series.__getitem__ treating keys as positions is deprecated. In a future version, integer keys will always be treated as labels (consistent with DataFrame behavior). To access a value by position, use `ser.iloc[pos]`\n",
      "  initiate_asset = data[\"Open\"][0]\n"
     ]
    },
    {
     "name": "stdout",
     "output_type": "stream",
     "text": [
      "check : Profit Line is crossed.\n",
      "check : Losscut.\n",
      "check : Profit Line is crossed.\n",
      "check : Profit Line is crossed.\n",
      "check : Losscut.\n",
      "check : Losscut.\n",
      "check : Losscut.\n",
      "check : Losscut.\n",
      "check : Profit Line is crossed.\n",
      "index 0 is out of bounds for axis 0 with size 0\n",
      "loss_cut: 8 profit_count: 9\n",
      "totalreturn: 37.46197827758789 initiate_asset:57.7400016784668\n",
      "0.3924840187327386\n",
      "(入力前の)シグナルが0なら売ります。\n",
      "check : Losscut.\n",
      "check : Profit Line is crossed.\n"
     ]
    },
    {
     "name": "stderr",
     "output_type": "stream",
     "text": [
      "C:\\Users\\admin\\AppData\\Local\\Temp\\ipykernel_9988\\1064569515.py:161: FutureWarning: Series.__getitem__ treating keys as positions is deprecated. In a future version, integer keys will always be treated as labels (consistent with DataFrame behavior). To access a value by position, use `ser.iloc[pos]`\n",
      "  initiate_asset = data[\"Open\"][0]\n"
     ]
    },
    {
     "name": "stdout",
     "output_type": "stream",
     "text": [
      "check : Losscut.\n",
      "check : Losscut.\n",
      "check : Profit Line is crossed.\n",
      "check : Profit Line is crossed.\n",
      "check : Profit Line is crossed.\n",
      "check : Profit Line is crossed.\n",
      "check : Profit Line is crossed.\n",
      "check : Losscut.\n",
      "check : Profit Line is crossed.\n",
      "check : Profit Line is crossed.\n",
      "check : Losscut.\n",
      "check : Losscut.\n",
      "check : Losscut.\n",
      "check : Losscut.\n",
      "check : Profit Line is crossed.\n",
      "index 0 is out of bounds for axis 0 with size 0\n",
      "loss_cut: 8 profit_count: 9\n",
      "totalreturn: 37.74822827377318 initiate_asset:57.7400016784668\n",
      "0.3947073270409711\n",
      "(入力前の)シグナルが0なら売ります。\n",
      "check : Losscut.\n",
      "check : Profit Line is crossed.\n",
      "check : Losscut.\n",
      "check : Losscut.\n",
      "check : Profit Line is crossed.\n",
      "check : Profit Line is crossed.\n",
      "check : Profit Line is crossed.\n",
      "check : Profit Line is crossed.\n",
      "check : Profit Line is crossed.\n",
      "check : Losscut.\n",
      "check : Profit Line is crossed.\n"
     ]
    },
    {
     "name": "stderr",
     "output_type": "stream",
     "text": [
      "C:\\Users\\admin\\AppData\\Local\\Temp\\ipykernel_9988\\1064569515.py:161: FutureWarning: Series.__getitem__ treating keys as positions is deprecated. In a future version, integer keys will always be treated as labels (consistent with DataFrame behavior). To access a value by position, use `ser.iloc[pos]`\n",
      "  initiate_asset = data[\"Open\"][0]\n"
     ]
    },
    {
     "name": "stdout",
     "output_type": "stream",
     "text": [
      "check : Profit Line is crossed.\n",
      "check : Losscut.\n",
      "check : Losscut.\n",
      "check : Losscut.\n",
      "check : Losscut.\n",
      "check : Profit Line is crossed.\n",
      "index 0 is out of bounds for axis 0 with size 0\n",
      "loss_cut: 8 profit_count: 9\n",
      "totalreturn: 38.03447826995849 initiate_asset:57.7400016784668\n",
      "0.39692140493725714\n",
      "(入力前の)シグナルが0なら売ります。\n",
      "check : Losscut.\n",
      "check : Profit Line is crossed.\n",
      "check : Losscut.\n",
      "check : Losscut.\n",
      "check : Profit Line is crossed.\n",
      "check : Profit Line is crossed.\n",
      "check : Profit Line is crossed.\n",
      "check : Profit Line is crossed.\n"
     ]
    },
    {
     "name": "stderr",
     "output_type": "stream",
     "text": [
      "C:\\Users\\admin\\AppData\\Local\\Temp\\ipykernel_9988\\1064569515.py:161: FutureWarning: Series.__getitem__ treating keys as positions is deprecated. In a future version, integer keys will always be treated as labels (consistent with DataFrame behavior). To access a value by position, use `ser.iloc[pos]`\n",
      "  initiate_asset = data[\"Open\"][0]\n"
     ]
    },
    {
     "name": "stdout",
     "output_type": "stream",
     "text": [
      "check : Profit Line is crossed.\n",
      "check : Losscut.\n",
      "check : Profit Line is crossed.\n",
      "check : Profit Line is crossed.\n",
      "check : Losscut.\n",
      "check : Losscut.\n",
      "check : Losscut.\n",
      "check : Losscut.\n",
      "check : Profit Line is crossed.\n",
      "index 0 is out of bounds for axis 0 with size 0\n",
      "loss_cut: 8 profit_count: 9\n",
      "totalreturn: 38.32072826614378 initiate_asset:57.7400016784668\n",
      "0.3991262568968553\n",
      "(入力前の)シグナルが0なら売ります。\n",
      "check : Losscut.\n",
      "check : Profit Line is crossed.\n",
      "check : Losscut.\n",
      "check : Losscut.\n",
      "check : Profit Line is crossed.\n"
     ]
    },
    {
     "name": "stderr",
     "output_type": "stream",
     "text": [
      "C:\\Users\\admin\\AppData\\Local\\Temp\\ipykernel_9988\\1064569515.py:161: FutureWarning: Series.__getitem__ treating keys as positions is deprecated. In a future version, integer keys will always be treated as labels (consistent with DataFrame behavior). To access a value by position, use `ser.iloc[pos]`\n",
      "  initiate_asset = data[\"Open\"][0]\n"
     ]
    },
    {
     "name": "stdout",
     "output_type": "stream",
     "text": [
      "check : Profit Line is crossed.\n",
      "check : Profit Line is crossed.\n",
      "check : Profit Line is crossed.\n",
      "check : Losscut.\n",
      "check : Profit Line is crossed.\n",
      "check : Profit Line is crossed.\n",
      "check : Losscut.\n",
      "check : Losscut.\n",
      "check : Losscut.\n",
      "check : Losscut.\n",
      "check : Profit Line is crossed.\n",
      "index 0 is out of bounds for axis 0 with size 0\n",
      "loss_cut: 8 profit_count: 8\n",
      "totalreturn: 34.32205436553954 initiate_asset:57.7400016784668\n",
      "0.35971513918458475\n",
      "(入力前の)シグナルが0なら売ります。\n",
      "check : Losscut.\n",
      "check : Profit Line is crossed.\n",
      "check : Losscut.\n"
     ]
    },
    {
     "name": "stderr",
     "output_type": "stream",
     "text": [
      "C:\\Users\\admin\\AppData\\Local\\Temp\\ipykernel_9988\\1064569515.py:161: FutureWarning: Series.__getitem__ treating keys as positions is deprecated. In a future version, integer keys will always be treated as labels (consistent with DataFrame behavior). To access a value by position, use `ser.iloc[pos]`\n",
      "  initiate_asset = data[\"Open\"][0]\n"
     ]
    },
    {
     "name": "stdout",
     "output_type": "stream",
     "text": [
      "check : Losscut.\n",
      "check : Profit Line is crossed.\n",
      "check : Profit Line is crossed.\n",
      "check : Profit Line is crossed.\n",
      "check : Profit Line is crossed.\n",
      "check : Losscut.\n",
      "check : Profit Line is crossed.\n",
      "check : Profit Line is crossed.\n",
      "check : Losscut.\n",
      "check : Losscut.\n",
      "check : Losscut.\n",
      "check : Losscut.\n",
      "check : Profit Line is crossed.\n",
      "index 0 is out of bounds for axis 0 with size 0\n",
      "loss_cut: 8 profit_count: 8\n",
      "totalreturn: 34.571324362182615 initiate_asset:57.7400016784668\n",
      "0.3616381320416927\n",
      "(入力前の)シグナルが0なら売ります。\n"
     ]
    },
    {
     "name": "stderr",
     "output_type": "stream",
     "text": [
      "C:\\Users\\admin\\AppData\\Local\\Temp\\ipykernel_9988\\1064569515.py:161: FutureWarning: Series.__getitem__ treating keys as positions is deprecated. In a future version, integer keys will always be treated as labels (consistent with DataFrame behavior). To access a value by position, use `ser.iloc[pos]`\n",
      "  initiate_asset = data[\"Open\"][0]\n"
     ]
    },
    {
     "name": "stdout",
     "output_type": "stream",
     "text": [
      "check : Losscut.\n",
      "check : Profit Line is crossed.\n",
      "check : Losscut.\n",
      "check : Losscut.\n",
      "check : Profit Line is crossed.\n",
      "check : Profit Line is crossed.\n",
      "check : Profit Line is crossed.\n",
      "check : Losscut.\n",
      "check : Profit Line is crossed.\n",
      "check : Profit Line is crossed.\n",
      "check : Losscut.\n",
      "check : Losscut.\n",
      "check : Losscut.\n",
      "check : Losscut.\n",
      "check : Profit Line is crossed.\n",
      "index 0 is out of bounds for axis 0 with size 0\n",
      "loss_cut: 8 profit_count: 7\n",
      "totalreturn: 24.46353278961182 initiate_asset:57.7400016784668\n",
      "0.25475606583139604\n",
      "(入力前の)シグナルが0なら売ります。\n",
      "check : Losscut.\n",
      "check : Profit Line is crossed.\n",
      "check : Losscut.\n",
      "check : Losscut.\n",
      "check : Profit Line is crossed.\n",
      "check : Profit Line is crossed.\n",
      "check : Profit Line is crossed.\n"
     ]
    },
    {
     "name": "stderr",
     "output_type": "stream",
     "text": [
      "C:\\Users\\admin\\AppData\\Local\\Temp\\ipykernel_9988\\1064569515.py:161: FutureWarning: Series.__getitem__ treating keys as positions is deprecated. In a future version, integer keys will always be treated as labels (consistent with DataFrame behavior). To access a value by position, use `ser.iloc[pos]`\n",
      "  initiate_asset = data[\"Open\"][0]\n"
     ]
    },
    {
     "name": "stdout",
     "output_type": "stream",
     "text": [
      "check : Losscut.\n",
      "check : Profit Line is crossed.\n",
      "check : Profit Line is crossed.\n",
      "check : Losscut.\n",
      "check : Losscut.\n",
      "check : Losscut.\n",
      "check : Losscut.\n",
      "check : Profit Line is crossed.\n",
      "index 0 is out of bounds for axis 0 with size 0\n",
      "loss_cut: 8 profit_count: 7\n",
      "totalreturn: 24.674167787933353 initiate_asset:57.7400016784668\n",
      "0.25643143833776344\n",
      "(入力前の)シグナルが0なら売ります。\n",
      "check : Losscut.\n",
      "check : Profit Line is crossed.\n",
      "check : Losscut.\n",
      "check : Losscut.\n",
      "check : Profit Line is crossed.\n"
     ]
    },
    {
     "name": "stderr",
     "output_type": "stream",
     "text": [
      "C:\\Users\\admin\\AppData\\Local\\Temp\\ipykernel_9988\\1064569515.py:161: FutureWarning: Series.__getitem__ treating keys as positions is deprecated. In a future version, integer keys will always be treated as labels (consistent with DataFrame behavior). To access a value by position, use `ser.iloc[pos]`\n",
      "  initiate_asset = data[\"Open\"][0]\n"
     ]
    },
    {
     "name": "stdout",
     "output_type": "stream",
     "text": [
      "check : Profit Line is crossed.\n",
      "check : Profit Line is crossed.\n",
      "check : Losscut.\n",
      "check : Profit Line is crossed.\n",
      "check : Profit Line is crossed.\n",
      "check : Losscut.\n",
      "check : Losscut.\n",
      "check : Losscut.\n",
      "check : Losscut.\n",
      "check : Profit Line is crossed.\n",
      "index 0 is out of bounds for axis 0 with size 0\n",
      "loss_cut: 8 profit_count: 7\n",
      "totalreturn: 24.88480278625488 initiate_asset:57.7400016784668\n",
      "0.25810119954122235\n",
      "(入力前の)シグナルが0なら売ります。\n"
     ]
    },
    {
     "name": "stderr",
     "output_type": "stream",
     "text": [
      "C:\\Users\\admin\\AppData\\Local\\Temp\\ipykernel_9988\\1064569515.py:161: FutureWarning: Series.__getitem__ treating keys as positions is deprecated. In a future version, integer keys will always be treated as labels (consistent with DataFrame behavior). To access a value by position, use `ser.iloc[pos]`\n",
      "  initiate_asset = data[\"Open\"][0]\n"
     ]
    },
    {
     "name": "stdout",
     "output_type": "stream",
     "text": [
      "check : Losscut.\n",
      "check : Profit Line is crossed.\n",
      "check : Losscut.\n",
      "check : Losscut.\n",
      "check : Profit Line is crossed.\n",
      "check : Profit Line is crossed.\n",
      "check : Profit Line is crossed.\n",
      "check : Losscut.\n",
      "check : Profit Line is crossed.\n",
      "check : Profit Line is crossed.\n",
      "check : Losscut.\n",
      "check : Losscut.\n",
      "check : Losscut.\n",
      "check : Losscut.\n",
      "check : Profit Line is crossed.\n",
      "index 0 is out of bounds for axis 0 with size 0\n",
      "loss_cut: 8 profit_count: 7\n",
      "totalreturn: 25.09543778457641 initiate_asset:57.7400016784668\n",
      "0.2597653460438251\n",
      "(入力前の)シグナルが0なら売ります。\n",
      "check : Losscut.\n",
      "check : Profit Line is crossed.\n",
      "check : Losscut.\n",
      "check : Losscut.\n",
      "check : Profit Line is crossed.\n",
      "check : Profit Line is crossed.\n"
     ]
    },
    {
     "name": "stderr",
     "output_type": "stream",
     "text": [
      "C:\\Users\\admin\\AppData\\Local\\Temp\\ipykernel_9988\\1064569515.py:161: FutureWarning: Series.__getitem__ treating keys as positions is deprecated. In a future version, integer keys will always be treated as labels (consistent with DataFrame behavior). To access a value by position, use `ser.iloc[pos]`\n",
      "  initiate_asset = data[\"Open\"][0]\n"
     ]
    },
    {
     "name": "stdout",
     "output_type": "stream",
     "text": [
      "check : Profit Line is crossed.\n",
      "check : Losscut.\n",
      "check : Profit Line is crossed.\n",
      "check : Profit Line is crossed.\n",
      "check : Losscut.\n",
      "check : Losscut.\n",
      "check : Losscut.\n",
      "check : Losscut.\n",
      "check : Profit Line is crossed.\n",
      "index 0 is out of bounds for axis 0 with size 0\n",
      "loss_cut: 8 profit_count: 7\n",
      "totalreturn: 25.306072782897946 initiate_asset:57.7400016784668\n",
      "0.26142387480639817\n",
      "(入力前の)シグナルが0なら売ります。\n",
      "check : Losscut.\n",
      "check : Profit Line is crossed.\n",
      "check : Losscut.\n"
     ]
    },
    {
     "name": "stderr",
     "output_type": "stream",
     "text": [
      "C:\\Users\\admin\\AppData\\Local\\Temp\\ipykernel_9988\\1064569515.py:161: FutureWarning: Series.__getitem__ treating keys as positions is deprecated. In a future version, integer keys will always be treated as labels (consistent with DataFrame behavior). To access a value by position, use `ser.iloc[pos]`\n",
      "  initiate_asset = data[\"Open\"][0]\n"
     ]
    },
    {
     "name": "stdout",
     "output_type": "stream",
     "text": [
      "check : Losscut.\n",
      "check : Profit Line is crossed.\n",
      "check : Profit Line is crossed.\n",
      "check : Profit Line is crossed.\n",
      "check : Losscut.\n",
      "check : Profit Line is crossed.\n",
      "check : Profit Line is crossed.\n",
      "check : Losscut.\n",
      "check : Losscut.\n",
      "check : Losscut.\n",
      "check : Losscut.\n",
      "check : Profit Line is crossed.\n",
      "index 0 is out of bounds for axis 0 with size 0\n",
      "loss_cut: 8 profit_count: 7\n",
      "totalreturn: 25.516707781219488 initiate_asset:57.7400016784668\n",
      "0.263076783144957\n",
      "(入力前の)シグナルが0なら売ります。\n"
     ]
    },
    {
     "name": "stderr",
     "output_type": "stream",
     "text": [
      "C:\\Users\\admin\\AppData\\Local\\Temp\\ipykernel_9988\\1064569515.py:161: FutureWarning: Series.__getitem__ treating keys as positions is deprecated. In a future version, integer keys will always be treated as labels (consistent with DataFrame behavior). To access a value by position, use `ser.iloc[pos]`\n",
      "  initiate_asset = data[\"Open\"][0]\n"
     ]
    },
    {
     "name": "stdout",
     "output_type": "stream",
     "text": [
      "check : Losscut.\n",
      "check : Profit Line is crossed.\n",
      "check : Losscut.\n",
      "check : Losscut.\n",
      "check : Profit Line is crossed.\n",
      "check : Profit Line is crossed.\n",
      "check : Profit Line is crossed.\n",
      "check : Losscut.\n",
      "check : Profit Line is crossed.\n",
      "check : Profit Line is crossed.\n",
      "check : Losscut.\n",
      "check : Losscut.\n",
      "check : Losscut.\n",
      "check : Losscut.\n",
      "check : Profit Line is crossed.\n",
      "index 0 is out of bounds for axis 0 with size 0\n",
      "loss_cut: 8 profit_count: 7\n",
      "totalreturn: 25.72734277954102 initiate_asset:57.7400016784668\n",
      "0.26472406872710647\n",
      "(入力前の)シグナルが0なら売ります。\n",
      "check : Losscut.\n",
      "check : Profit Line is crossed.\n",
      "check : Losscut.\n",
      "check : Losscut.\n",
      "check : Profit Line is crossed.\n"
     ]
    },
    {
     "name": "stderr",
     "output_type": "stream",
     "text": [
      "C:\\Users\\admin\\AppData\\Local\\Temp\\ipykernel_9988\\1064569515.py:161: FutureWarning: Series.__getitem__ treating keys as positions is deprecated. In a future version, integer keys will always be treated as labels (consistent with DataFrame behavior). To access a value by position, use `ser.iloc[pos]`\n",
      "  initiate_asset = data[\"Open\"][0]\n"
     ]
    },
    {
     "name": "stdout",
     "output_type": "stream",
     "text": [
      "check : Profit Line is crossed.\n",
      "check : Profit Line is crossed.\n",
      "check : Losscut.\n",
      "check : Profit Line is crossed.\n",
      "check : Profit Line is crossed.\n",
      "check : Losscut.\n",
      "check : Losscut.\n",
      "check : Losscut.\n",
      "check : Losscut.\n",
      "check : Profit Line is crossed.\n",
      "index 0 is out of bounds for axis 0 with size 0\n",
      "loss_cut: 8 profit_count: 7\n",
      "totalreturn: 25.937977777862546 initiate_asset:57.7400016784668\n",
      "0.2663657295684282\n",
      "(入力前の)シグナルが0なら売ります。\n",
      "check : Losscut.\n",
      "check : Profit Line is crossed.\n",
      "check : Losscut.\n",
      "check : Losscut.\n",
      "check : Profit Line is crossed.\n",
      "check : Profit Line is crossed.\n",
      "check : Profit Line is crossed.\n"
     ]
    },
    {
     "name": "stderr",
     "output_type": "stream",
     "text": [
      "C:\\Users\\admin\\AppData\\Local\\Temp\\ipykernel_9988\\1064569515.py:161: FutureWarning: Series.__getitem__ treating keys as positions is deprecated. In a future version, integer keys will always be treated as labels (consistent with DataFrame behavior). To access a value by position, use `ser.iloc[pos]`\n",
      "  initiate_asset = data[\"Open\"][0]\n"
     ]
    },
    {
     "name": "stdout",
     "output_type": "stream",
     "text": [
      "check : Losscut.\n",
      "check : Profit Line is crossed.\n",
      "check : Profit Line is crossed.\n",
      "check : Losscut.\n",
      "check : Losscut.\n",
      "check : Losscut.\n",
      "check : Losscut.\n",
      "check : Profit Line is crossed.\n",
      "index 0 is out of bounds for axis 0 with size 0\n",
      "loss_cut: 8 profit_count: 7\n",
      "totalreturn: 26.148612776184077 initiate_asset:57.7400016784668\n",
      "0.26800176402885495\n",
      "(入力前の)シグナルが0なら売ります。\n",
      "check : Losscut.\n",
      "check : Profit Line is crossed.\n",
      "check : Losscut.\n",
      "check : Losscut.\n",
      "check : Profit Line is crossed.\n"
     ]
    },
    {
     "name": "stderr",
     "output_type": "stream",
     "text": [
      "C:\\Users\\admin\\AppData\\Local\\Temp\\ipykernel_9988\\1064569515.py:161: FutureWarning: Series.__getitem__ treating keys as positions is deprecated. In a future version, integer keys will always be treated as labels (consistent with DataFrame behavior). To access a value by position, use `ser.iloc[pos]`\n",
      "  initiate_asset = data[\"Open\"][0]\n"
     ]
    },
    {
     "name": "stdout",
     "output_type": "stream",
     "text": [
      "check : Profit Line is crossed.\n",
      "check : Profit Line is crossed.\n",
      "check : Losscut.\n",
      "check : Profit Line is crossed.\n",
      "check : Profit Line is crossed.\n",
      "check : Losscut.\n",
      "check : Losscut.\n",
      "check : Losscut.\n",
      "check : Losscut.\n",
      "check : Profit Line is crossed.\n",
      "index 0 is out of bounds for axis 0 with size 0\n",
      "loss_cut: 8 profit_count: 7\n",
      "totalreturn: 26.35924777450561 initiate_asset:57.7400016784668\n",
      "0.2696321708090359\n",
      "(入力前の)シグナルが0なら売ります。\n"
     ]
    },
    {
     "name": "stderr",
     "output_type": "stream",
     "text": [
      "C:\\Users\\admin\\AppData\\Local\\Temp\\ipykernel_9988\\1064569515.py:161: FutureWarning: Series.__getitem__ treating keys as positions is deprecated. In a future version, integer keys will always be treated as labels (consistent with DataFrame behavior). To access a value by position, use `ser.iloc[pos]`\n",
      "  initiate_asset = data[\"Open\"][0]\n"
     ]
    },
    {
     "name": "stdout",
     "output_type": "stream",
     "text": [
      "check : Losscut.\n",
      "check : Profit Line is crossed.\n",
      "check : Losscut.\n",
      "check : Losscut.\n",
      "check : Profit Line is crossed.\n",
      "check : Profit Line is crossed.\n",
      "check : Profit Line is crossed.\n",
      "check : Losscut.\n",
      "check : Profit Line is crossed.\n",
      "check : Profit Line is crossed.\n",
      "check : Losscut.\n",
      "check : Losscut.\n",
      "check : Losscut.\n",
      "check : Losscut.\n",
      "check : Profit Line is crossed.\n",
      "index 0 is out of bounds for axis 0 with size 0\n",
      "loss_cut: 8 profit_count: 7\n",
      "totalreturn: 26.569882772827153 initiate_asset:57.7400016784668\n",
      "0.27125694894668884\n",
      "(入力前の)シグナルが0なら売ります。\n",
      "check : Losscut.\n",
      "check : Profit Line is crossed.\n",
      "check : Losscut.\n",
      "check : Losscut.\n",
      "check : Profit Line is crossed.\n",
      "check : Profit Line is crossed.\n",
      "check : Profit Line is crossed.\n"
     ]
    },
    {
     "name": "stderr",
     "output_type": "stream",
     "text": [
      "C:\\Users\\admin\\AppData\\Local\\Temp\\ipykernel_9988\\1064569515.py:161: FutureWarning: Series.__getitem__ treating keys as positions is deprecated. In a future version, integer keys will always be treated as labels (consistent with DataFrame behavior). To access a value by position, use `ser.iloc[pos]`\n",
      "  initiate_asset = data[\"Open\"][0]\n"
     ]
    },
    {
     "name": "stdout",
     "output_type": "stream",
     "text": [
      "check : Losscut.\n",
      "check : Profit Line is crossed.\n",
      "check : Profit Line is crossed.\n",
      "check : Losscut.\n",
      "check : Losscut.\n",
      "check : Losscut.\n",
      "check : Losscut.\n",
      "check : Profit Line is crossed.\n",
      "index 0 is out of bounds for axis 0 with size 0\n",
      "loss_cut: 8 profit_count: 7\n",
      "totalreturn: 26.78051777114868 initiate_asset:57.7400016784668\n",
      "0.272876097812947\n",
      "(入力前の)シグナルが0なら売ります。\n",
      "check : Losscut.\n",
      "check : Profit Line is crossed.\n",
      "check : Losscut.\n",
      "check : Losscut.\n",
      "check : Profit Line is crossed.\n",
      "check : Profit Line is crossed.\n",
      "check : Profit Line is crossed.\n"
     ]
    },
    {
     "name": "stderr",
     "output_type": "stream",
     "text": [
      "C:\\Users\\admin\\AppData\\Local\\Temp\\ipykernel_9988\\1064569515.py:161: FutureWarning: Series.__getitem__ treating keys as positions is deprecated. In a future version, integer keys will always be treated as labels (consistent with DataFrame behavior). To access a value by position, use `ser.iloc[pos]`\n",
      "  initiate_asset = data[\"Open\"][0]\n"
     ]
    },
    {
     "name": "stdout",
     "output_type": "stream",
     "text": [
      "check : Losscut.\n",
      "check : Profit Line is crossed.\n",
      "check : Profit Line is crossed.\n",
      "check : Losscut.\n",
      "check : Losscut.\n",
      "check : Losscut.\n",
      "check : Losscut.\n",
      "check : Profit Line is crossed.\n",
      "index 0 is out of bounds for axis 0 with size 0\n",
      "loss_cut: 8 profit_count: 7\n",
      "totalreturn: 26.99115276947022 initiate_asset:57.7400016784668\n",
      "0.27448961710869546\n",
      "(入力前の)シグナルが0なら売ります。\n",
      "check : Losscut.\n",
      "check : Profit Line is crossed.\n",
      "check : Losscut.\n",
      "check : Losscut.\n"
     ]
    },
    {
     "name": "stderr",
     "output_type": "stream",
     "text": [
      "C:\\Users\\admin\\AppData\\Local\\Temp\\ipykernel_9988\\1064569515.py:161: FutureWarning: Series.__getitem__ treating keys as positions is deprecated. In a future version, integer keys will always be treated as labels (consistent with DataFrame behavior). To access a value by position, use `ser.iloc[pos]`\n",
      "  initiate_asset = data[\"Open\"][0]\n"
     ]
    },
    {
     "name": "stdout",
     "output_type": "stream",
     "text": [
      "check : Profit Line is crossed.\n",
      "check : Profit Line is crossed.\n",
      "check : Profit Line is crossed.\n",
      "check : Losscut.\n",
      "check : Profit Line is crossed.\n",
      "check : Profit Line is crossed.\n",
      "check : Losscut.\n",
      "check : Losscut.\n",
      "check : Losscut.\n",
      "check : Losscut.\n",
      "check : Profit Line is crossed.\n",
      "index 0 is out of bounds for axis 0 with size 0\n",
      "loss_cut: 8 profit_count: 7\n",
      "totalreturn: 27.201787767791746 initiate_asset:57.7400016784668\n",
      "0.27609750686090206\n",
      "(入力前の)シグナルが0なら売ります。\n",
      "check : Losscut.\n",
      "check : Profit Line is crossed.\n",
      "check : Losscut.\n",
      "check : Losscut.\n",
      "check : Profit Line is crossed.\n",
      "check : Profit Line is crossed.\n",
      "check : Profit Line is crossed.\n",
      "check : Losscut.\n",
      "check : Profit Line is crossed.\n",
      "check : Profit Line is crossed.\n"
     ]
    },
    {
     "name": "stderr",
     "output_type": "stream",
     "text": [
      "C:\\Users\\admin\\AppData\\Local\\Temp\\ipykernel_9988\\1064569515.py:161: FutureWarning: Series.__getitem__ treating keys as positions is deprecated. In a future version, integer keys will always be treated as labels (consistent with DataFrame behavior). To access a value by position, use `ser.iloc[pos]`\n",
      "  initiate_asset = data[\"Open\"][0]\n"
     ]
    },
    {
     "name": "stdout",
     "output_type": "stream",
     "text": [
      "check : Losscut.\n",
      "check : Losscut.\n",
      "check : Losscut.\n",
      "check : Losscut.\n",
      "check : Profit Line is crossed.\n",
      "index 0 is out of bounds for axis 0 with size 0\n",
      "loss_cut: 8 profit_count: 7\n",
      "totalreturn: 27.41242276611328 initiate_asset:57.7400016784668\n",
      "0.2776997674189426\n",
      "(入力前の)シグナルが0なら売ります。\n",
      "check : Losscut.\n",
      "check : Profit Line is crossed.\n",
      "check : Losscut.\n",
      "check : Losscut.\n",
      "check : Profit Line is crossed.\n",
      "check : Profit Line is crossed.\n",
      "check : Profit Line is crossed.\n",
      "check : Losscut.\n",
      "check : Profit Line is crossed.\n"
     ]
    },
    {
     "name": "stderr",
     "output_type": "stream",
     "text": [
      "C:\\Users\\admin\\AppData\\Local\\Temp\\ipykernel_9988\\1064569515.py:161: FutureWarning: Series.__getitem__ treating keys as positions is deprecated. In a future version, integer keys will always be treated as labels (consistent with DataFrame behavior). To access a value by position, use `ser.iloc[pos]`\n",
      "  initiate_asset = data[\"Open\"][0]\n"
     ]
    },
    {
     "name": "stdout",
     "output_type": "stream",
     "text": [
      "check : Profit Line is crossed.\n",
      "check : Losscut.\n",
      "check : Losscut.\n",
      "check : Losscut.\n",
      "check : Losscut.\n",
      "check : Profit Line is crossed.\n",
      "index 0 is out of bounds for axis 0 with size 0\n",
      "loss_cut: 8 profit_count: 7\n",
      "totalreturn: 27.62305776443481 initiate_asset:57.7400016784668\n",
      "0.27929639945092044\n",
      "(入力前の)シグナルが0なら売ります。\n",
      "check : Losscut.\n",
      "check : Profit Line is crossed.\n",
      "check : Losscut.\n",
      "check : Losscut.\n",
      "check : Profit Line is crossed.\n",
      "check : Profit Line is crossed.\n",
      "check : Profit Line is crossed.\n"
     ]
    },
    {
     "name": "stderr",
     "output_type": "stream",
     "text": [
      "C:\\Users\\admin\\AppData\\Local\\Temp\\ipykernel_9988\\1064569515.py:161: FutureWarning: Series.__getitem__ treating keys as positions is deprecated. In a future version, integer keys will always be treated as labels (consistent with DataFrame behavior). To access a value by position, use `ser.iloc[pos]`\n",
      "  initiate_asset = data[\"Open\"][0]\n"
     ]
    },
    {
     "name": "stdout",
     "output_type": "stream",
     "text": [
      "check : Losscut.\n",
      "check : Profit Line is crossed.\n",
      "check : Profit Line is crossed.\n",
      "check : Losscut.\n",
      "check : Losscut.\n",
      "check : Losscut.\n",
      "check : Losscut.\n",
      "check : Profit Line is crossed.\n",
      "index 0 is out of bounds for axis 0 with size 0\n",
      "loss_cut: 8 profit_count: 7\n",
      "totalreturn: 27.833692762756346 initiate_asset:57.7400016784668\n",
      "0.2808874039399836\n",
      "(入力前の)シグナルが0なら売ります。\n",
      "check : Losscut.\n",
      "check : Profit Line is crossed.\n",
      "check : Losscut.\n",
      "check : Losscut.\n",
      "check : Profit Line is crossed.\n",
      "check : Profit Line is crossed.\n",
      "check : Profit Line is crossed.\n"
     ]
    },
    {
     "name": "stderr",
     "output_type": "stream",
     "text": [
      "C:\\Users\\admin\\AppData\\Local\\Temp\\ipykernel_9988\\1064569515.py:161: FutureWarning: Series.__getitem__ treating keys as positions is deprecated. In a future version, integer keys will always be treated as labels (consistent with DataFrame behavior). To access a value by position, use `ser.iloc[pos]`\n",
      "  initiate_asset = data[\"Open\"][0]\n"
     ]
    },
    {
     "name": "stdout",
     "output_type": "stream",
     "text": [
      "check : Losscut.\n",
      "check : Profit Line is crossed.\n",
      "check : Profit Line is crossed.\n",
      "check : Losscut.\n",
      "check : Losscut.\n",
      "check : Losscut.\n",
      "check : Losscut.\n",
      "check : Profit Line is crossed.\n",
      "index 0 is out of bounds for axis 0 with size 0\n",
      "loss_cut: 8 profit_count: 7\n",
      "totalreturn: 28.04432776107789 initiate_asset:57.7400016784668\n",
      "0.2824727821806389\n",
      "(入力前の)シグナルが0なら売ります。\n",
      "check : Losscut.\n",
      "check : Profit Line is crossed.\n",
      "check : Losscut.\n",
      "check : Losscut.\n",
      "check : Profit Line is crossed.\n"
     ]
    },
    {
     "name": "stderr",
     "output_type": "stream",
     "text": [
      "C:\\Users\\admin\\AppData\\Local\\Temp\\ipykernel_9988\\1064569515.py:161: FutureWarning: Series.__getitem__ treating keys as positions is deprecated. In a future version, integer keys will always be treated as labels (consistent with DataFrame behavior). To access a value by position, use `ser.iloc[pos]`\n",
      "  initiate_asset = data[\"Open\"][0]\n"
     ]
    },
    {
     "name": "stdout",
     "output_type": "stream",
     "text": [
      "check : Profit Line is crossed.\n",
      "check : Profit Line is crossed.\n",
      "check : Losscut.\n",
      "check : Profit Line is crossed.\n",
      "check : Profit Line is crossed.\n",
      "check : Losscut.\n",
      "check : Losscut.\n",
      "check : Losscut.\n",
      "check : Losscut.\n",
      "check : Profit Line is crossed.\n",
      "index 0 is out of bounds for axis 0 with size 0\n",
      "loss_cut: 8 profit_count: 7\n",
      "totalreturn: 28.254962759399408 initiate_asset:57.7400016784668\n",
      "0.2840525357750627\n",
      "(入力前の)シグナルが0なら売ります。\n"
     ]
    },
    {
     "name": "stderr",
     "output_type": "stream",
     "text": [
      "C:\\Users\\admin\\AppData\\Local\\Temp\\ipykernel_9988\\1064569515.py:161: FutureWarning: Series.__getitem__ treating keys as positions is deprecated. In a future version, integer keys will always be treated as labels (consistent with DataFrame behavior). To access a value by position, use `ser.iloc[pos]`\n",
      "  initiate_asset = data[\"Open\"][0]\n"
     ]
    },
    {
     "name": "stdout",
     "output_type": "stream",
     "text": [
      "check : Losscut.\n",
      "check : Profit Line is crossed.\n",
      "check : Losscut.\n",
      "check : Losscut.\n",
      "check : Profit Line is crossed.\n",
      "check : Profit Line is crossed.\n",
      "check : Profit Line is crossed.\n",
      "check : Losscut.\n",
      "check : Profit Line is crossed.\n",
      "check : Profit Line is crossed.\n",
      "check : Losscut.\n",
      "check : Losscut.\n",
      "check : Losscut.\n",
      "check : Losscut.\n",
      "check : Profit Line is crossed.\n",
      "index 0 is out of bounds for axis 0 with size 0\n",
      "loss_cut: 8 profit_count: 7\n",
      "totalreturn: 28.465597757720943 initiate_asset:57.7400016784668\n",
      "0.2856266666294135\n",
      "(入力前の)シグナルが0なら売ります。\n",
      "check : Losscut.\n",
      "check : Profit Line is crossed.\n",
      "check : Losscut.\n",
      "check : Losscut.\n",
      "check : Profit Line is crossed.\n",
      "check : Profit Line is crossed.\n",
      "check : Profit Line is crossed.\n",
      "check : Losscut.\n",
      "check : Profit Line is crossed.\n"
     ]
    },
    {
     "name": "stderr",
     "output_type": "stream",
     "text": [
      "C:\\Users\\admin\\AppData\\Local\\Temp\\ipykernel_9988\\1064569515.py:161: FutureWarning: Series.__getitem__ treating keys as positions is deprecated. In a future version, integer keys will always be treated as labels (consistent with DataFrame behavior). To access a value by position, use `ser.iloc[pos]`\n",
      "  initiate_asset = data[\"Open\"][0]\n"
     ]
    },
    {
     "name": "stdout",
     "output_type": "stream",
     "text": [
      "check : Profit Line is crossed.\n",
      "check : Losscut.\n",
      "check : Losscut.\n",
      "check : Losscut.\n",
      "check : Losscut.\n",
      "check : Profit Line is crossed.\n",
      "index 0 is out of bounds for axis 0 with size 0\n",
      "loss_cut: 8 profit_count: 7\n",
      "totalreturn: 28.676232756042477 initiate_asset:57.7400016784668\n",
      "0.2871951769501427\n",
      "(入力前の)シグナルが0なら売ります。\n",
      "check : Losscut.\n",
      "check : Profit Line is crossed.\n",
      "check : Losscut.\n",
      "check : Losscut.\n",
      "check : Profit Line is crossed.\n",
      "check : Profit Line is crossed.\n",
      "check : Profit Line is crossed.\n"
     ]
    },
    {
     "name": "stderr",
     "output_type": "stream",
     "text": [
      "C:\\Users\\admin\\AppData\\Local\\Temp\\ipykernel_9988\\1064569515.py:161: FutureWarning: Series.__getitem__ treating keys as positions is deprecated. In a future version, integer keys will always be treated as labels (consistent with DataFrame behavior). To access a value by position, use `ser.iloc[pos]`\n",
      "  initiate_asset = data[\"Open\"][0]\n"
     ]
    },
    {
     "name": "stdout",
     "output_type": "stream",
     "text": [
      "check : Losscut.\n",
      "check : Profit Line is crossed.\n",
      "check : Profit Line is crossed.\n",
      "check : Losscut.\n",
      "check : Losscut.\n",
      "check : Losscut.\n",
      "check : Losscut.\n",
      "check : Profit Line is crossed.\n",
      "index 0 is out of bounds for axis 0 with size 0\n",
      "loss_cut: 8 profit_count: 7\n",
      "totalreturn: 28.886867754364008 initiate_asset:57.7400016784668\n",
      "0.2887580692403073\n",
      "(入力前の)シグナルが0なら売ります。\n",
      "check : Losscut.\n",
      "check : Profit Line is crossed.\n",
      "check : Losscut.\n",
      "check : Losscut.\n",
      "check : Profit Line is crossed.\n",
      "check : Profit Line is crossed.\n",
      "check : Profit Line is crossed.\n"
     ]
    },
    {
     "name": "stderr",
     "output_type": "stream",
     "text": [
      "C:\\Users\\admin\\AppData\\Local\\Temp\\ipykernel_9988\\1064569515.py:161: FutureWarning: Series.__getitem__ treating keys as positions is deprecated. In a future version, integer keys will always be treated as labels (consistent with DataFrame behavior). To access a value by position, use `ser.iloc[pos]`\n",
      "  initiate_asset = data[\"Open\"][0]\n"
     ]
    },
    {
     "name": "stdout",
     "output_type": "stream",
     "text": [
      "check : Losscut.\n",
      "check : Profit Line is crossed.\n",
      "check : Profit Line is crossed.\n",
      "check : Losscut.\n",
      "check : Losscut.\n",
      "check : Losscut.\n",
      "check : Losscut.\n",
      "check : Profit Line is crossed.\n",
      "index 0 is out of bounds for axis 0 with size 0\n",
      "loss_cut: 8 profit_count: 7\n",
      "totalreturn: 29.097502752685543 initiate_asset:57.7400016784668\n",
      "0.2903153462958839\n",
      "(入力前の)シグナルが0なら売ります。\n",
      "check : Losscut.\n",
      "check : Profit Line is crossed.\n",
      "check : Losscut.\n",
      "check : Losscut.\n"
     ]
    },
    {
     "name": "stderr",
     "output_type": "stream",
     "text": [
      "C:\\Users\\admin\\AppData\\Local\\Temp\\ipykernel_9988\\1064569515.py:161: FutureWarning: Series.__getitem__ treating keys as positions is deprecated. In a future version, integer keys will always be treated as labels (consistent with DataFrame behavior). To access a value by position, use `ser.iloc[pos]`\n",
      "  initiate_asset = data[\"Open\"][0]\n"
     ]
    },
    {
     "name": "stdout",
     "output_type": "stream",
     "text": [
      "check : Profit Line is crossed.\n",
      "check : Profit Line is crossed.\n",
      "check : Profit Line is crossed.\n",
      "check : Losscut.\n",
      "check : Profit Line is crossed.\n",
      "check : Profit Line is crossed.\n",
      "check : Losscut.\n",
      "check : Losscut.\n",
      "check : Losscut.\n",
      "check : Losscut.\n",
      "check : Profit Line is crossed.\n",
      "index 0 is out of bounds for axis 0 with size 0\n",
      "loss_cut: 8 profit_count: 7\n",
      "totalreturn: 29.308137751007074 initiate_asset:57.7400016784668\n",
      "0.29186701120208597\n",
      "(入力前の)シグナルが0なら売ります。\n"
     ]
    },
    {
     "name": "stderr",
     "output_type": "stream",
     "text": [
      "C:\\Users\\admin\\AppData\\Local\\Temp\\ipykernel_9988\\1064569515.py:161: FutureWarning: Series.__getitem__ treating keys as positions is deprecated. In a future version, integer keys will always be treated as labels (consistent with DataFrame behavior). To access a value by position, use `ser.iloc[pos]`\n",
      "  initiate_asset = data[\"Open\"][0]\n"
     ]
    },
    {
     "name": "stdout",
     "output_type": "stream",
     "text": [
      "check : Losscut.\n",
      "check : Profit Line is crossed.\n",
      "check : Losscut.\n",
      "check : Losscut.\n",
      "check : Profit Line is crossed.\n",
      "check : Profit Line is crossed.\n",
      "check : Profit Line is crossed.\n",
      "check : Losscut.\n",
      "check : Profit Line is crossed.\n",
      "check : Profit Line is crossed.\n",
      "check : Losscut.\n",
      "check : Losscut.\n",
      "check : Losscut.\n",
      "check : Losscut.\n",
      "check : Profit Line is crossed.\n",
      "index 0 is out of bounds for axis 0 with size 0\n",
      "loss_cut: 8 profit_count: 7\n",
      "totalreturn: 29.51877274932861 initiate_asset:57.7400016784668\n",
      "0.2934130673296842\n",
      "(入力前の)シグナルが0なら売ります。\n",
      "check : Losscut.\n",
      "check : Profit Line is crossed.\n",
      "check : Losscut.\n",
      "check : Losscut.\n",
      "check : Profit Line is crossed.\n",
      "check : Profit Line is crossed.\n",
      "check : Profit Line is crossed.\n",
      "check : Losscut.\n"
     ]
    },
    {
     "name": "stderr",
     "output_type": "stream",
     "text": [
      "C:\\Users\\admin\\AppData\\Local\\Temp\\ipykernel_9988\\1064569515.py:161: FutureWarning: Series.__getitem__ treating keys as positions is deprecated. In a future version, integer keys will always be treated as labels (consistent with DataFrame behavior). To access a value by position, use `ser.iloc[pos]`\n",
      "  initiate_asset = data[\"Open\"][0]\n"
     ]
    },
    {
     "name": "stdout",
     "output_type": "stream",
     "text": [
      "check : Profit Line is crossed.\n",
      "check : Profit Line is crossed.\n",
      "check : Losscut.\n",
      "check : Losscut.\n",
      "check : Losscut.\n",
      "check : Losscut.\n",
      "check : Profit Line is crossed.\n",
      "index 0 is out of bounds for axis 0 with size 0\n",
      "loss_cut: 8 profit_count: 7\n",
      "totalreturn: 29.729407747650157 initiate_asset:57.7400016784668\n",
      "0.2949535183313332\n",
      "(入力前の)シグナルが0なら売ります。\n",
      "check : Losscut.\n",
      "check : Profit Line is crossed.\n",
      "check : Losscut.\n",
      "check : Losscut.\n",
      "check : Profit Line is crossed.\n",
      "check : Profit Line is crossed.\n",
      "check : Profit Line is crossed.\n"
     ]
    },
    {
     "name": "stderr",
     "output_type": "stream",
     "text": [
      "C:\\Users\\admin\\AppData\\Local\\Temp\\ipykernel_9988\\1064569515.py:161: FutureWarning: Series.__getitem__ treating keys as positions is deprecated. In a future version, integer keys will always be treated as labels (consistent with DataFrame behavior). To access a value by position, use `ser.iloc[pos]`\n",
      "  initiate_asset = data[\"Open\"][0]\n"
     ]
    },
    {
     "name": "stdout",
     "output_type": "stream",
     "text": [
      "check : Losscut.\n",
      "check : Profit Line is crossed.\n",
      "check : Profit Line is crossed.\n",
      "check : Losscut.\n",
      "check : Losscut.\n",
      "check : Losscut.\n",
      "check : Losscut.\n",
      "check : Profit Line is crossed.\n",
      "index 0 is out of bounds for axis 0 with size 0\n",
      "loss_cut: 8 profit_count: 7\n",
      "totalreturn: 29.940042745971674 initiate_asset:57.7400016784668\n",
      "0.2964883681378995\n",
      "(入力前の)シグナルが0なら売ります。\n",
      "check : Losscut.\n",
      "check : Profit Line is crossed.\n",
      "check : Losscut.\n",
      "check : Losscut.\n",
      "check : Profit Line is crossed.\n"
     ]
    },
    {
     "name": "stderr",
     "output_type": "stream",
     "text": [
      "C:\\Users\\admin\\AppData\\Local\\Temp\\ipykernel_9988\\1064569515.py:161: FutureWarning: Series.__getitem__ treating keys as positions is deprecated. In a future version, integer keys will always be treated as labels (consistent with DataFrame behavior). To access a value by position, use `ser.iloc[pos]`\n",
      "  initiate_asset = data[\"Open\"][0]\n"
     ]
    },
    {
     "name": "stdout",
     "output_type": "stream",
     "text": [
      "check : Profit Line is crossed.\n",
      "check : Profit Line is crossed.\n",
      "check : Losscut.\n",
      "check : Profit Line is crossed.\n",
      "check : Profit Line is crossed.\n",
      "check : Losscut.\n",
      "check : Losscut.\n",
      "check : Losscut.\n",
      "check : Losscut.\n",
      "check : Profit Line is crossed.\n",
      "index 0 is out of bounds for axis 0 with size 0\n",
      "loss_cut: 8 profit_count: 7\n",
      "totalreturn: 30.150677744293226 initiate_asset:57.7400016784668\n",
      "0.29801762095480083\n",
      "(入力前の)シグナルが0なら売ります。\n",
      "check : Losscut.\n",
      "check : Profit Line is crossed.\n",
      "check : Losscut.\n",
      "check : Losscut.\n"
     ]
    },
    {
     "name": "stderr",
     "output_type": "stream",
     "text": [
      "C:\\Users\\admin\\AppData\\Local\\Temp\\ipykernel_9988\\1064569515.py:161: FutureWarning: Series.__getitem__ treating keys as positions is deprecated. In a future version, integer keys will always be treated as labels (consistent with DataFrame behavior). To access a value by position, use `ser.iloc[pos]`\n",
      "  initiate_asset = data[\"Open\"][0]\n"
     ]
    },
    {
     "name": "stdout",
     "output_type": "stream",
     "text": [
      "check : Profit Line is crossed.\n",
      "check : Profit Line is crossed.\n",
      "check : Profit Line is crossed.\n",
      "check : Losscut.\n",
      "check : Profit Line is crossed.\n",
      "check : Profit Line is crossed.\n",
      "check : Losscut.\n",
      "check : Losscut.\n",
      "check : Losscut.\n",
      "check : Losscut.\n",
      "check : Profit Line is crossed.\n",
      "index 0 is out of bounds for axis 0 with size 0\n",
      "loss_cut: 8 profit_count: 7\n",
      "totalreturn: 30.361312742614743 initiate_asset:57.7400016784668\n",
      "0.2995412812583478\n",
      "(入力前の)シグナルが0なら売ります。\n"
     ]
    },
    {
     "name": "stderr",
     "output_type": "stream",
     "text": [
      "C:\\Users\\admin\\AppData\\Local\\Temp\\ipykernel_9988\\1064569515.py:161: FutureWarning: Series.__getitem__ treating keys as positions is deprecated. In a future version, integer keys will always be treated as labels (consistent with DataFrame behavior). To access a value by position, use `ser.iloc[pos]`\n",
      "  initiate_asset = data[\"Open\"][0]\n"
     ]
    },
    {
     "name": "stdout",
     "output_type": "stream",
     "text": [
      "check : Losscut.\n",
      "check : Profit Line is crossed.\n",
      "check : Losscut.\n",
      "check : Losscut.\n",
      "check : Profit Line is crossed.\n",
      "check : Profit Line is crossed.\n",
      "check : Profit Line is crossed.\n",
      "check : Losscut.\n",
      "check : Profit Line is crossed.\n",
      "check : Profit Line is crossed.\n",
      "check : Losscut.\n",
      "check : Losscut.\n",
      "check : Losscut.\n",
      "check : Losscut.\n",
      "check : Profit Line is crossed.\n",
      "index 0 is out of bounds for axis 0 with size 0\n",
      "loss_cut: 8 profit_count: 7\n",
      "totalreturn: 30.571947740936288 initiate_asset:57.7400016784668\n",
      "0.3010593537920958\n",
      "(入力前の)シグナルが0なら売ります。\n",
      "check : Losscut.\n",
      "check : Profit Line is crossed.\n",
      "check : Losscut.\n",
      "check : Losscut.\n",
      "check : Profit Line is crossed.\n",
      "check : Profit Line is crossed.\n",
      "check : Profit Line is crossed.\n"
     ]
    },
    {
     "name": "stderr",
     "output_type": "stream",
     "text": [
      "C:\\Users\\admin\\AppData\\Local\\Temp\\ipykernel_9988\\1064569515.py:161: FutureWarning: Series.__getitem__ treating keys as positions is deprecated. In a future version, integer keys will always be treated as labels (consistent with DataFrame behavior). To access a value by position, use `ser.iloc[pos]`\n",
      "  initiate_asset = data[\"Open\"][0]\n"
     ]
    },
    {
     "name": "stdout",
     "output_type": "stream",
     "text": [
      "check : Losscut.\n",
      "check : Profit Line is crossed.\n",
      "check : Profit Line is crossed.\n",
      "check : Losscut.\n",
      "check : Losscut.\n",
      "check : Losscut.\n",
      "check : Losscut.\n",
      "check : Profit Line is crossed.\n",
      "index 0 is out of bounds for axis 0 with size 0\n",
      "loss_cut: 8 profit_count: 7\n",
      "totalreturn: 30.782582739257812 initiate_asset:57.7400016784668\n",
      "0.302571843563205\n",
      "(入力前の)シグナルが0なら売ります。\n",
      "check : Losscut.\n",
      "check : Profit Line is crossed.\n",
      "check : Losscut.\n",
      "check : Losscut.\n",
      "check : Profit Line is crossed.\n",
      "check : Profit Line is crossed.\n",
      "check : Profit Line is crossed.\n"
     ]
    },
    {
     "name": "stderr",
     "output_type": "stream",
     "text": [
      "C:\\Users\\admin\\AppData\\Local\\Temp\\ipykernel_9988\\1064569515.py:161: FutureWarning: Series.__getitem__ treating keys as positions is deprecated. In a future version, integer keys will always be treated as labels (consistent with DataFrame behavior). To access a value by position, use `ser.iloc[pos]`\n",
      "  initiate_asset = data[\"Open\"][0]\n"
     ]
    },
    {
     "name": "stdout",
     "output_type": "stream",
     "text": [
      "check : Losscut.\n",
      "check : Profit Line is crossed.\n",
      "check : Profit Line is crossed.\n",
      "check : Losscut.\n",
      "check : Losscut.\n",
      "check : Losscut.\n",
      "check : Losscut.\n",
      "check : Profit Line is crossed.\n",
      "index 0 is out of bounds for axis 0 with size 0\n",
      "loss_cut: 8 profit_count: 7\n",
      "totalreturn: 30.993217737579343 initiate_asset:57.7400016784668\n",
      "0.3040787558388079\n",
      "(入力前の)シグナルが0なら売ります。\n",
      "check : Losscut.\n",
      "check : Profit Line is crossed.\n",
      "check : Losscut.\n"
     ]
    },
    {
     "name": "stderr",
     "output_type": "stream",
     "text": [
      "C:\\Users\\admin\\AppData\\Local\\Temp\\ipykernel_9988\\1064569515.py:161: FutureWarning: Series.__getitem__ treating keys as positions is deprecated. In a future version, integer keys will always be treated as labels (consistent with DataFrame behavior). To access a value by position, use `ser.iloc[pos]`\n",
      "  initiate_asset = data[\"Open\"][0]\n"
     ]
    },
    {
     "name": "stdout",
     "output_type": "stream",
     "text": [
      "check : Losscut.\n",
      "check : Profit Line is crossed.\n",
      "check : Profit Line is crossed.\n",
      "check : Profit Line is crossed.\n",
      "check : Losscut.\n",
      "check : Profit Line is crossed.\n",
      "check : Profit Line is crossed.\n",
      "check : Losscut.\n",
      "check : Losscut.\n",
      "check : Losscut.\n",
      "check : Losscut.\n",
      "check : Profit Line is crossed.\n",
      "index 0 is out of bounds for axis 0 with size 0\n",
      "loss_cut: 8 profit_count: 7\n",
      "totalreturn: 31.203852735900874 initiate_asset:57.7400016784668\n",
      "0.3055800961423892\n",
      "(入力前の)シグナルが0なら売ります。\n",
      "check : Losscut.\n",
      "check : Profit Line is crossed.\n",
      "check : Losscut.\n",
      "check : Losscut.\n",
      "check : Profit Line is crossed.\n",
      "check : Profit Line is crossed.\n",
      "check : Profit Line is crossed.\n"
     ]
    },
    {
     "name": "stderr",
     "output_type": "stream",
     "text": [
      "C:\\Users\\admin\\AppData\\Local\\Temp\\ipykernel_9988\\1064569515.py:161: FutureWarning: Series.__getitem__ treating keys as positions is deprecated. In a future version, integer keys will always be treated as labels (consistent with DataFrame behavior). To access a value by position, use `ser.iloc[pos]`\n",
      "  initiate_asset = data[\"Open\"][0]\n"
     ]
    },
    {
     "name": "stdout",
     "output_type": "stream",
     "text": [
      "check : Losscut.\n",
      "check : Profit Line is crossed.\n",
      "check : Profit Line is crossed.\n",
      "check : Losscut.\n",
      "check : Losscut.\n",
      "check : Losscut.\n",
      "check : Losscut.\n",
      "check : Profit Line is crossed.\n",
      "index 0 is out of bounds for axis 0 with size 0\n",
      "loss_cut: 8 profit_count: 7\n",
      "totalreturn: 31.414487734222412 initiate_asset:57.7400016784668\n",
      "0.3070758702501743\n",
      "(入力前の)シグナルが0なら売ります。\n",
      "check : Losscut.\n",
      "check : Profit Line is crossed.\n",
      "check : Losscut.\n"
     ]
    },
    {
     "name": "stderr",
     "output_type": "stream",
     "text": [
      "C:\\Users\\admin\\AppData\\Local\\Temp\\ipykernel_9988\\1064569515.py:161: FutureWarning: Series.__getitem__ treating keys as positions is deprecated. In a future version, integer keys will always be treated as labels (consistent with DataFrame behavior). To access a value by position, use `ser.iloc[pos]`\n",
      "  initiate_asset = data[\"Open\"][0]\n"
     ]
    },
    {
     "name": "stdout",
     "output_type": "stream",
     "text": [
      "check : Losscut.\n",
      "check : Profit Line is crossed.\n",
      "check : Profit Line is crossed.\n",
      "check : Profit Line is crossed.\n",
      "check : Losscut.\n",
      "check : Profit Line is crossed.\n",
      "check : Profit Line is crossed.\n",
      "check : Losscut.\n",
      "check : Losscut.\n",
      "check : Losscut.\n",
      "check : Losscut.\n",
      "check : Profit Line is crossed.\n",
      "index 0 is out of bounds for axis 0 with size 0\n",
      "loss_cut: 8 profit_count: 7\n",
      "totalreturn: 31.625122732543943 initiate_asset:57.7400016784668\n",
      "0.3085660841875291\n",
      "(入力前の)シグナルが0なら売ります。\n",
      "check : Losscut.\n",
      "check : Profit Line is crossed.\n",
      "check : Losscut.\n",
      "check : Losscut.\n",
      "check : Profit Line is crossed.\n",
      "check : Profit Line is crossed.\n",
      "check : Profit Line is crossed.\n",
      "check : Losscut.\n",
      "check : Profit Line is crossed.\n",
      "check : Profit Line is crossed.\n"
     ]
    },
    {
     "name": "stderr",
     "output_type": "stream",
     "text": [
      "C:\\Users\\admin\\AppData\\Local\\Temp\\ipykernel_9988\\1064569515.py:161: FutureWarning: Series.__getitem__ treating keys as positions is deprecated. In a future version, integer keys will always be treated as labels (consistent with DataFrame behavior). To access a value by position, use `ser.iloc[pos]`\n",
      "  initiate_asset = data[\"Open\"][0]\n"
     ]
    },
    {
     "name": "stdout",
     "output_type": "stream",
     "text": [
      "check : Losscut.\n",
      "check : Losscut.\n",
      "check : Losscut.\n",
      "check : Losscut.\n",
      "check : Profit Line is crossed.\n",
      "index 0 is out of bounds for axis 0 with size 0\n",
      "loss_cut: 8 profit_count: 7\n",
      "totalreturn: 31.835757730865474 initiate_asset:57.7400016784668\n",
      "0.31005074422537376\n",
      "(入力前の)シグナルが0なら売ります。\n",
      "check : Losscut.\n",
      "check : Profit Line is crossed.\n",
      "check : Losscut.\n",
      "check : Losscut.\n",
      "check : Profit Line is crossed.\n",
      "check : Profit Line is crossed.\n",
      "check : Profit Line is crossed.\n"
     ]
    },
    {
     "name": "stderr",
     "output_type": "stream",
     "text": [
      "C:\\Users\\admin\\AppData\\Local\\Temp\\ipykernel_9988\\1064569515.py:161: FutureWarning: Series.__getitem__ treating keys as positions is deprecated. In a future version, integer keys will always be treated as labels (consistent with DataFrame behavior). To access a value by position, use `ser.iloc[pos]`\n",
      "  initiate_asset = data[\"Open\"][0]\n"
     ]
    },
    {
     "name": "stdout",
     "output_type": "stream",
     "text": [
      "check : Losscut.\n",
      "check : Profit Line is crossed.\n",
      "check : Profit Line is crossed.\n",
      "check : Losscut.\n",
      "check : Losscut.\n",
      "check : Losscut.\n",
      "check : Losscut.\n",
      "check : Profit Line is crossed.\n",
      "index 0 is out of bounds for axis 0 with size 0\n",
      "loss_cut: 8 profit_count: 7\n",
      "totalreturn: 32.046392729187005 initiate_asset:57.7400016784668\n",
      "0.31152985687660584\n",
      "(入力前の)シグナルが0なら売ります。\n",
      "check : Losscut.\n",
      "check : Profit Line is crossed.\n",
      "check : Losscut.\n",
      "check : Losscut.\n",
      "check : Profit Line is crossed.\n",
      "check : Losscut.\n",
      "check : Profit Line is crossed.\n"
     ]
    },
    {
     "name": "stderr",
     "output_type": "stream",
     "text": [
      "C:\\Users\\admin\\AppData\\Local\\Temp\\ipykernel_9988\\1064569515.py:161: FutureWarning: Series.__getitem__ treating keys as positions is deprecated. In a future version, integer keys will always be treated as labels (consistent with DataFrame behavior). To access a value by position, use `ser.iloc[pos]`\n",
      "  initiate_asset = data[\"Open\"][0]\n"
     ]
    },
    {
     "name": "stdout",
     "output_type": "stream",
     "text": [
      "check : Losscut.\n",
      "check : Profit Line is crossed.\n",
      "check : Profit Line is crossed.\n",
      "check : Losscut.\n",
      "check : Losscut.\n",
      "check : Losscut.\n",
      "check : Losscut.\n",
      "check : Profit Line is crossed.\n",
      "index 0 is out of bounds for axis 0 with size 0\n",
      "loss_cut: 9 profit_count: 6\n",
      "totalreturn: 19.87301683120728 initiate_asset:57.7400016784668\n",
      "0.1835855450455222\n",
      "(入力前の)シグナルが0なら売ります。\n",
      "check : Losscut.\n",
      "check : Profit Line is crossed.\n",
      "check : Losscut.\n",
      "check : Losscut.\n",
      "check : Profit Line is crossed.\n",
      "check : Losscut.\n",
      "check : Profit Line is crossed.\n"
     ]
    },
    {
     "name": "stderr",
     "output_type": "stream",
     "text": [
      "C:\\Users\\admin\\AppData\\Local\\Temp\\ipykernel_9988\\1064569515.py:161: FutureWarning: Series.__getitem__ treating keys as positions is deprecated. In a future version, integer keys will always be treated as labels (consistent with DataFrame behavior). To access a value by position, use `ser.iloc[pos]`\n",
      "  initiate_asset = data[\"Open\"][0]\n"
     ]
    },
    {
     "name": "stdout",
     "output_type": "stream",
     "text": [
      "check : Losscut.\n",
      "check : Profit Line is crossed.\n",
      "check : Profit Line is crossed.\n",
      "check : Losscut.\n",
      "check : Losscut.\n",
      "check : Losscut.\n",
      "check : Losscut.\n",
      "check : Profit Line is crossed.\n",
      "index 0 is out of bounds for axis 0 with size 0\n",
      "loss_cut: 9 profit_count: 6\n",
      "totalreturn: 20.047206829833996 initiate_asset:57.7400016784668\n",
      "0.18487866555185548\n",
      "(入力前の)シグナルが0なら売ります。\n",
      "check : Losscut.\n",
      "check : Profit Line is crossed.\n",
      "check : Losscut.\n",
      "check : Losscut.\n",
      "check : Profit Line is crossed.\n"
     ]
    },
    {
     "name": "stderr",
     "output_type": "stream",
     "text": [
      "C:\\Users\\admin\\AppData\\Local\\Temp\\ipykernel_9988\\1064569515.py:161: FutureWarning: Series.__getitem__ treating keys as positions is deprecated. In a future version, integer keys will always be treated as labels (consistent with DataFrame behavior). To access a value by position, use `ser.iloc[pos]`\n",
      "  initiate_asset = data[\"Open\"][0]\n"
     ]
    },
    {
     "name": "stdout",
     "output_type": "stream",
     "text": [
      "check : Losscut.\n",
      "check : Profit Line is crossed.\n",
      "check : Losscut.\n",
      "check : Profit Line is crossed.\n",
      "check : Profit Line is crossed.\n",
      "check : Losscut.\n",
      "check : Losscut.\n",
      "check : Losscut.\n",
      "check : Losscut.\n",
      "check : Profit Line is crossed.\n",
      "index 0 is out of bounds for axis 0 with size 0\n",
      "loss_cut: 9 profit_count: 6\n",
      "totalreturn: 20.221396828460698 initiate_asset:57.7400016784668\n",
      "0.1861679417166486\n",
      "(入力前の)シグナルが0なら売ります。\n",
      "check : Losscut.\n",
      "check : Profit Line is crossed.\n",
      "check : Losscut.\n"
     ]
    },
    {
     "name": "stderr",
     "output_type": "stream",
     "text": [
      "C:\\Users\\admin\\AppData\\Local\\Temp\\ipykernel_9988\\1064569515.py:161: FutureWarning: Series.__getitem__ treating keys as positions is deprecated. In a future version, integer keys will always be treated as labels (consistent with DataFrame behavior). To access a value by position, use `ser.iloc[pos]`\n",
      "  initiate_asset = data[\"Open\"][0]\n"
     ]
    },
    {
     "name": "stdout",
     "output_type": "stream",
     "text": [
      "check : Losscut.\n",
      "check : Profit Line is crossed.\n",
      "check : Losscut.\n",
      "check : Profit Line is crossed.\n",
      "check : Losscut.\n",
      "check : Profit Line is crossed.\n",
      "check : Profit Line is crossed.\n",
      "check : Losscut.\n",
      "check : Losscut.\n",
      "check : Losscut.\n",
      "check : Losscut.\n",
      "check : Profit Line is crossed.\n",
      "index 0 is out of bounds for axis 0 with size 0\n",
      "loss_cut: 9 profit_count: 6\n",
      "totalreturn: 20.395586827087406 initiate_asset:57.7400016784668\n",
      "0.1874533735706762\n",
      "(入力前の)シグナルが0なら売ります。\n"
     ]
    },
    {
     "name": "stderr",
     "output_type": "stream",
     "text": [
      "C:\\Users\\admin\\AppData\\Local\\Temp\\ipykernel_9988\\1064569515.py:161: FutureWarning: Series.__getitem__ treating keys as positions is deprecated. In a future version, integer keys will always be treated as labels (consistent with DataFrame behavior). To access a value by position, use `ser.iloc[pos]`\n",
      "  initiate_asset = data[\"Open\"][0]\n"
     ]
    },
    {
     "name": "stdout",
     "output_type": "stream",
     "text": [
      "check : Losscut.\n",
      "check : Profit Line is crossed.\n",
      "check : Losscut.\n",
      "check : Losscut.\n",
      "check : Profit Line is crossed.\n",
      "check : Losscut.\n",
      "check : Profit Line is crossed.\n",
      "check : Losscut.\n",
      "check : Profit Line is crossed.\n",
      "check : Profit Line is crossed.\n",
      "check : Losscut.\n",
      "check : Losscut.\n",
      "check : Losscut.\n",
      "check : Losscut.\n",
      "check : Profit Line is crossed.\n",
      "index 0 is out of bounds for axis 0 with size 0\n",
      "loss_cut: 9 profit_count: 6\n",
      "totalreturn: 20.569776825714115 initiate_asset:57.7400016784668\n",
      "0.1887349613163971\n",
      "(入力前の)シグナルが0なら売ります。\n",
      "check : Losscut.\n",
      "check : Profit Line is crossed.\n",
      "check : Losscut.\n",
      "check : Losscut.\n",
      "check : Profit Line is crossed.\n",
      "check : Losscut.\n",
      "check : Profit Line is crossed.\n"
     ]
    },
    {
     "name": "stderr",
     "output_type": "stream",
     "text": [
      "C:\\Users\\admin\\AppData\\Local\\Temp\\ipykernel_9988\\1064569515.py:161: FutureWarning: Series.__getitem__ treating keys as positions is deprecated. In a future version, integer keys will always be treated as labels (consistent with DataFrame behavior). To access a value by position, use `ser.iloc[pos]`\n",
      "  initiate_asset = data[\"Open\"][0]\n"
     ]
    },
    {
     "name": "stdout",
     "output_type": "stream",
     "text": [
      "check : Losscut.\n",
      "check : Profit Line is crossed.\n",
      "check : Profit Line is crossed.\n",
      "check : Losscut.\n",
      "check : Losscut.\n",
      "check : Losscut.\n",
      "check : Losscut.\n",
      "check : Profit Line is crossed.\n",
      "index 0 is out of bounds for axis 0 with size 0\n",
      "loss_cut: 9 profit_count: 6\n",
      "totalreturn: 20.743966824340827 initiate_asset:57.7400016784668\n",
      "0.19001270532613818\n",
      "(入力前の)シグナルが0なら売ります。\n",
      "check : Losscut.\n",
      "check : Profit Line is crossed.\n",
      "check : Losscut.\n",
      "check : Losscut.\n",
      "check : Profit Line is crossed.\n"
     ]
    },
    {
     "name": "stderr",
     "output_type": "stream",
     "text": [
      "C:\\Users\\admin\\AppData\\Local\\Temp\\ipykernel_9988\\1064569515.py:161: FutureWarning: Series.__getitem__ treating keys as positions is deprecated. In a future version, integer keys will always be treated as labels (consistent with DataFrame behavior). To access a value by position, use `ser.iloc[pos]`\n",
      "  initiate_asset = data[\"Open\"][0]\n"
     ]
    },
    {
     "name": "stdout",
     "output_type": "stream",
     "text": [
      "check : Losscut.\n",
      "check : Profit Line is crossed.\n",
      "check : Losscut.\n",
      "check : Profit Line is crossed.\n",
      "check : Profit Line is crossed.\n",
      "check : Losscut.\n",
      "check : Losscut.\n",
      "check : Losscut.\n",
      "check : Losscut.\n",
      "check : Profit Line is crossed.\n",
      "index 0 is out of bounds for axis 0 with size 0\n",
      "loss_cut: 9 profit_count: 6\n",
      "totalreturn: 20.918156822967536 initiate_asset:57.7400016784668\n",
      "0.19128660614027745\n",
      "(入力前の)シグナルが0なら売ります。\n",
      "check : Losscut.\n",
      "check : Profit Line is crossed.\n",
      "check : Losscut.\n",
      "check : Losscut.\n",
      "check : Profit Line is crossed.\n",
      "check : Losscut.\n",
      "check : Profit Line is crossed.\n"
     ]
    },
    {
     "name": "stderr",
     "output_type": "stream",
     "text": [
      "C:\\Users\\admin\\AppData\\Local\\Temp\\ipykernel_9988\\1064569515.py:161: FutureWarning: Series.__getitem__ treating keys as positions is deprecated. In a future version, integer keys will always be treated as labels (consistent with DataFrame behavior). To access a value by position, use `ser.iloc[pos]`\n",
      "  initiate_asset = data[\"Open\"][0]\n"
     ]
    },
    {
     "name": "stdout",
     "output_type": "stream",
     "text": [
      "check : Losscut.\n",
      "check : Profit Line is crossed.\n",
      "check : Profit Line is crossed.\n",
      "check : Losscut.\n",
      "check : Losscut.\n",
      "check : Losscut.\n",
      "check : Losscut.\n",
      "check : Profit Line is crossed.\n",
      "index 0 is out of bounds for axis 0 with size 0\n",
      "loss_cut: 9 profit_count: 6\n",
      "totalreturn: 21.092346821594248 initiate_asset:57.7400016784668\n",
      "0.19255666446542888\n",
      "(入力前の)シグナルが0なら売ります。\n",
      "check : Losscut.\n",
      "check : Profit Line is crossed.\n",
      "check : Losscut.\n"
     ]
    },
    {
     "name": "stderr",
     "output_type": "stream",
     "text": [
      "C:\\Users\\admin\\AppData\\Local\\Temp\\ipykernel_9988\\1064569515.py:161: FutureWarning: Series.__getitem__ treating keys as positions is deprecated. In a future version, integer keys will always be treated as labels (consistent with DataFrame behavior). To access a value by position, use `ser.iloc[pos]`\n",
      "  initiate_asset = data[\"Open\"][0]\n"
     ]
    },
    {
     "name": "stdout",
     "output_type": "stream",
     "text": [
      "check : Losscut.\n",
      "check : Profit Line is crossed.\n",
      "check : Losscut.\n",
      "check : Profit Line is crossed.\n",
      "check : Losscut.\n",
      "check : Profit Line is crossed.\n",
      "check : Profit Line is crossed.\n",
      "check : Losscut.\n",
      "check : Losscut.\n",
      "check : Losscut.\n",
      "check : Losscut.\n",
      "check : Profit Line is crossed.\n",
      "index 0 is out of bounds for axis 0 with size 0\n",
      "loss_cut: 9 profit_count: 6\n",
      "totalreturn: 21.26653682022095 initiate_asset:57.7400016784668\n",
      "0.19382288117262866\n",
      "(入力前の)シグナルが0なら売ります。\n",
      "check : Losscut.\n"
     ]
    },
    {
     "name": "stderr",
     "output_type": "stream",
     "text": [
      "C:\\Users\\admin\\AppData\\Local\\Temp\\ipykernel_9988\\1064569515.py:161: FutureWarning: Series.__getitem__ treating keys as positions is deprecated. In a future version, integer keys will always be treated as labels (consistent with DataFrame behavior). To access a value by position, use `ser.iloc[pos]`\n",
      "  initiate_asset = data[\"Open\"][0]\n"
     ]
    },
    {
     "name": "stdout",
     "output_type": "stream",
     "text": [
      "check : Profit Line is crossed.\n",
      "check : Losscut.\n",
      "check : Losscut.\n",
      "check : Profit Line is crossed.\n",
      "check : Losscut.\n",
      "check : Profit Line is crossed.\n",
      "check : Losscut.\n",
      "check : Profit Line is crossed.\n",
      "check : Profit Line is crossed.\n",
      "check : Losscut.\n",
      "check : Losscut.\n",
      "check : Losscut.\n",
      "check : Losscut.\n",
      "check : Profit Line is crossed.\n",
      "index 0 is out of bounds for axis 0 with size 0\n",
      "loss_cut: 9 profit_count: 6\n",
      "totalreturn: 21.44072681884765 initiate_asset:57.7400016784668\n",
      "0.1950852572955223\n",
      "(入力前の)シグナルが0なら売ります。\n",
      "check : Losscut.\n",
      "check : Profit Line is crossed.\n",
      "check : Losscut.\n",
      "check : Losscut.\n",
      "check : Profit Line is crossed.\n",
      "check : Losscut.\n",
      "check : Profit Line is crossed.\n",
      "check : Losscut.\n",
      "check : Profit Line is crossed.\n",
      "check : Profit Line is crossed.\n",
      "check : Losscut.\n",
      "check : Losscut.\n"
     ]
    },
    {
     "name": "stderr",
     "output_type": "stream",
     "text": [
      "C:\\Users\\admin\\AppData\\Local\\Temp\\ipykernel_9988\\1064569515.py:161: FutureWarning: Series.__getitem__ treating keys as positions is deprecated. In a future version, integer keys will always be treated as labels (consistent with DataFrame behavior). To access a value by position, use `ser.iloc[pos]`\n",
      "  initiate_asset = data[\"Open\"][0]\n"
     ]
    },
    {
     "name": "stdout",
     "output_type": "stream",
     "text": [
      "check : Losscut.\n",
      "check : Losscut.\n",
      "check : Profit Line is crossed.\n",
      "index 0 is out of bounds for axis 0 with size 0\n",
      "loss_cut: 9 profit_count: 6\n",
      "totalreturn: 21.614916817474366 initiate_asset:57.7400016784668\n",
      "0.19634379402855442\n",
      "(入力前の)シグナルが0なら売ります。\n",
      "check : Losscut.\n",
      "check : Profit Line is crossed.\n",
      "check : Losscut.\n",
      "check : Losscut.\n",
      "check : Profit Line is crossed.\n",
      "check : Losscut.\n",
      "check : Profit Line is crossed.\n",
      "check : Losscut.\n",
      "check : Profit Line is crossed.\n"
     ]
    },
    {
     "name": "stderr",
     "output_type": "stream",
     "text": [
      "C:\\Users\\admin\\AppData\\Local\\Temp\\ipykernel_9988\\1064569515.py:161: FutureWarning: Series.__getitem__ treating keys as positions is deprecated. In a future version, integer keys will always be treated as labels (consistent with DataFrame behavior). To access a value by position, use `ser.iloc[pos]`\n",
      "  initiate_asset = data[\"Open\"][0]\n"
     ]
    },
    {
     "name": "stdout",
     "output_type": "stream",
     "text": [
      "check : Profit Line is crossed.\n",
      "check : Losscut.\n",
      "check : Losscut.\n",
      "check : Losscut.\n",
      "check : Losscut.\n",
      "check : Profit Line is crossed.\n",
      "index 0 is out of bounds for axis 0 with size 0\n",
      "loss_cut: 9 profit_count: 6\n",
      "totalreturn: 21.789106816101082 initiate_asset:57.7400016784668\n",
      "0.1975984927251609\n",
      "(入力前の)シグナルが0なら売ります。\n",
      "check : Losscut.\n",
      "check : Profit Line is crossed.\n",
      "check : Losscut.\n",
      "check : Losscut.\n",
      "check : Profit Line is crossed.\n",
      "check : Losscut.\n",
      "check : Profit Line is crossed.\n"
     ]
    },
    {
     "name": "stderr",
     "output_type": "stream",
     "text": [
      "C:\\Users\\admin\\AppData\\Local\\Temp\\ipykernel_9988\\1064569515.py:161: FutureWarning: Series.__getitem__ treating keys as positions is deprecated. In a future version, integer keys will always be treated as labels (consistent with DataFrame behavior). To access a value by position, use `ser.iloc[pos]`\n",
      "  initiate_asset = data[\"Open\"][0]\n"
     ]
    },
    {
     "name": "stdout",
     "output_type": "stream",
     "text": [
      "check : Losscut.\n",
      "check : Profit Line is crossed.\n",
      "check : Profit Line is crossed.\n",
      "check : Losscut.\n",
      "check : Losscut.\n",
      "check : Losscut.\n",
      "check : Losscut.\n",
      "check : Profit Line is crossed.\n",
      "index 0 is out of bounds for axis 0 with size 0\n",
      "loss_cut: 9 profit_count: 6\n",
      "totalreturn: 21.96329681472779 initiate_asset:57.7400016784668\n",
      "0.19884935489596237\n",
      "(入力前の)シグナルが0なら売ります。\n",
      "check : Losscut.\n",
      "check : Profit Line is crossed.\n",
      "check : Losscut.\n",
      "check : Losscut.\n",
      "check : Profit Line is crossed.\n",
      "check : Losscut.\n",
      "check : Profit Line is crossed.\n"
     ]
    },
    {
     "name": "stderr",
     "output_type": "stream",
     "text": [
      "C:\\Users\\admin\\AppData\\Local\\Temp\\ipykernel_9988\\1064569515.py:161: FutureWarning: Series.__getitem__ treating keys as positions is deprecated. In a future version, integer keys will always be treated as labels (consistent with DataFrame behavior). To access a value by position, use `ser.iloc[pos]`\n",
      "  initiate_asset = data[\"Open\"][0]\n"
     ]
    },
    {
     "name": "stdout",
     "output_type": "stream",
     "text": [
      "check : Losscut.\n",
      "check : Profit Line is crossed.\n",
      "check : Profit Line is crossed.\n",
      "check : Losscut.\n",
      "check : Losscut.\n",
      "check : Losscut.\n",
      "check : Losscut.\n",
      "check : Profit Line is crossed.\n",
      "index 0 is out of bounds for axis 0 with size 0\n",
      "loss_cut: 9 profit_count: 6\n",
      "totalreturn: 22.1374868133545 initiate_asset:57.7400016784668\n",
      "0.2000963822069631\n",
      "(入力前の)シグナルが0なら売ります。\n",
      "check : Losscut.\n",
      "check : Profit Line is crossed.\n",
      "check : Losscut.\n",
      "check : Losscut.\n",
      "check : Profit Line is crossed.\n",
      "check : Losscut.\n"
     ]
    },
    {
     "name": "stderr",
     "output_type": "stream",
     "text": [
      "C:\\Users\\admin\\AppData\\Local\\Temp\\ipykernel_9988\\1064569515.py:161: FutureWarning: Series.__getitem__ treating keys as positions is deprecated. In a future version, integer keys will always be treated as labels (consistent with DataFrame behavior). To access a value by position, use `ser.iloc[pos]`\n",
      "  initiate_asset = data[\"Open\"][0]\n"
     ]
    },
    {
     "name": "stdout",
     "output_type": "stream",
     "text": [
      "check : Profit Line is crossed.\n",
      "check : Losscut.\n",
      "check : Profit Line is crossed.\n",
      "check : Profit Line is crossed.\n",
      "check : Losscut.\n",
      "check : Losscut.\n",
      "check : Losscut.\n",
      "check : Losscut.\n",
      "check : Profit Line is crossed.\n",
      "index 0 is out of bounds for axis 0 with size 0\n",
      "loss_cut: 9 profit_count: 6\n",
      "totalreturn: 22.3116768119812 initiate_asset:57.7400016784668\n",
      "0.20133957647775017\n",
      "(入力前の)シグナルが0なら売ります。\n",
      "check : Losscut.\n",
      "check : Profit Line is crossed.\n"
     ]
    },
    {
     "name": "stderr",
     "output_type": "stream",
     "text": [
      "C:\\Users\\admin\\AppData\\Local\\Temp\\ipykernel_9988\\1064569515.py:161: FutureWarning: Series.__getitem__ treating keys as positions is deprecated. In a future version, integer keys will always be treated as labels (consistent with DataFrame behavior). To access a value by position, use `ser.iloc[pos]`\n",
      "  initiate_asset = data[\"Open\"][0]\n"
     ]
    },
    {
     "name": "stdout",
     "output_type": "stream",
     "text": [
      "check : Losscut.\n",
      "check : Losscut.\n",
      "check : Profit Line is crossed.\n",
      "check : Losscut.\n",
      "check : Profit Line is crossed.\n",
      "check : Losscut.\n",
      "check : Profit Line is crossed.\n",
      "check : Profit Line is crossed.\n",
      "check : Losscut.\n",
      "check : Losscut.\n",
      "check : Losscut.\n",
      "check : Losscut.\n",
      "check : Profit Line is crossed.\n",
      "index 0 is out of bounds for axis 0 with size 0\n",
      "loss_cut: 9 profit_count: 6\n",
      "totalreturn: 22.485866810607916 initiate_asset:57.7400016784668\n",
      "0.20257893967969845\n",
      "(入力前の)シグナルが0なら売ります。\n",
      "check : Losscut.\n",
      "check : Profit Line is crossed.\n",
      "check : Losscut.\n",
      "check : Losscut.\n",
      "check : Profit Line is crossed.\n",
      "check : Losscut.\n",
      "check : Profit Line is crossed.\n"
     ]
    },
    {
     "name": "stderr",
     "output_type": "stream",
     "text": [
      "C:\\Users\\admin\\AppData\\Local\\Temp\\ipykernel_9988\\1064569515.py:161: FutureWarning: Series.__getitem__ treating keys as positions is deprecated. In a future version, integer keys will always be treated as labels (consistent with DataFrame behavior). To access a value by position, use `ser.iloc[pos]`\n",
      "  initiate_asset = data[\"Open\"][0]\n"
     ]
    },
    {
     "name": "stdout",
     "output_type": "stream",
     "text": [
      "check : Losscut.\n",
      "check : Profit Line is crossed.\n",
      "check : Profit Line is crossed.\n",
      "check : Losscut.\n",
      "check : Losscut.\n",
      "check : Losscut.\n",
      "check : Losscut.\n",
      "check : Profit Line is crossed.\n",
      "index 0 is out of bounds for axis 0 with size 0\n",
      "loss_cut: 9 profit_count: 6\n",
      "totalreturn: 22.660056809234632 initiate_asset:57.7400016784668\n",
      "0.203814473934178\n",
      "(入力前の)シグナルが0なら売ります。\n",
      "check : Losscut.\n",
      "check : Profit Line is crossed.\n",
      "check : Losscut.\n",
      "check : Losscut.\n",
      "check : Profit Line is crossed.\n",
      "check : Losscut.\n"
     ]
    },
    {
     "name": "stderr",
     "output_type": "stream",
     "text": [
      "C:\\Users\\admin\\AppData\\Local\\Temp\\ipykernel_9988\\1064569515.py:161: FutureWarning: Series.__getitem__ treating keys as positions is deprecated. In a future version, integer keys will always be treated as labels (consistent with DataFrame behavior). To access a value by position, use `ser.iloc[pos]`\n",
      "  initiate_asset = data[\"Open\"][0]\n"
     ]
    },
    {
     "name": "stdout",
     "output_type": "stream",
     "text": [
      "check : Profit Line is crossed.\n",
      "check : Losscut.\n",
      "check : Profit Line is crossed.\n",
      "check : Profit Line is crossed.\n",
      "check : Losscut.\n",
      "check : Losscut.\n",
      "check : Losscut.\n",
      "check : Losscut.\n",
      "check : Profit Line is crossed.\n",
      "index 0 is out of bounds for axis 0 with size 0\n",
      "loss_cut: 9 profit_count: 6\n",
      "totalreturn: 22.834246807861327 initiate_asset:57.7400016784668\n",
      "0.20504618151076628\n",
      "(入力前の)シグナルが0なら売ります。\n",
      "check : Losscut.\n",
      "check : Profit Line is crossed.\n",
      "check : Losscut.\n"
     ]
    },
    {
     "name": "stderr",
     "output_type": "stream",
     "text": [
      "C:\\Users\\admin\\AppData\\Local\\Temp\\ipykernel_9988\\1064569515.py:161: FutureWarning: Series.__getitem__ treating keys as positions is deprecated. In a future version, integer keys will always be treated as labels (consistent with DataFrame behavior). To access a value by position, use `ser.iloc[pos]`\n",
      "  initiate_asset = data[\"Open\"][0]\n"
     ]
    },
    {
     "name": "stdout",
     "output_type": "stream",
     "text": [
      "check : Losscut.\n",
      "check : Profit Line is crossed.\n",
      "check : Losscut.\n",
      "check : Profit Line is crossed.\n",
      "check : Losscut.\n",
      "check : Profit Line is crossed.\n",
      "check : Profit Line is crossed.\n",
      "check : Losscut.\n",
      "check : Losscut.\n",
      "check : Losscut.\n",
      "check : Losscut.\n",
      "check : Profit Line is crossed.\n",
      "index 0 is out of bounds for axis 0 with size 0\n",
      "loss_cut: 9 profit_count: 6\n",
      "totalreturn: 23.008436806488042 initiate_asset:57.7400016784668\n",
      "0.20627406482546462\n",
      "(入力前の)シグナルが0なら売ります。\n"
     ]
    },
    {
     "name": "stderr",
     "output_type": "stream",
     "text": [
      "C:\\Users\\admin\\AppData\\Local\\Temp\\ipykernel_9988\\1064569515.py:161: FutureWarning: Series.__getitem__ treating keys as positions is deprecated. In a future version, integer keys will always be treated as labels (consistent with DataFrame behavior). To access a value by position, use `ser.iloc[pos]`\n",
      "  initiate_asset = data[\"Open\"][0]\n"
     ]
    },
    {
     "name": "stdout",
     "output_type": "stream",
     "text": [
      "check : Losscut.\n",
      "check : Profit Line is crossed.\n",
      "check : Losscut.\n",
      "check : Losscut.\n",
      "check : Profit Line is crossed.\n",
      "check : Losscut.\n",
      "check : Profit Line is crossed.\n",
      "check : Losscut.\n",
      "check : Profit Line is crossed.\n",
      "check : Profit Line is crossed.\n",
      "check : Losscut.\n",
      "check : Losscut.\n",
      "check : Losscut.\n",
      "check : Losscut.\n",
      "check : Profit Line is crossed.\n",
      "index 0 is out of bounds for axis 0 with size 0\n",
      "loss_cut: 9 profit_count: 6\n",
      "totalreturn: 23.182626805114747 initiate_asset:57.7400016784668\n",
      "0.20749812643891855\n",
      "(入力前の)シグナルが0なら売ります。\n",
      "check : Losscut.\n",
      "check : Profit Line is crossed.\n",
      "check : Losscut.\n",
      "check : Losscut.\n",
      "check : Profit Line is crossed.\n",
      "check : Losscut.\n",
      "check : Profit Line is crossed.\n"
     ]
    },
    {
     "name": "stderr",
     "output_type": "stream",
     "text": [
      "C:\\Users\\admin\\AppData\\Local\\Temp\\ipykernel_9988\\1064569515.py:161: FutureWarning: Series.__getitem__ treating keys as positions is deprecated. In a future version, integer keys will always be treated as labels (consistent with DataFrame behavior). To access a value by position, use `ser.iloc[pos]`\n",
      "  initiate_asset = data[\"Open\"][0]\n"
     ]
    },
    {
     "name": "stdout",
     "output_type": "stream",
     "text": [
      "check : Losscut.\n",
      "check : Profit Line is crossed.\n",
      "check : Profit Line is crossed.\n",
      "check : Losscut.\n",
      "check : Losscut.\n",
      "check : Losscut.\n",
      "check : Losscut.\n",
      "check : Profit Line is crossed.\n",
      "index 0 is out of bounds for axis 0 with size 0\n",
      "loss_cut: 9 profit_count: 6\n",
      "totalreturn: 23.35681680374146 initiate_asset:57.7400016784668\n",
      "0.20871836905464458\n",
      "(入力前の)シグナルが0なら売ります。\n",
      "check : Losscut.\n",
      "check : Profit Line is crossed.\n",
      "check : Losscut.\n",
      "check : Losscut.\n",
      "check : Profit Line is crossed.\n"
     ]
    },
    {
     "name": "stderr",
     "output_type": "stream",
     "text": [
      "C:\\Users\\admin\\AppData\\Local\\Temp\\ipykernel_9988\\1064569515.py:161: FutureWarning: Series.__getitem__ treating keys as positions is deprecated. In a future version, integer keys will always be treated as labels (consistent with DataFrame behavior). To access a value by position, use `ser.iloc[pos]`\n",
      "  initiate_asset = data[\"Open\"][0]\n"
     ]
    },
    {
     "name": "stdout",
     "output_type": "stream",
     "text": [
      "check : Losscut.\n",
      "check : Profit Line is crossed.\n",
      "check : Losscut.\n",
      "check : Profit Line is crossed.\n",
      "check : Profit Line is crossed.\n",
      "check : Losscut.\n",
      "check : Losscut.\n",
      "check : Losscut.\n",
      "check : Losscut.\n",
      "check : Profit Line is crossed.\n",
      "index 0 is out of bounds for axis 0 with size 0\n",
      "loss_cut: 9 profit_count: 6\n",
      "totalreturn: 23.531006802368168 initiate_asset:57.7400016784668\n",
      "0.2099347955172601\n",
      "(入力前の)シグナルが0なら売ります。\n",
      "check : Losscut.\n",
      "check : Profit Line is crossed.\n",
      "check : Losscut.\n",
      "check : Losscut.\n"
     ]
    },
    {
     "name": "stderr",
     "output_type": "stream",
     "text": [
      "C:\\Users\\admin\\AppData\\Local\\Temp\\ipykernel_9988\\1064569515.py:161: FutureWarning: Series.__getitem__ treating keys as positions is deprecated. In a future version, integer keys will always be treated as labels (consistent with DataFrame behavior). To access a value by position, use `ser.iloc[pos]`\n",
      "  initiate_asset = data[\"Open\"][0]\n"
     ]
    },
    {
     "name": "stdout",
     "output_type": "stream",
     "text": [
      "check : Profit Line is crossed.\n",
      "check : Losscut.\n",
      "check : Profit Line is crossed.\n",
      "check : Losscut.\n",
      "check : Profit Line is crossed.\n",
      "check : Profit Line is crossed.\n",
      "check : Losscut.\n",
      "check : Losscut.\n",
      "check : Losscut.\n",
      "check : Losscut.\n",
      "check : Profit Line is crossed.\n",
      "index 0 is out of bounds for axis 0 with size 0\n",
      "loss_cut: 9 profit_count: 6\n",
      "totalreturn: 23.705196800994866 initiate_asset:57.7400016784668\n",
      "0.2111474088107206\n",
      "(入力前の)シグナルが0なら売ります。\n"
     ]
    },
    {
     "name": "stderr",
     "output_type": "stream",
     "text": [
      "C:\\Users\\admin\\AppData\\Local\\Temp\\ipykernel_9988\\1064569515.py:161: FutureWarning: Series.__getitem__ treating keys as positions is deprecated. In a future version, integer keys will always be treated as labels (consistent with DataFrame behavior). To access a value by position, use `ser.iloc[pos]`\n",
      "  initiate_asset = data[\"Open\"][0]\n"
     ]
    },
    {
     "name": "stdout",
     "output_type": "stream",
     "text": [
      "check : Losscut.\n",
      "check : Profit Line is crossed.\n",
      "check : Losscut.\n",
      "check : Losscut.\n",
      "check : Profit Line is crossed.\n",
      "check : Losscut.\n",
      "check : Profit Line is crossed.\n",
      "check : Losscut.\n",
      "check : Profit Line is crossed.\n",
      "check : Profit Line is crossed.\n",
      "check : Losscut.\n",
      "check : Losscut.\n",
      "check : Losscut.\n",
      "check : Losscut.\n",
      "check : Profit Line is crossed.\n",
      "index 0 is out of bounds for axis 0 with size 0\n",
      "loss_cut: 9 profit_count: 6\n",
      "totalreturn: 23.879386799621585 initiate_asset:57.7400016784668\n",
      "0.21235621205656152\n",
      "(入力前の)シグナルが0なら売ります。\n",
      "check : Losscut.\n",
      "check : Profit Line is crossed.\n",
      "check : Losscut.\n",
      "check : Losscut.\n",
      "check : Profit Line is crossed.\n",
      "check : Losscut.\n",
      "check : Profit Line is crossed.\n"
     ]
    },
    {
     "name": "stderr",
     "output_type": "stream",
     "text": [
      "C:\\Users\\admin\\AppData\\Local\\Temp\\ipykernel_9988\\1064569515.py:161: FutureWarning: Series.__getitem__ treating keys as positions is deprecated. In a future version, integer keys will always be treated as labels (consistent with DataFrame behavior). To access a value by position, use `ser.iloc[pos]`\n",
      "  initiate_asset = data[\"Open\"][0]\n"
     ]
    },
    {
     "name": "stdout",
     "output_type": "stream",
     "text": [
      "check : Losscut.\n",
      "check : Profit Line is crossed.\n",
      "check : Profit Line is crossed.\n",
      "check : Losscut.\n",
      "check : Losscut.\n",
      "check : Losscut.\n",
      "check : Losscut.\n",
      "check : Profit Line is crossed.\n",
      "index 0 is out of bounds for axis 0 with size 0\n",
      "loss_cut: 9 profit_count: 6\n",
      "totalreturn: 24.053576798248294 initiate_asset:57.7400016784668\n",
      "0.21356120851214555\n",
      "(入力前の)シグナルが0なら売ります。\n",
      "check : Losscut.\n",
      "check : Profit Line is crossed.\n",
      "check : Losscut.\n",
      "check : Losscut.\n",
      "check : Profit Line is crossed.\n",
      "check : Losscut.\n"
     ]
    },
    {
     "name": "stderr",
     "output_type": "stream",
     "text": [
      "C:\\Users\\admin\\AppData\\Local\\Temp\\ipykernel_9988\\1064569515.py:161: FutureWarning: Series.__getitem__ treating keys as positions is deprecated. In a future version, integer keys will always be treated as labels (consistent with DataFrame behavior). To access a value by position, use `ser.iloc[pos]`\n",
      "  initiate_asset = data[\"Open\"][0]\n"
     ]
    },
    {
     "name": "stdout",
     "output_type": "stream",
     "text": [
      "check : Profit Line is crossed.\n",
      "check : Losscut.\n",
      "check : Profit Line is crossed.\n",
      "check : Profit Line is crossed.\n",
      "check : Losscut.\n",
      "check : Losscut.\n",
      "check : Losscut.\n",
      "check : Losscut.\n",
      "check : Profit Line is crossed.\n",
      "index 0 is out of bounds for axis 0 with size 0\n",
      "loss_cut: 9 profit_count: 6\n",
      "totalreturn: 24.227766796875006 initiate_asset:57.7400016784668\n",
      "0.21476240156891746\n",
      "(入力前の)シグナルが0なら売ります。\n",
      "check : Losscut.\n",
      "check : Profit Line is crossed.\n",
      "check : Losscut.\n"
     ]
    },
    {
     "name": "stderr",
     "output_type": "stream",
     "text": [
      "C:\\Users\\admin\\AppData\\Local\\Temp\\ipykernel_9988\\1064569515.py:161: FutureWarning: Series.__getitem__ treating keys as positions is deprecated. In a future version, integer keys will always be treated as labels (consistent with DataFrame behavior). To access a value by position, use `ser.iloc[pos]`\n",
      "  initiate_asset = data[\"Open\"][0]\n"
     ]
    },
    {
     "name": "stdout",
     "output_type": "stream",
     "text": [
      "check : Losscut.\n",
      "check : Profit Line is crossed.\n",
      "check : Losscut.\n",
      "check : Profit Line is crossed.\n",
      "check : Losscut.\n",
      "check : Profit Line is crossed.\n",
      "check : Profit Line is crossed.\n",
      "check : Losscut.\n",
      "check : Losscut.\n",
      "check : Losscut.\n",
      "check : Losscut.\n",
      "check : Profit Line is crossed.\n",
      "index 0 is out of bounds for axis 0 with size 0\n",
      "loss_cut: 9 profit_count: 6\n",
      "totalreturn: 24.40195679550171 initiate_asset:57.7400016784668\n",
      "0.21595979475066396\n",
      "(入力前の)シグナルが0なら売ります。\n",
      "check : Losscut.\n",
      "check : Profit Line is crossed.\n",
      "check : Losscut.\n",
      "check : Losscut.\n",
      "check : Profit Line is crossed.\n",
      "check : Losscut.\n",
      "check : Profit Line is crossed.\n",
      "check : Losscut.\n",
      "check : Profit Line is crossed.\n"
     ]
    },
    {
     "name": "stderr",
     "output_type": "stream",
     "text": [
      "C:\\Users\\admin\\AppData\\Local\\Temp\\ipykernel_9988\\1064569515.py:161: FutureWarning: Series.__getitem__ treating keys as positions is deprecated. In a future version, integer keys will always be treated as labels (consistent with DataFrame behavior). To access a value by position, use `ser.iloc[pos]`\n",
      "  initiate_asset = data[\"Open\"][0]\n"
     ]
    },
    {
     "name": "stdout",
     "output_type": "stream",
     "text": [
      "check : Profit Line is crossed.\n",
      "check : Losscut.\n",
      "check : Losscut.\n",
      "check : Losscut.\n",
      "check : Losscut.\n",
      "check : Profit Line is crossed.\n",
      "index 0 is out of bounds for axis 0 with size 0\n",
      "loss_cut: 9 profit_count: 6\n",
      "totalreturn: 24.57614679412842 initiate_asset:57.7400016784668\n",
      "0.21715339171178066\n",
      "(入力前の)シグナルが0なら売ります。\n",
      "check : Losscut.\n",
      "check : Profit Line is crossed.\n",
      "check : Losscut.\n",
      "check : Losscut.\n",
      "check : Profit Line is crossed.\n",
      "check : Losscut.\n"
     ]
    },
    {
     "name": "stderr",
     "output_type": "stream",
     "text": [
      "C:\\Users\\admin\\AppData\\Local\\Temp\\ipykernel_9988\\1064569515.py:161: FutureWarning: Series.__getitem__ treating keys as positions is deprecated. In a future version, integer keys will always be treated as labels (consistent with DataFrame behavior). To access a value by position, use `ser.iloc[pos]`\n",
      "  initiate_asset = data[\"Open\"][0]\n"
     ]
    },
    {
     "name": "stdout",
     "output_type": "stream",
     "text": [
      "check : Profit Line is crossed.\n",
      "check : Losscut.\n",
      "check : Profit Line is crossed.\n",
      "check : Profit Line is crossed.\n",
      "check : Losscut.\n",
      "check : Losscut.\n",
      "check : Losscut.\n",
      "check : Losscut.\n",
      "check : Profit Line is crossed.\n",
      "index 0 is out of bounds for axis 0 with size 0\n",
      "loss_cut: 9 profit_count: 6\n",
      "totalreturn: 24.750336792755135 initiate_asset:57.7400016784668\n",
      "0.21834319623554593\n",
      "(入力前の)シグナルが0なら売ります。\n"
     ]
    },
    {
     "name": "stderr",
     "output_type": "stream",
     "text": [
      "C:\\Users\\admin\\AppData\\Local\\Temp\\ipykernel_9988\\1064569515.py:161: FutureWarning: Series.__getitem__ treating keys as positions is deprecated. In a future version, integer keys will always be treated as labels (consistent with DataFrame behavior). To access a value by position, use `ser.iloc[pos]`\n",
      "  initiate_asset = data[\"Open\"][0]\n"
     ]
    },
    {
     "name": "stdout",
     "output_type": "stream",
     "text": [
      "check : Losscut.\n",
      "check : Profit Line is crossed.\n",
      "check : Losscut.\n",
      "check : Losscut.\n",
      "check : Profit Line is crossed.\n",
      "check : Losscut.\n",
      "check : Profit Line is crossed.\n",
      "check : Losscut.\n",
      "check : Profit Line is crossed.\n",
      "check : Profit Line is crossed.\n",
      "check : Losscut.\n",
      "check : Losscut.\n",
      "check : Losscut.\n",
      "check : Losscut.\n",
      "check : Profit Line is crossed.\n",
      "index 0 is out of bounds for axis 0 with size 0\n",
      "loss_cut: 9 profit_count: 6\n",
      "totalreturn: 24.924526791381844 initiate_asset:57.7400016784668\n",
      "0.21952921223240157\n",
      "(入力前の)シグナルが0なら売ります。\n",
      "check : Losscut.\n",
      "check : Profit Line is crossed.\n",
      "check : Losscut.\n",
      "check : Losscut.\n",
      "check : Profit Line is crossed.\n",
      "check : Losscut.\n",
      "check : Profit Line is crossed.\n"
     ]
    },
    {
     "name": "stderr",
     "output_type": "stream",
     "text": [
      "C:\\Users\\admin\\AppData\\Local\\Temp\\ipykernel_9988\\1064569515.py:161: FutureWarning: Series.__getitem__ treating keys as positions is deprecated. In a future version, integer keys will always be treated as labels (consistent with DataFrame behavior). To access a value by position, use `ser.iloc[pos]`\n",
      "  initiate_asset = data[\"Open\"][0]\n"
     ]
    },
    {
     "name": "stdout",
     "output_type": "stream",
     "text": [
      "check : Losscut.\n",
      "check : Profit Line is crossed.\n",
      "check : Profit Line is crossed.\n",
      "check : Losscut.\n",
      "check : Losscut.\n",
      "check : Losscut.\n",
      "check : Losscut.\n",
      "check : Profit Line is crossed.\n",
      "index 0 is out of bounds for axis 0 with size 0\n",
      "loss_cut: 9 profit_count: 6\n",
      "totalreturn: 25.098716790008545 initiate_asset:57.7400016784668\n",
      "0.22071144373824042\n",
      "(入力前の)シグナルが0なら売ります。\n",
      "check : Losscut.\n",
      "check : Profit Line is crossed.\n",
      "check : Losscut.\n"
     ]
    },
    {
     "name": "stderr",
     "output_type": "stream",
     "text": [
      "C:\\Users\\admin\\AppData\\Local\\Temp\\ipykernel_9988\\1064569515.py:161: FutureWarning: Series.__getitem__ treating keys as positions is deprecated. In a future version, integer keys will always be treated as labels (consistent with DataFrame behavior). To access a value by position, use `ser.iloc[pos]`\n",
      "  initiate_asset = data[\"Open\"][0]\n"
     ]
    },
    {
     "name": "stdout",
     "output_type": "stream",
     "text": [
      "check : Losscut.\n",
      "check : Profit Line is crossed.\n",
      "check : Losscut.\n",
      "check : Profit Line is crossed.\n",
      "check : Losscut.\n",
      "check : Profit Line is crossed.\n",
      "check : Profit Line is crossed.\n",
      "check : Losscut.\n",
      "check : Losscut.\n",
      "check : Losscut.\n",
      "check : Losscut.\n",
      "check : Profit Line is crossed.\n",
      "index 0 is out of bounds for axis 0 with size 0\n",
      "loss_cut: 9 profit_count: 6\n",
      "totalreturn: 25.272906788635268 initiate_asset:57.7400016784668\n",
      "0.22188989491270217\n",
      "(入力前の)シグナルが0なら売ります。\n",
      "check : Losscut.\n",
      "check : Profit Line is crossed.\n",
      "check : Losscut.\n",
      "check : Losscut.\n",
      "check : Profit Line is crossed.\n",
      "check : Losscut.\n",
      "check : Profit Line is crossed.\n",
      "check : Losscut.\n",
      "check : Profit Line is crossed.\n"
     ]
    },
    {
     "name": "stderr",
     "output_type": "stream",
     "text": [
      "C:\\Users\\admin\\AppData\\Local\\Temp\\ipykernel_9988\\1064569515.py:161: FutureWarning: Series.__getitem__ treating keys as positions is deprecated. In a future version, integer keys will always be treated as labels (consistent with DataFrame behavior). To access a value by position, use `ser.iloc[pos]`\n",
      "  initiate_asset = data[\"Open\"][0]\n"
     ]
    },
    {
     "name": "stdout",
     "output_type": "stream",
     "text": [
      "check : Profit Line is crossed.\n",
      "check : Losscut.\n",
      "check : Losscut.\n",
      "check : Losscut.\n",
      "check : Losscut.\n",
      "check : Profit Line is crossed.\n",
      "index 0 is out of bounds for axis 0 with size 0\n",
      "loss_cut: 9 profit_count: 6\n",
      "totalreturn: 25.447096787261962 initiate_asset:57.7400016784668\n",
      "0.22306457003747557\n",
      "(入力前の)シグナルが0なら売ります。\n",
      "check : Losscut.\n",
      "check : Profit Line is crossed.\n",
      "check : Losscut.\n",
      "check : Losscut.\n",
      "check : Profit Line is crossed.\n",
      "check : Losscut.\n",
      "check : Profit Line is crossed.\n"
     ]
    },
    {
     "name": "stderr",
     "output_type": "stream",
     "text": [
      "C:\\Users\\admin\\AppData\\Local\\Temp\\ipykernel_9988\\1064569515.py:161: FutureWarning: Series.__getitem__ treating keys as positions is deprecated. In a future version, integer keys will always be treated as labels (consistent with DataFrame behavior). To access a value by position, use `ser.iloc[pos]`\n",
      "  initiate_asset = data[\"Open\"][0]\n"
     ]
    },
    {
     "name": "stdout",
     "output_type": "stream",
     "text": [
      "check : Losscut.\n",
      "check : Profit Line is crossed.\n",
      "check : Profit Line is crossed.\n",
      "check : Losscut.\n",
      "check : Losscut.\n",
      "check : Losscut.\n",
      "check : Losscut.\n",
      "check : Profit Line is crossed.\n",
      "index 0 is out of bounds for axis 0 with size 0\n",
      "loss_cut: 9 profit_count: 6\n",
      "totalreturn: 25.621286785888678 initiate_asset:57.7400016784668\n",
      "0.22423547351460987\n",
      "(入力前の)シグナルが0なら売ります。\n",
      "check : Losscut.\n",
      "check : Profit Line is crossed.\n",
      "check : Losscut.\n",
      "check : Losscut.\n",
      "check : Profit Line is crossed.\n",
      "check : Losscut.\n",
      "check : Profit Line is crossed.\n"
     ]
    },
    {
     "name": "stderr",
     "output_type": "stream",
     "text": [
      "C:\\Users\\admin\\AppData\\Local\\Temp\\ipykernel_9988\\1064569515.py:161: FutureWarning: Series.__getitem__ treating keys as positions is deprecated. In a future version, integer keys will always be treated as labels (consistent with DataFrame behavior). To access a value by position, use `ser.iloc[pos]`\n",
      "  initiate_asset = data[\"Open\"][0]\n"
     ]
    },
    {
     "name": "stdout",
     "output_type": "stream",
     "text": [
      "check : Losscut.\n",
      "check : Profit Line is crossed.\n",
      "check : Profit Line is crossed.\n",
      "check : Losscut.\n",
      "check : Losscut.\n",
      "check : Losscut.\n",
      "check : Losscut.\n",
      "check : Profit Line is crossed.\n",
      "index 0 is out of bounds for axis 0 with size 0\n",
      "loss_cut: 9 profit_count: 6\n",
      "totalreturn: 25.79547678451539 initiate_asset:57.7400016784668\n",
      "0.22540260986483246\n",
      "(入力前の)シグナルが0なら売ります。\n",
      "check : Losscut.\n",
      "check : Profit Line is crossed.\n",
      "check : Losscut.\n",
      "check : Losscut.\n",
      "check : Profit Line is crossed.\n"
     ]
    },
    {
     "name": "stderr",
     "output_type": "stream",
     "text": [
      "C:\\Users\\admin\\AppData\\Local\\Temp\\ipykernel_9988\\1064569515.py:161: FutureWarning: Series.__getitem__ treating keys as positions is deprecated. In a future version, integer keys will always be treated as labels (consistent with DataFrame behavior). To access a value by position, use `ser.iloc[pos]`\n",
      "  initiate_asset = data[\"Open\"][0]\n"
     ]
    },
    {
     "name": "stdout",
     "output_type": "stream",
     "text": [
      "check : Losscut.\n",
      "check : Profit Line is crossed.\n",
      "check : Losscut.\n",
      "check : Profit Line is crossed.\n",
      "check : Profit Line is crossed.\n",
      "check : Losscut.\n",
      "check : Losscut.\n",
      "check : Losscut.\n",
      "check : Losscut.\n",
      "check : Profit Line is crossed.\n",
      "index 0 is out of bounds for axis 0 with size 0\n",
      "loss_cut: 9 profit_count: 6\n",
      "totalreturn: 25.969666783142095 initiate_asset:57.7400016784668\n",
      "0.22656598372587677\n",
      "(入力前の)シグナルが0なら売ります。\n",
      "check : Losscut.\n"
     ]
    },
    {
     "name": "stderr",
     "output_type": "stream",
     "text": [
      "C:\\Users\\admin\\AppData\\Local\\Temp\\ipykernel_9988\\1064569515.py:161: FutureWarning: Series.__getitem__ treating keys as positions is deprecated. In a future version, integer keys will always be treated as labels (consistent with DataFrame behavior). To access a value by position, use `ser.iloc[pos]`\n",
      "  initiate_asset = data[\"Open\"][0]\n"
     ]
    },
    {
     "name": "stdout",
     "output_type": "stream",
     "text": [
      "check : Profit Line is crossed.\n",
      "check : Losscut.\n",
      "check : Losscut.\n",
      "check : Profit Line is crossed.\n",
      "check : Losscut.\n",
      "check : Profit Line is crossed.\n",
      "check : Losscut.\n",
      "check : Profit Line is crossed.\n",
      "check : Profit Line is crossed.\n",
      "check : Losscut.\n",
      "check : Losscut.\n",
      "check : Losscut.\n",
      "check : Losscut.\n",
      "check : Profit Line is crossed.\n",
      "index 0 is out of bounds for axis 0 with size 0\n",
      "loss_cut: 9 profit_count: 6\n",
      "totalreturn: 26.143856781768804 initiate_asset:57.7400016784668\n",
      "0.22772559985081636\n",
      "(入力前の)シグナルが0なら売ります。\n",
      "check : Losscut.\n",
      "check : Profit Line is crossed.\n",
      "check : Losscut.\n",
      "check : Losscut.\n",
      "check : Profit Line is crossed.\n",
      "check : Losscut.\n",
      "check : Profit Line is crossed.\n",
      "check : Losscut.\n"
     ]
    },
    {
     "name": "stderr",
     "output_type": "stream",
     "text": [
      "C:\\Users\\admin\\AppData\\Local\\Temp\\ipykernel_9988\\1064569515.py:161: FutureWarning: Series.__getitem__ treating keys as positions is deprecated. In a future version, integer keys will always be treated as labels (consistent with DataFrame behavior). To access a value by position, use `ser.iloc[pos]`\n",
      "  initiate_asset = data[\"Open\"][0]\n"
     ]
    },
    {
     "name": "stdout",
     "output_type": "stream",
     "text": [
      "check : Profit Line is crossed.\n",
      "check : Profit Line is crossed.\n",
      "check : Losscut.\n",
      "check : Losscut.\n",
      "check : Losscut.\n",
      "check : Losscut.\n",
      "check : Profit Line is crossed.\n",
      "index 0 is out of bounds for axis 0 with size 0\n",
      "loss_cut: 9 profit_count: 6\n",
      "totalreturn: 26.318046780395516 initiate_asset:57.7400016784668\n",
      "0.22888146310640914\n",
      "(入力前の)シグナルが0なら売ります。\n",
      "check : Losscut.\n",
      "check : Profit Line is crossed.\n",
      "check : Losscut.\n",
      "check : Losscut.\n",
      "check : Profit Line is crossed.\n",
      "check : Losscut.\n"
     ]
    },
    {
     "name": "stderr",
     "output_type": "stream",
     "text": [
      "C:\\Users\\admin\\AppData\\Local\\Temp\\ipykernel_9988\\1064569515.py:161: FutureWarning: Series.__getitem__ treating keys as positions is deprecated. In a future version, integer keys will always be treated as labels (consistent with DataFrame behavior). To access a value by position, use `ser.iloc[pos]`\n",
      "  initiate_asset = data[\"Open\"][0]\n"
     ]
    },
    {
     "name": "stdout",
     "output_type": "stream",
     "text": [
      "check : Profit Line is crossed.\n",
      "check : Losscut.\n",
      "check : Profit Line is crossed.\n",
      "check : Profit Line is crossed.\n",
      "check : Losscut.\n",
      "check : Losscut.\n",
      "check : Losscut.\n",
      "check : Losscut.\n",
      "check : Profit Line is crossed.\n",
      "index 0 is out of bounds for axis 0 with size 0\n",
      "loss_cut: 9 profit_count: 6\n",
      "totalreturn: 26.492236779022228 initiate_asset:57.7400016784668\n",
      "0.2300335784714489\n",
      "(入力前の)シグナルが0なら売ります。\n",
      "check : Losscut.\n",
      "check : Profit Line is crossed.\n",
      "check : Losscut.\n",
      "check : Losscut.\n",
      "check : Profit Line is crossed.\n",
      "check : Losscut.\n",
      "check : Profit Line is crossed.\n",
      "check : Losscut.\n"
     ]
    },
    {
     "name": "stderr",
     "output_type": "stream",
     "text": [
      "C:\\Users\\admin\\AppData\\Local\\Temp\\ipykernel_9988\\1064569515.py:161: FutureWarning: Series.__getitem__ treating keys as positions is deprecated. In a future version, integer keys will always be treated as labels (consistent with DataFrame behavior). To access a value by position, use `ser.iloc[pos]`\n",
      "  initiate_asset = data[\"Open\"][0]\n"
     ]
    },
    {
     "name": "stdout",
     "output_type": "stream",
     "text": [
      "check : Profit Line is crossed.\n",
      "check : Profit Line is crossed.\n",
      "check : Losscut.\n",
      "check : Losscut.\n",
      "check : Losscut.\n",
      "check : Losscut.\n",
      "check : Profit Line is crossed.\n",
      "index 0 is out of bounds for axis 0 with size 0\n",
      "loss_cut: 9 profit_count: 6\n",
      "totalreturn: 26.666426777648923 initiate_asset:57.7400016784668\n",
      "0.23118195103512706\n",
      "(入力前の)シグナルが0なら売ります。\n",
      "check : Losscut.\n",
      "check : Profit Line is crossed.\n",
      "check : Losscut.\n",
      "check : Losscut.\n",
      "check : Profit Line is crossed.\n"
     ]
    },
    {
     "name": "stderr",
     "output_type": "stream",
     "text": [
      "C:\\Users\\admin\\AppData\\Local\\Temp\\ipykernel_9988\\1064569515.py:161: FutureWarning: Series.__getitem__ treating keys as positions is deprecated. In a future version, integer keys will always be treated as labels (consistent with DataFrame behavior). To access a value by position, use `ser.iloc[pos]`\n",
      "  initiate_asset = data[\"Open\"][0]\n"
     ]
    },
    {
     "name": "stdout",
     "output_type": "stream",
     "text": [
      "check : Losscut.\n",
      "check : Profit Line is crossed.\n",
      "check : Losscut.\n",
      "check : Profit Line is crossed.\n",
      "check : Profit Line is crossed.\n",
      "check : Losscut.\n",
      "check : Losscut.\n",
      "check : Losscut.\n",
      "check : Losscut.\n",
      "check : Profit Line is crossed.\n",
      "index 0 is out of bounds for axis 0 with size 0\n",
      "loss_cut: 9 profit_count: 6\n",
      "totalreturn: 26.840616776275635 initiate_asset:57.7400016784668\n",
      "0.23232658599540212\n",
      "(入力前の)シグナルが0なら売ります。\n",
      "check : Losscut.\n",
      "check : Profit Line is crossed.\n",
      "check : Losscut.\n",
      "check : Losscut.\n",
      "check : Profit Line is crossed.\n",
      "check : Losscut.\n",
      "check : Profit Line is crossed.\n"
     ]
    },
    {
     "name": "stderr",
     "output_type": "stream",
     "text": [
      "C:\\Users\\admin\\AppData\\Local\\Temp\\ipykernel_9988\\1064569515.py:161: FutureWarning: Series.__getitem__ treating keys as positions is deprecated. In a future version, integer keys will always be treated as labels (consistent with DataFrame behavior). To access a value by position, use `ser.iloc[pos]`\n",
      "  initiate_asset = data[\"Open\"][0]\n"
     ]
    },
    {
     "name": "stdout",
     "output_type": "stream",
     "text": [
      "check : Losscut.\n",
      "check : Profit Line is crossed.\n",
      "check : Profit Line is crossed.\n",
      "check : Losscut.\n",
      "check : Losscut.\n",
      "check : Losscut.\n",
      "check : Losscut.\n",
      "check : Profit Line is crossed.\n",
      "index 0 is out of bounds for axis 0 with size 0\n",
      "loss_cut: 9 profit_count: 6\n",
      "totalreturn: 27.014806774902347 initiate_asset:57.7400016784668\n",
      "0.23346748865737885\n",
      "(入力前の)シグナルが0なら売ります。\n",
      "check : Losscut.\n",
      "check : Profit Line is crossed.\n",
      "check : Losscut.\n"
     ]
    },
    {
     "name": "stderr",
     "output_type": "stream",
     "text": [
      "C:\\Users\\admin\\AppData\\Local\\Temp\\ipykernel_9988\\1064569515.py:161: FutureWarning: Series.__getitem__ treating keys as positions is deprecated. In a future version, integer keys will always be treated as labels (consistent with DataFrame behavior). To access a value by position, use `ser.iloc[pos]`\n",
      "  initiate_asset = data[\"Open\"][0]\n"
     ]
    },
    {
     "name": "stdout",
     "output_type": "stream",
     "text": [
      "check : Losscut.\n",
      "check : Profit Line is crossed.\n",
      "check : Losscut.\n",
      "check : Profit Line is crossed.\n",
      "check : Losscut.\n",
      "check : Profit Line is crossed.\n",
      "check : Profit Line is crossed.\n",
      "check : Losscut.\n",
      "check : Losscut.\n",
      "check : Losscut.\n",
      "check : Losscut.\n",
      "check : Profit Line is crossed.\n",
      "index 0 is out of bounds for axis 0 with size 0\n",
      "loss_cut: 9 profit_count: 6\n",
      "totalreturn: 27.188996773529055 initiate_asset:57.7400016784668\n",
      "0.23460466443169625\n",
      "(入力前の)シグナルが0なら売ります。\n",
      "check : Losscut.\n",
      "check : Profit Line is crossed.\n",
      "check : Losscut.\n",
      "check : Losscut.\n",
      "check : Profit Line is crossed.\n"
     ]
    },
    {
     "name": "stderr",
     "output_type": "stream",
     "text": [
      "C:\\Users\\admin\\AppData\\Local\\Temp\\ipykernel_9988\\1064569515.py:161: FutureWarning: Series.__getitem__ treating keys as positions is deprecated. In a future version, integer keys will always be treated as labels (consistent with DataFrame behavior). To access a value by position, use `ser.iloc[pos]`\n",
      "  initiate_asset = data[\"Open\"][0]\n"
     ]
    },
    {
     "name": "stdout",
     "output_type": "stream",
     "text": [
      "check : Losscut.\n",
      "check : Profit Line is crossed.\n",
      "check : Losscut.\n",
      "check : Profit Line is crossed.\n",
      "check : Profit Line is crossed.\n",
      "check : Losscut.\n",
      "check : Losscut.\n",
      "check : Losscut.\n",
      "check : Losscut.\n",
      "check : Profit Line is crossed.\n",
      "index 0 is out of bounds for axis 0 with size 0\n",
      "loss_cut: 9 profit_count: 6\n",
      "totalreturn: 27.363186772155768 initiate_asset:57.7400016784668\n",
      "0.23573811883292586\n",
      "(入力前の)シグナルが0なら売ります。\n",
      "check : Losscut.\n",
      "check : Profit Line is crossed.\n",
      "check : Losscut.\n",
      "check : Losscut.\n",
      "check : Profit Line is crossed.\n",
      "check : Losscut.\n",
      "check : Profit Line is crossed.\n"
     ]
    },
    {
     "name": "stderr",
     "output_type": "stream",
     "text": [
      "C:\\Users\\admin\\AppData\\Local\\Temp\\ipykernel_9988\\1064569515.py:161: FutureWarning: Series.__getitem__ treating keys as positions is deprecated. In a future version, integer keys will always be treated as labels (consistent with DataFrame behavior). To access a value by position, use `ser.iloc[pos]`\n",
      "  initiate_asset = data[\"Open\"][0]\n"
     ]
    },
    {
     "name": "stdout",
     "output_type": "stream",
     "text": [
      "check : Losscut.\n",
      "check : Profit Line is crossed.\n",
      "check : Profit Line is crossed.\n",
      "check : Losscut.\n",
      "check : Losscut.\n",
      "check : Losscut.\n",
      "check : Losscut.\n",
      "check : Profit Line is crossed.\n",
      "index 0 is out of bounds for axis 0 with size 0\n",
      "loss_cut: 9 profit_count: 6\n",
      "totalreturn: 27.537376770782465 initiate_asset:57.7400016784668\n",
      "0.23686785747797823\n",
      "(入力前の)シグナルが0なら売ります。\n",
      "check : Losscut.\n",
      "check : Profit Line is crossed.\n",
      "check : Losscut.\n"
     ]
    },
    {
     "name": "stderr",
     "output_type": "stream",
     "text": [
      "C:\\Users\\admin\\AppData\\Local\\Temp\\ipykernel_9988\\1064569515.py:161: FutureWarning: Series.__getitem__ treating keys as positions is deprecated. In a future version, integer keys will always be treated as labels (consistent with DataFrame behavior). To access a value by position, use `ser.iloc[pos]`\n",
      "  initiate_asset = data[\"Open\"][0]\n"
     ]
    },
    {
     "name": "stdout",
     "output_type": "stream",
     "text": [
      "check : Losscut.\n",
      "check : Profit Line is crossed.\n",
      "check : Losscut.\n",
      "check : Profit Line is crossed.\n",
      "check : Losscut.\n",
      "check : Profit Line is crossed.\n",
      "check : Profit Line is crossed.\n",
      "check : Losscut.\n",
      "check : Losscut.\n",
      "check : Losscut.\n",
      "check : Losscut.\n",
      "check : Profit Line is crossed.\n",
      "index 0 is out of bounds for axis 0 with size 0\n",
      "loss_cut: 9 profit_count: 6\n",
      "totalreturn: 27.71156676940918 initiate_asset:57.7400016784668\n",
      "0.2379938860845202\n",
      "(入力前の)シグナルが0なら売ります。\n",
      "check : Losscut.\n",
      "check : Profit Line is crossed.\n",
      "check : Losscut.\n",
      "check : Losscut.\n",
      "check : Losscut.\n",
      "check : Profit Line is crossed.\n",
      "check : Losscut.\n",
      "check : Profit Line is crossed.\n",
      "check : Profit Line is crossed.\n",
      "check : Losscut.\n"
     ]
    },
    {
     "name": "stderr",
     "output_type": "stream",
     "text": [
      "C:\\Users\\admin\\AppData\\Local\\Temp\\ipykernel_9988\\1064569515.py:161: FutureWarning: Series.__getitem__ treating keys as positions is deprecated. In a future version, integer keys will always be treated as labels (consistent with DataFrame behavior). To access a value by position, use `ser.iloc[pos]`\n",
      "  initiate_asset = data[\"Open\"][0]\n"
     ]
    },
    {
     "name": "stdout",
     "output_type": "stream",
     "text": [
      "check : Losscut.\n",
      "check : Losscut.\n",
      "check : Losscut.\n",
      "check : Profit Line is crossed.\n",
      "index 0 is out of bounds for axis 0 with size 0\n",
      "loss_cut: 9 profit_count: 5\n",
      "totalreturn: 25.044499783325197 initiate_asset:57.7400016784668\n",
      "0.21815889303352773\n",
      "(入力前の)シグナルが0なら売ります。\n",
      "check : Losscut.\n",
      "check : Profit Line is crossed.\n",
      "check : Losscut.\n",
      "check : Losscut.\n",
      "check : Losscut.\n",
      "check : Profit Line is crossed.\n"
     ]
    },
    {
     "name": "stderr",
     "output_type": "stream",
     "text": [
      "C:\\Users\\admin\\AppData\\Local\\Temp\\ipykernel_9988\\1064569515.py:161: FutureWarning: Series.__getitem__ treating keys as positions is deprecated. In a future version, integer keys will always be treated as labels (consistent with DataFrame behavior). To access a value by position, use `ser.iloc[pos]`\n",
      "  initiate_asset = data[\"Open\"][0]\n"
     ]
    },
    {
     "name": "stdout",
     "output_type": "stream",
     "text": [
      "check : Losscut.\n",
      "check : Profit Line is crossed.\n",
      "check : Profit Line is crossed.\n",
      "check : Losscut.\n",
      "check : Losscut.\n",
      "check : Losscut.\n",
      "check : Losscut.\n",
      "check : Profit Line is crossed.\n",
      "index 0 is out of bounds for axis 0 with size 0\n",
      "loss_cut: 9 profit_count: 5\n",
      "totalreturn: 25.17834978179932 initiate_asset:57.7400016784668\n",
      "0.21902770020486403\n",
      "(入力前の)シグナルが0なら売ります。\n",
      "check : Losscut.\n",
      "check : Profit Line is crossed.\n",
      "check : Losscut.\n",
      "check : Losscut.\n",
      "check : Losscut.\n"
     ]
    },
    {
     "name": "stderr",
     "output_type": "stream",
     "text": [
      "C:\\Users\\admin\\AppData\\Local\\Temp\\ipykernel_9988\\1064569515.py:161: FutureWarning: Series.__getitem__ treating keys as positions is deprecated. In a future version, integer keys will always be treated as labels (consistent with DataFrame behavior). To access a value by position, use `ser.iloc[pos]`\n",
      "  initiate_asset = data[\"Open\"][0]\n"
     ]
    },
    {
     "name": "stdout",
     "output_type": "stream",
     "text": [
      "check : Profit Line is crossed.\n",
      "check : Losscut.\n",
      "check : Profit Line is crossed.\n",
      "check : Profit Line is crossed.\n",
      "check : Losscut.\n",
      "check : Losscut.\n",
      "check : Losscut.\n",
      "check : Losscut.\n",
      "check : Profit Line is crossed.\n",
      "index 0 is out of bounds for axis 0 with size 0\n",
      "loss_cut: 9 profit_count: 5\n",
      "totalreturn: 25.312199780273446 initiate_asset:57.7400016784668\n",
      "0.21989405717390387\n",
      "(入力前の)シグナルが0なら売ります。\n",
      "check : Losscut.\n",
      "check : Profit Line is crossed.\n",
      "check : Losscut.\n"
     ]
    },
    {
     "name": "stderr",
     "output_type": "stream",
     "text": [
      "C:\\Users\\admin\\AppData\\Local\\Temp\\ipykernel_9988\\1064569515.py:161: FutureWarning: Series.__getitem__ treating keys as positions is deprecated. In a future version, integer keys will always be treated as labels (consistent with DataFrame behavior). To access a value by position, use `ser.iloc[pos]`\n",
      "  initiate_asset = data[\"Open\"][0]\n"
     ]
    },
    {
     "name": "stdout",
     "output_type": "stream",
     "text": [
      "check : Losscut.\n",
      "check : Losscut.\n",
      "check : Profit Line is crossed.\n",
      "check : Losscut.\n",
      "check : Profit Line is crossed.\n",
      "check : Profit Line is crossed.\n",
      "check : Losscut.\n",
      "check : Losscut.\n",
      "check : Losscut.\n",
      "check : Losscut.\n",
      "check : Profit Line is crossed.\n",
      "index 0 is out of bounds for axis 0 with size 0\n",
      "loss_cut: 9 profit_count: 5\n",
      "totalreturn: 25.446049778747557 initiate_asset:57.7400016784668\n",
      "0.22075796546634519\n",
      "(入力前の)シグナルが0なら売ります。\n",
      "check : Losscut.\n",
      "check : Profit Line is crossed.\n",
      "check : Losscut.\n",
      "check : Losscut.\n",
      "check : Losscut.\n",
      "check : Profit Line is crossed.\n"
     ]
    },
    {
     "name": "stderr",
     "output_type": "stream",
     "text": [
      "C:\\Users\\admin\\AppData\\Local\\Temp\\ipykernel_9988\\1064569515.py:161: FutureWarning: Series.__getitem__ treating keys as positions is deprecated. In a future version, integer keys will always be treated as labels (consistent with DataFrame behavior). To access a value by position, use `ser.iloc[pos]`\n",
      "  initiate_asset = data[\"Open\"][0]\n"
     ]
    },
    {
     "name": "stdout",
     "output_type": "stream",
     "text": [
      "check : Losscut.\n",
      "check : Profit Line is crossed.\n",
      "check : Profit Line is crossed.\n",
      "check : Losscut.\n",
      "check : Losscut.\n",
      "check : Losscut.\n",
      "check : Losscut.\n",
      "check : Profit Line is crossed.\n",
      "index 0 is out of bounds for axis 0 with size 0\n",
      "loss_cut: 9 profit_count: 5\n",
      "totalreturn: 25.579899777221684 initiate_asset:57.7400016784668\n",
      "0.2216194266776005\n",
      "(入力前の)シグナルが0なら売ります。\n",
      "check : Losscut.\n",
      "check : Profit Line is crossed.\n",
      "check : Losscut.\n",
      "check : Losscut.\n"
     ]
    },
    {
     "name": "stderr",
     "output_type": "stream",
     "text": [
      "C:\\Users\\admin\\AppData\\Local\\Temp\\ipykernel_9988\\1064569515.py:161: FutureWarning: Series.__getitem__ treating keys as positions is deprecated. In a future version, integer keys will always be treated as labels (consistent with DataFrame behavior). To access a value by position, use `ser.iloc[pos]`\n",
      "  initiate_asset = data[\"Open\"][0]\n"
     ]
    },
    {
     "name": "stdout",
     "output_type": "stream",
     "text": [
      "check : Losscut.\n",
      "check : Profit Line is crossed.\n",
      "check : Losscut.\n",
      "check : Profit Line is crossed.\n",
      "check : Profit Line is crossed.\n",
      "check : Losscut.\n",
      "check : Losscut.\n",
      "check : Losscut.\n",
      "check : Losscut.\n",
      "check : Profit Line is crossed.\n",
      "index 0 is out of bounds for axis 0 with size 0\n",
      "loss_cut: 9 profit_count: 5\n",
      "totalreturn: 25.713749775695803 initiate_asset:57.7400016784668\n",
      "0.22247844247206391\n",
      "(入力前の)シグナルが0なら売ります。\n",
      "check : Losscut.\n",
      "check : Profit Line is crossed.\n",
      "check : Losscut.\n"
     ]
    },
    {
     "name": "stderr",
     "output_type": "stream",
     "text": [
      "C:\\Users\\admin\\AppData\\Local\\Temp\\ipykernel_9988\\1064569515.py:161: FutureWarning: Series.__getitem__ treating keys as positions is deprecated. In a future version, integer keys will always be treated as labels (consistent with DataFrame behavior). To access a value by position, use `ser.iloc[pos]`\n",
      "  initiate_asset = data[\"Open\"][0]\n"
     ]
    },
    {
     "name": "stdout",
     "output_type": "stream",
     "text": [
      "check : Losscut.\n",
      "check : Losscut.\n",
      "check : Profit Line is crossed.\n",
      "check : Losscut.\n",
      "check : Profit Line is crossed.\n",
      "check : Profit Line is crossed.\n",
      "check : Losscut.\n",
      "check : Losscut.\n",
      "check : Losscut.\n",
      "check : Losscut.\n",
      "check : Profit Line is crossed.\n",
      "index 0 is out of bounds for axis 0 with size 0\n",
      "loss_cut: 9 profit_count: 5\n",
      "totalreturn: 25.847599774169915 initiate_asset:57.7400016784668\n",
      "0.22333501458237934\n",
      "(入力前の)シグナルが0なら売ります。\n"
     ]
    },
    {
     "name": "stderr",
     "output_type": "stream",
     "text": [
      "C:\\Users\\admin\\AppData\\Local\\Temp\\ipykernel_9988\\1064569515.py:161: FutureWarning: Series.__getitem__ treating keys as positions is deprecated. In a future version, integer keys will always be treated as labels (consistent with DataFrame behavior). To access a value by position, use `ser.iloc[pos]`\n",
      "  initiate_asset = data[\"Open\"][0]\n"
     ]
    },
    {
     "name": "stdout",
     "output_type": "stream",
     "text": [
      "check : Losscut.\n",
      "check : Profit Line is crossed.\n",
      "check : Losscut.\n",
      "check : Losscut.\n",
      "check : Losscut.\n",
      "check : Profit Line is crossed.\n",
      "check : Losscut.\n",
      "check : Profit Line is crossed.\n",
      "check : Profit Line is crossed.\n",
      "check : Losscut.\n",
      "check : Losscut.\n",
      "check : Losscut.\n",
      "check : Losscut.\n",
      "check : Profit Line is crossed.\n",
      "index 0 is out of bounds for axis 0 with size 0\n",
      "loss_cut: 9 profit_count: 5\n",
      "totalreturn: 25.981449772644048 initiate_asset:57.7400016784668\n",
      "0.22418914480871074\n",
      "(入力前の)シグナルが0なら売ります。\n",
      "check : Losscut.\n",
      "check : Profit Line is crossed.\n",
      "check : Losscut.\n",
      "check : Losscut.\n",
      "check : Losscut.\n",
      "check : Profit Line is crossed.\n"
     ]
    },
    {
     "name": "stderr",
     "output_type": "stream",
     "text": [
      "C:\\Users\\admin\\AppData\\Local\\Temp\\ipykernel_9988\\1064569515.py:161: FutureWarning: Series.__getitem__ treating keys as positions is deprecated. In a future version, integer keys will always be treated as labels (consistent with DataFrame behavior). To access a value by position, use `ser.iloc[pos]`\n",
      "  initiate_asset = data[\"Open\"][0]\n"
     ]
    },
    {
     "name": "stdout",
     "output_type": "stream",
     "text": [
      "check : Losscut.\n",
      "check : Profit Line is crossed.\n",
      "check : Profit Line is crossed.\n",
      "check : Losscut.\n",
      "check : Losscut.\n",
      "check : Losscut.\n",
      "check : Losscut.\n",
      "check : Profit Line is crossed.\n",
      "index 0 is out of bounds for axis 0 with size 0\n",
      "loss_cut: 9 profit_count: 5\n",
      "totalreturn: 26.11529977111816 initiate_asset:57.7400016784668\n",
      "0.22504083501801367\n",
      "(入力前の)シグナルが0なら売ります。\n",
      "check : Losscut.\n",
      "check : Profit Line is crossed.\n",
      "check : Losscut.\n",
      "check : Losscut.\n"
     ]
    },
    {
     "name": "stderr",
     "output_type": "stream",
     "text": [
      "C:\\Users\\admin\\AppData\\Local\\Temp\\ipykernel_9988\\1064569515.py:161: FutureWarning: Series.__getitem__ treating keys as positions is deprecated. In a future version, integer keys will always be treated as labels (consistent with DataFrame behavior). To access a value by position, use `ser.iloc[pos]`\n",
      "  initiate_asset = data[\"Open\"][0]\n"
     ]
    },
    {
     "name": "stdout",
     "output_type": "stream",
     "text": [
      "check : Losscut.\n",
      "check : Profit Line is crossed.\n",
      "check : Losscut.\n",
      "check : Profit Line is crossed.\n",
      "check : Profit Line is crossed.\n",
      "check : Losscut.\n",
      "check : Losscut.\n",
      "check : Losscut.\n",
      "check : Losscut.\n",
      "check : Profit Line is crossed.\n",
      "index 0 is out of bounds for axis 0 with size 0\n",
      "loss_cut: 9 profit_count: 5\n",
      "totalreturn: 26.24914976959229 initiate_asset:57.7400016784668\n",
      "0.22589008714330813\n",
      "(入力前の)シグナルが0なら売ります。\n",
      "check : Losscut.\n",
      "check : Profit Line is crossed.\n",
      "check : Losscut.\n"
     ]
    },
    {
     "name": "stderr",
     "output_type": "stream",
     "text": [
      "C:\\Users\\admin\\AppData\\Local\\Temp\\ipykernel_9988\\1064569515.py:161: FutureWarning: Series.__getitem__ treating keys as positions is deprecated. In a future version, integer keys will always be treated as labels (consistent with DataFrame behavior). To access a value by position, use `ser.iloc[pos]`\n",
      "  initiate_asset = data[\"Open\"][0]\n"
     ]
    },
    {
     "name": "stdout",
     "output_type": "stream",
     "text": [
      "check : Losscut.\n",
      "check : Losscut.\n",
      "check : Profit Line is crossed.\n",
      "check : Losscut.\n",
      "check : Profit Line is crossed.\n",
      "check : Profit Line is crossed.\n",
      "check : Losscut.\n",
      "check : Losscut.\n",
      "check : Losscut.\n",
      "check : Losscut.\n",
      "check : Profit Line is crossed.\n",
      "index 0 is out of bounds for axis 0 with size 0\n",
      "loss_cut: 9 profit_count: 5\n",
      "totalreturn: 26.382999768066412 initiate_asset:57.7400016784668\n",
      "0.2267369031829538\n",
      "(入力前の)シグナルが0なら売ります。\n"
     ]
    },
    {
     "name": "stderr",
     "output_type": "stream",
     "text": [
      "C:\\Users\\admin\\AppData\\Local\\Temp\\ipykernel_9988\\1064569515.py:161: FutureWarning: Series.__getitem__ treating keys as positions is deprecated. In a future version, integer keys will always be treated as labels (consistent with DataFrame behavior). To access a value by position, use `ser.iloc[pos]`\n",
      "  initiate_asset = data[\"Open\"][0]\n"
     ]
    },
    {
     "name": "stdout",
     "output_type": "stream",
     "text": [
      "check : Losscut.\n",
      "check : Profit Line is crossed.\n",
      "check : Losscut.\n",
      "check : Losscut.\n",
      "check : Losscut.\n",
      "check : Profit Line is crossed.\n",
      "check : Losscut.\n",
      "check : Profit Line is crossed.\n",
      "check : Profit Line is crossed.\n",
      "check : Losscut.\n",
      "check : Losscut.\n",
      "check : Losscut.\n",
      "check : Losscut.\n",
      "check : Profit Line is crossed.\n",
      "index 0 is out of bounds for axis 0 with size 0\n",
      "loss_cut: 9 profit_count: 5\n",
      "totalreturn: 26.516849766540524 initiate_asset:57.7400016784668\n",
      "0.2275812851999264\n",
      "(入力前の)シグナルが0なら売ります。\n",
      "check : Losscut.\n",
      "check : Profit Line is crossed.\n",
      "check : Losscut.\n",
      "check : Losscut.\n",
      "check : Losscut.\n",
      "check : Profit Line is crossed.\n"
     ]
    },
    {
     "name": "stderr",
     "output_type": "stream",
     "text": [
      "C:\\Users\\admin\\AppData\\Local\\Temp\\ipykernel_9988\\1064569515.py:161: FutureWarning: Series.__getitem__ treating keys as positions is deprecated. In a future version, integer keys will always be treated as labels (consistent with DataFrame behavior). To access a value by position, use `ser.iloc[pos]`\n",
      "  initiate_asset = data[\"Open\"][0]\n"
     ]
    },
    {
     "name": "stdout",
     "output_type": "stream",
     "text": [
      "check : Losscut.\n",
      "check : Profit Line is crossed.\n",
      "check : Profit Line is crossed.\n",
      "check : Losscut.\n",
      "check : Losscut.\n",
      "check : Losscut.\n",
      "check : Losscut.\n",
      "check : Profit Line is crossed.\n",
      "index 0 is out of bounds for axis 0 with size 0\n",
      "loss_cut: 9 profit_count: 5\n",
      "totalreturn: 26.650699765014643 initiate_asset:57.7400016784668\n",
      "0.22842323532109643\n",
      "(入力前の)シグナルが0なら売ります。\n",
      "check : Losscut.\n",
      "check : Profit Line is crossed.\n",
      "check : Losscut.\n",
      "check : Losscut.\n",
      "check : Losscut.\n"
     ]
    },
    {
     "name": "stderr",
     "output_type": "stream",
     "text": [
      "C:\\Users\\admin\\AppData\\Local\\Temp\\ipykernel_9988\\1064569515.py:161: FutureWarning: Series.__getitem__ treating keys as positions is deprecated. In a future version, integer keys will always be treated as labels (consistent with DataFrame behavior). To access a value by position, use `ser.iloc[pos]`\n",
      "  initiate_asset = data[\"Open\"][0]\n"
     ]
    },
    {
     "name": "stdout",
     "output_type": "stream",
     "text": [
      "check : Profit Line is crossed.\n",
      "check : Losscut.\n",
      "check : Profit Line is crossed.\n",
      "check : Profit Line is crossed.\n",
      "check : Losscut.\n",
      "check : Losscut.\n",
      "check : Losscut.\n",
      "check : Losscut.\n",
      "check : Profit Line is crossed.\n",
      "index 0 is out of bounds for axis 0 with size 0\n",
      "loss_cut: 9 profit_count: 5\n",
      "totalreturn: 26.784549763488776 initiate_asset:57.7400016784668\n",
      "0.22926275573650967\n",
      "(入力前の)シグナルが0なら売ります。\n",
      "check : Losscut.\n",
      "check : Profit Line is crossed.\n",
      "check : Losscut.\n"
     ]
    },
    {
     "name": "stderr",
     "output_type": "stream",
     "text": [
      "C:\\Users\\admin\\AppData\\Local\\Temp\\ipykernel_9988\\1064569515.py:161: FutureWarning: Series.__getitem__ treating keys as positions is deprecated. In a future version, integer keys will always be treated as labels (consistent with DataFrame behavior). To access a value by position, use `ser.iloc[pos]`\n",
      "  initiate_asset = data[\"Open\"][0]\n"
     ]
    },
    {
     "name": "stdout",
     "output_type": "stream",
     "text": [
      "check : Losscut.\n",
      "check : Losscut.\n",
      "check : Profit Line is crossed.\n",
      "check : Losscut.\n",
      "check : Profit Line is crossed.\n",
      "check : Profit Line is crossed.\n",
      "check : Losscut.\n",
      "check : Losscut.\n",
      "check : Losscut.\n",
      "check : Losscut.\n",
      "check : Profit Line is crossed.\n",
      "index 0 is out of bounds for axis 0 with size 0\n",
      "loss_cut: 9 profit_count: 5\n",
      "totalreturn: 26.91839976196289 initiate_asset:57.7400016784668\n",
      "0.2300998486986696\n",
      "(入力前の)シグナルが0なら売ります。\n"
     ]
    },
    {
     "name": "stderr",
     "output_type": "stream",
     "text": [
      "C:\\Users\\admin\\AppData\\Local\\Temp\\ipykernel_9988\\1064569515.py:161: FutureWarning: Series.__getitem__ treating keys as positions is deprecated. In a future version, integer keys will always be treated as labels (consistent with DataFrame behavior). To access a value by position, use `ser.iloc[pos]`\n",
      "  initiate_asset = data[\"Open\"][0]\n"
     ]
    },
    {
     "name": "stdout",
     "output_type": "stream",
     "text": [
      "check : Losscut.\n",
      "check : Profit Line is crossed.\n",
      "check : Losscut.\n",
      "check : Losscut.\n",
      "check : Losscut.\n",
      "check : Profit Line is crossed.\n",
      "check : Losscut.\n",
      "check : Profit Line is crossed.\n",
      "check : Profit Line is crossed.\n",
      "check : Losscut.\n",
      "check : Losscut.\n",
      "check : Losscut.\n",
      "check : Losscut.\n",
      "check : Profit Line is crossed.\n",
      "index 0 is out of bounds for axis 0 with size 0\n",
      "loss_cut: 9 profit_count: 5\n",
      "totalreturn: 27.052249760437007 initiate_asset:57.7400016784668\n",
      "0.2309345165218222\n",
      "(入力前の)シグナルが0なら売ります。\n",
      "check : Losscut.\n",
      "check : Profit Line is crossed.\n",
      "check : Losscut.\n",
      "check : Losscut.\n",
      "check : Losscut.\n",
      "check : Profit Line is crossed.\n",
      "check : Losscut.\n",
      "check : Profit Line is crossed.\n"
     ]
    },
    {
     "name": "stderr",
     "output_type": "stream",
     "text": [
      "C:\\Users\\admin\\AppData\\Local\\Temp\\ipykernel_9988\\1064569515.py:161: FutureWarning: Series.__getitem__ treating keys as positions is deprecated. In a future version, integer keys will always be treated as labels (consistent with DataFrame behavior). To access a value by position, use `ser.iloc[pos]`\n",
      "  initiate_asset = data[\"Open\"][0]\n"
     ]
    },
    {
     "name": "stdout",
     "output_type": "stream",
     "text": [
      "check : Profit Line is crossed.\n",
      "check : Losscut.\n",
      "check : Losscut.\n",
      "check : Losscut.\n",
      "check : Losscut.\n",
      "check : Profit Line is crossed.\n",
      "index 0 is out of bounds for axis 0 with size 0\n",
      "loss_cut: 9 profit_count: 5\n",
      "totalreturn: 27.186099758911134 initiate_asset:57.7400016784668\n",
      "0.23176676158124263\n",
      "(入力前の)シグナルが0なら売ります。\n",
      "check : Losscut.\n",
      "check : Profit Line is crossed.\n",
      "check : Losscut.\n",
      "check : Losscut.\n",
      "check : Losscut.\n",
      "check : Profit Line is crossed.\n"
     ]
    },
    {
     "name": "stderr",
     "output_type": "stream",
     "text": [
      "C:\\Users\\admin\\AppData\\Local\\Temp\\ipykernel_9988\\1064569515.py:161: FutureWarning: Series.__getitem__ treating keys as positions is deprecated. In a future version, integer keys will always be treated as labels (consistent with DataFrame behavior). To access a value by position, use `ser.iloc[pos]`\n",
      "  initiate_asset = data[\"Open\"][0]\n"
     ]
    },
    {
     "name": "stdout",
     "output_type": "stream",
     "text": [
      "check : Losscut.\n",
      "check : Profit Line is crossed.\n",
      "check : Profit Line is crossed.\n",
      "check : Losscut.\n",
      "check : Losscut.\n",
      "check : Losscut.\n",
      "check : Losscut.\n",
      "check : Profit Line is crossed.\n",
      "index 0 is out of bounds for axis 0 with size 0\n",
      "loss_cut: 9 profit_count: 5\n",
      "totalreturn: 27.319949757385253 initiate_asset:57.7400016784668\n",
      "0.23259658631252453\n",
      "(入力前の)シグナルが0なら売ります。\n",
      "check : Losscut.\n",
      "check : Profit Line is crossed.\n",
      "check : Losscut.\n",
      "check : Losscut.\n",
      "check : Losscut.\n"
     ]
    },
    {
     "name": "stderr",
     "output_type": "stream",
     "text": [
      "C:\\Users\\admin\\AppData\\Local\\Temp\\ipykernel_9988\\1064569515.py:161: FutureWarning: Series.__getitem__ treating keys as positions is deprecated. In a future version, integer keys will always be treated as labels (consistent with DataFrame behavior). To access a value by position, use `ser.iloc[pos]`\n",
      "  initiate_asset = data[\"Open\"][0]\n"
     ]
    },
    {
     "name": "stdout",
     "output_type": "stream",
     "text": [
      "check : Profit Line is crossed.\n",
      "check : Losscut.\n",
      "check : Profit Line is crossed.\n",
      "check : Profit Line is crossed.\n",
      "check : Losscut.\n",
      "check : Losscut.\n",
      "check : Losscut.\n",
      "check : Losscut.\n",
      "check : Profit Line is crossed.\n",
      "index 0 is out of bounds for axis 0 with size 0\n",
      "loss_cut: 9 profit_count: 5\n",
      "totalreturn: 27.45379975585937 initiate_asset:57.7400016784668\n",
      "0.23342399321087112\n",
      "(入力前の)シグナルが0なら売ります。\n",
      "check : Losscut.\n",
      "check : Profit Line is crossed.\n",
      "check : Losscut.\n",
      "check : Losscut.\n"
     ]
    },
    {
     "name": "stderr",
     "output_type": "stream",
     "text": [
      "C:\\Users\\admin\\AppData\\Local\\Temp\\ipykernel_9988\\1064569515.py:161: FutureWarning: Series.__getitem__ treating keys as positions is deprecated. In a future version, integer keys will always be treated as labels (consistent with DataFrame behavior). To access a value by position, use `ser.iloc[pos]`\n",
      "  initiate_asset = data[\"Open\"][0]\n"
     ]
    },
    {
     "name": "stdout",
     "output_type": "stream",
     "text": [
      "check : Losscut.\n",
      "check : Profit Line is crossed.\n",
      "check : Losscut.\n",
      "check : Profit Line is crossed.\n",
      "check : Profit Line is crossed.\n",
      "check : Losscut.\n",
      "check : Losscut.\n",
      "check : Losscut.\n",
      "check : Losscut.\n",
      "check : Profit Line is crossed.\n",
      "index 0 is out of bounds for axis 0 with size 0\n",
      "loss_cut: 9 profit_count: 5\n",
      "totalreturn: 27.587649754333505 initiate_asset:57.7400016784668\n",
      "0.2342489848303891\n",
      "(入力前の)シグナルが0なら売ります。\n",
      "check : Losscut.\n",
      "check : Profit Line is crossed.\n",
      "check : Losscut.\n",
      "check : Losscut.\n",
      "check : Losscut.\n",
      "check : Profit Line is crossed.\n",
      "check : Losscut.\n",
      "check : Profit Line is crossed.\n",
      "check : Profit Line is crossed.\n",
      "check : Losscut.\n",
      "check : Losscut.\n"
     ]
    },
    {
     "name": "stderr",
     "output_type": "stream",
     "text": [
      "C:\\Users\\admin\\AppData\\Local\\Temp\\ipykernel_9988\\1064569515.py:161: FutureWarning: Series.__getitem__ treating keys as positions is deprecated. In a future version, integer keys will always be treated as labels (consistent with DataFrame behavior). To access a value by position, use `ser.iloc[pos]`\n",
      "  initiate_asset = data[\"Open\"][0]\n"
     ]
    },
    {
     "name": "stdout",
     "output_type": "stream",
     "text": [
      "check : Losscut.\n",
      "check : Losscut.\n",
      "check : Profit Line is crossed.\n",
      "index 0 is out of bounds for axis 0 with size 0\n",
      "loss_cut: 9 profit_count: 5\n",
      "totalreturn: 27.721499752807617 initiate_asset:57.7400016784668\n",
      "0.23507156378338503\n",
      "(入力前の)シグナルが0なら売ります。\n",
      "check : Losscut.\n",
      "check : Profit Line is crossed.\n",
      "check : Losscut.\n",
      "check : Losscut.\n",
      "check : Losscut.\n",
      "check : Profit Line is crossed.\n",
      "check : Losscut.\n"
     ]
    },
    {
     "name": "stderr",
     "output_type": "stream",
     "text": [
      "C:\\Users\\admin\\AppData\\Local\\Temp\\ipykernel_9988\\1064569515.py:161: FutureWarning: Series.__getitem__ treating keys as positions is deprecated. In a future version, integer keys will always be treated as labels (consistent with DataFrame behavior). To access a value by position, use `ser.iloc[pos]`\n",
      "  initiate_asset = data[\"Open\"][0]\n"
     ]
    },
    {
     "name": "stdout",
     "output_type": "stream",
     "text": [
      "check : Profit Line is crossed.\n",
      "check : Profit Line is crossed.\n",
      "check : Losscut.\n",
      "check : Losscut.\n",
      "check : Losscut.\n",
      "check : Losscut.\n",
      "index 0 is out of bounds for axis 0 with size 0\n",
      "loss_cut: 9 profit_count: 4\n",
      "totalreturn: [19.85394808] initiate_asset:57.7400016784668\n",
      "0.1796833971644613\n",
      "(入力前の)シグナルが0なら売ります。\n",
      "check : Losscut.\n",
      "check : Profit Line is crossed.\n",
      "check : Losscut.\n",
      "check : Losscut.\n"
     ]
    },
    {
     "name": "stderr",
     "output_type": "stream",
     "text": [
      "C:\\Users\\admin\\AppData\\Local\\Temp\\ipykernel_9988\\1064569515.py:161: FutureWarning: Series.__getitem__ treating keys as positions is deprecated. In a future version, integer keys will always be treated as labels (consistent with DataFrame behavior). To access a value by position, use `ser.iloc[pos]`\n",
      "  initiate_asset = data[\"Open\"][0]\n"
     ]
    },
    {
     "name": "stdout",
     "output_type": "stream",
     "text": [
      "check : Losscut.\n",
      "check : Profit Line is crossed.\n",
      "check : Losscut.\n",
      "check : Profit Line is crossed.\n",
      "check : Profit Line is crossed.\n",
      "check : Losscut.\n",
      "check : Losscut.\n",
      "check : Losscut.\n",
      "check : Losscut.\n",
      "index 0 is out of bounds for axis 0 with size 0\n",
      "loss_cut: 9 profit_count: 4\n",
      "totalreturn: [19.94290808] initiate_asset:57.7400016784668\n",
      "0.18028285361023666\n",
      "(入力前の)シグナルが0なら売ります。\n"
     ]
    },
    {
     "name": "stderr",
     "output_type": "stream",
     "text": [
      "C:\\Users\\admin\\AppData\\Local\\Temp\\ipykernel_9988\\1064569515.py:161: FutureWarning: Series.__getitem__ treating keys as positions is deprecated. In a future version, integer keys will always be treated as labels (consistent with DataFrame behavior). To access a value by position, use `ser.iloc[pos]`\n",
      "  initiate_asset = data[\"Open\"][0]\n"
     ]
    },
    {
     "name": "stdout",
     "output_type": "stream",
     "text": [
      "check : Losscut.\n",
      "check : Profit Line is crossed.\n",
      "check : Losscut.\n",
      "check : Losscut.\n",
      "check : Losscut.\n",
      "check : Profit Line is crossed.\n",
      "check : Losscut.\n",
      "check : Profit Line is crossed.\n",
      "check : Profit Line is crossed.\n",
      "check : Losscut.\n",
      "check : Losscut.\n",
      "check : Losscut.\n",
      "check : Losscut.\n",
      "index 0 is out of bounds for axis 0 with size 0\n",
      "loss_cut: 9 profit_count: 4\n",
      "totalreturn: [20.03186808] initiate_asset:57.7400016784668\n",
      "0.18088092882871168\n",
      "(入力前の)シグナルが0なら売ります。\n",
      "check : Losscut.\n",
      "check : Profit Line is crossed.\n",
      "check : Losscut.\n",
      "check : Losscut.\n",
      "check : Losscut.\n"
     ]
    },
    {
     "name": "stderr",
     "output_type": "stream",
     "text": [
      "C:\\Users\\admin\\AppData\\Local\\Temp\\ipykernel_9988\\1064569515.py:161: FutureWarning: Series.__getitem__ treating keys as positions is deprecated. In a future version, integer keys will always be treated as labels (consistent with DataFrame behavior). To access a value by position, use `ser.iloc[pos]`\n",
      "  initiate_asset = data[\"Open\"][0]\n"
     ]
    },
    {
     "name": "stdout",
     "output_type": "stream",
     "text": [
      "check : Profit Line is crossed.\n",
      "check : Losscut.\n",
      "check : Profit Line is crossed.\n",
      "check : Profit Line is crossed.\n",
      "check : Losscut.\n",
      "check : Losscut.\n",
      "check : Losscut.\n",
      "check : Losscut.\n",
      "index 0 is out of bounds for axis 0 with size 0\n",
      "loss_cut: 9 profit_count: 4\n",
      "totalreturn: [20.12082808] initiate_asset:57.7400016784668\n",
      "0.18147762285589314\n",
      "(入力前の)シグナルが0なら売ります。\n",
      "check : Losscut.\n",
      "check : Profit Line is crossed.\n",
      "check : Losscut.\n",
      "check : Losscut.\n",
      "check : Losscut.\n",
      "check : Profit Line is crossed.\n",
      "check : Losscut.\n"
     ]
    },
    {
     "name": "stderr",
     "output_type": "stream",
     "text": [
      "C:\\Users\\admin\\AppData\\Local\\Temp\\ipykernel_9988\\1064569515.py:161: FutureWarning: Series.__getitem__ treating keys as positions is deprecated. In a future version, integer keys will always be treated as labels (consistent with DataFrame behavior). To access a value by position, use `ser.iloc[pos]`\n",
      "  initiate_asset = data[\"Open\"][0]\n"
     ]
    },
    {
     "name": "stdout",
     "output_type": "stream",
     "text": [
      "check : Profit Line is crossed.\n",
      "check : Profit Line is crossed.\n",
      "check : Losscut.\n",
      "check : Losscut.\n",
      "check : Losscut.\n",
      "check : Losscut.\n",
      "index 0 is out of bounds for axis 0 with size 0\n",
      "loss_cut: 9 profit_count: 4\n",
      "totalreturn: [20.20978808] initiate_asset:57.7400016784668\n",
      "0.1820729357607667\n",
      "(入力前の)シグナルが0なら売ります。\n",
      "check : Losscut.\n",
      "check : Profit Line is crossed.\n",
      "check : Losscut.\n",
      "check : Losscut.\n"
     ]
    },
    {
     "name": "stderr",
     "output_type": "stream",
     "text": [
      "C:\\Users\\admin\\AppData\\Local\\Temp\\ipykernel_9988\\1064569515.py:161: FutureWarning: Series.__getitem__ treating keys as positions is deprecated. In a future version, integer keys will always be treated as labels (consistent with DataFrame behavior). To access a value by position, use `ser.iloc[pos]`\n",
      "  initiate_asset = data[\"Open\"][0]\n"
     ]
    },
    {
     "name": "stdout",
     "output_type": "stream",
     "text": [
      "check : Losscut.\n",
      "check : Profit Line is crossed.\n",
      "check : Losscut.\n",
      "check : Profit Line is crossed.\n",
      "check : Profit Line is crossed.\n",
      "check : Losscut.\n",
      "check : Losscut.\n",
      "check : Losscut.\n",
      "check : Losscut.\n",
      "index 0 is out of bounds for axis 0 with size 0\n",
      "loss_cut: 9 profit_count: 4\n",
      "totalreturn: [20.29874807] initiate_asset:57.7400016784668\n",
      "0.18266686764505885\n",
      "(入力前の)シグナルが0なら売ります。\n",
      "check : Losscut.\n",
      "check : Profit Line is crossed.\n",
      "check : Losscut.\n",
      "check : Losscut.\n",
      "check : Losscut.\n",
      "check : Profit Line is crossed.\n"
     ]
    },
    {
     "name": "stderr",
     "output_type": "stream",
     "text": [
      "C:\\Users\\admin\\AppData\\Local\\Temp\\ipykernel_9988\\1064569515.py:161: FutureWarning: Series.__getitem__ treating keys as positions is deprecated. In a future version, integer keys will always be treated as labels (consistent with DataFrame behavior). To access a value by position, use `ser.iloc[pos]`\n",
      "  initiate_asset = data[\"Open\"][0]\n"
     ]
    },
    {
     "name": "stdout",
     "output_type": "stream",
     "text": [
      "check : Losscut.\n",
      "check : Profit Line is crossed.\n",
      "check : Profit Line is crossed.\n",
      "check : Losscut.\n",
      "check : Losscut.\n",
      "check : Losscut.\n",
      "check : Losscut.\n",
      "index 0 is out of bounds for axis 0 with size 0\n",
      "loss_cut: 9 profit_count: 4\n",
      "totalreturn: [20.38770807] initiate_asset:57.7400016784668\n",
      "0.18325941864299877\n",
      "(入力前の)シグナルが0なら売ります。\n",
      "check : Losscut.\n",
      "check : Profit Line is crossed.\n",
      "check : Losscut.\n"
     ]
    },
    {
     "name": "stderr",
     "output_type": "stream",
     "text": [
      "C:\\Users\\admin\\AppData\\Local\\Temp\\ipykernel_9988\\1064569515.py:161: FutureWarning: Series.__getitem__ treating keys as positions is deprecated. In a future version, integer keys will always be treated as labels (consistent with DataFrame behavior). To access a value by position, use `ser.iloc[pos]`\n",
      "  initiate_asset = data[\"Open\"][0]\n"
     ]
    },
    {
     "name": "stdout",
     "output_type": "stream",
     "text": [
      "check : Losscut.\n",
      "check : Losscut.\n",
      "check : Profit Line is crossed.\n",
      "check : Losscut.\n",
      "check : Profit Line is crossed.\n",
      "check : Profit Line is crossed.\n",
      "check : Losscut.\n",
      "check : Losscut.\n",
      "check : Losscut.\n",
      "check : Losscut.\n",
      "index 0 is out of bounds for axis 0 with size 0\n",
      "loss_cut: 9 profit_count: 4\n",
      "totalreturn: [20.47666807] initiate_asset:57.7400016784668\n",
      "0.18385058892107975\n",
      "(入力前の)シグナルが0なら売ります。\n",
      "check : Losscut.\n",
      "check : Profit Line is crossed.\n",
      "check : Losscut.\n",
      "check : Losscut.\n",
      "check : Losscut.\n",
      "check : Profit Line is crossed.\n"
     ]
    },
    {
     "name": "stderr",
     "output_type": "stream",
     "text": [
      "C:\\Users\\admin\\AppData\\Local\\Temp\\ipykernel_9988\\1064569515.py:161: FutureWarning: Series.__getitem__ treating keys as positions is deprecated. In a future version, integer keys will always be treated as labels (consistent with DataFrame behavior). To access a value by position, use `ser.iloc[pos]`\n",
      "  initiate_asset = data[\"Open\"][0]\n"
     ]
    },
    {
     "name": "stdout",
     "output_type": "stream",
     "text": [
      "check : Losscut.\n",
      "check : Profit Line is crossed.\n",
      "check : Profit Line is crossed.\n",
      "check : Losscut.\n",
      "check : Losscut.\n",
      "check : Losscut.\n",
      "check : Losscut.\n",
      "index 0 is out of bounds for axis 0 with size 0\n",
      "loss_cut: 9 profit_count: 4\n",
      "totalreturn: [20.56562807] initiate_asset:57.7400016784668\n",
      "0.18444037867782048\n",
      "(入力前の)シグナルが0なら売ります。\n",
      "check : Losscut.\n",
      "check : Profit Line is crossed.\n",
      "check : Losscut.\n",
      "check : Losscut.\n",
      "check : Losscut.\n",
      "check : Profit Line is crossed.\n"
     ]
    },
    {
     "name": "stderr",
     "output_type": "stream",
     "text": [
      "C:\\Users\\admin\\AppData\\Local\\Temp\\ipykernel_9988\\1064569515.py:161: FutureWarning: Series.__getitem__ treating keys as positions is deprecated. In a future version, integer keys will always be treated as labels (consistent with DataFrame behavior). To access a value by position, use `ser.iloc[pos]`\n",
      "  initiate_asset = data[\"Open\"][0]\n"
     ]
    },
    {
     "name": "stdout",
     "output_type": "stream",
     "text": [
      "check : Losscut.\n",
      "check : Profit Line is crossed.\n",
      "check : Profit Line is crossed.\n",
      "check : Losscut.\n",
      "check : Losscut.\n",
      "check : Losscut.\n",
      "check : Losscut.\n",
      "index 0 is out of bounds for axis 0 with size 0\n",
      "loss_cut: 9 profit_count: 4\n",
      "totalreturn: [20.65458807] initiate_asset:57.7400016784668\n",
      "0.1850287881435263\n",
      "(入力前の)シグナルが0なら売ります。\n",
      "check : Losscut.\n",
      "check : Profit Line is crossed.\n",
      "check : Losscut.\n",
      "check : Losscut.\n",
      "check : Losscut.\n",
      "check : Profit Line is crossed.\n"
     ]
    },
    {
     "name": "stderr",
     "output_type": "stream",
     "text": [
      "C:\\Users\\admin\\AppData\\Local\\Temp\\ipykernel_9988\\1064569515.py:161: FutureWarning: Series.__getitem__ treating keys as positions is deprecated. In a future version, integer keys will always be treated as labels (consistent with DataFrame behavior). To access a value by position, use `ser.iloc[pos]`\n",
      "  initiate_asset = data[\"Open\"][0]\n"
     ]
    },
    {
     "name": "stdout",
     "output_type": "stream",
     "text": [
      "check : Losscut.\n",
      "check : Profit Line is crossed.\n",
      "check : Profit Line is crossed.\n",
      "check : Losscut.\n",
      "check : Losscut.\n",
      "check : Losscut.\n",
      "check : Losscut.\n",
      "index 0 is out of bounds for axis 0 with size 0\n",
      "loss_cut: 9 profit_count: 4\n",
      "totalreturn: [20.74354807] initiate_asset:57.7400016784668\n",
      "0.18561581758005008\n",
      "(入力前の)シグナルが0なら売ります。\n",
      "check : Losscut.\n",
      "check : Profit Line is crossed.\n",
      "check : Losscut.\n",
      "check : Losscut.\n",
      "check : Losscut.\n",
      "check : Profit Line is crossed.\n"
     ]
    },
    {
     "name": "stderr",
     "output_type": "stream",
     "text": [
      "C:\\Users\\admin\\AppData\\Local\\Temp\\ipykernel_9988\\1064569515.py:161: FutureWarning: Series.__getitem__ treating keys as positions is deprecated. In a future version, integer keys will always be treated as labels (consistent with DataFrame behavior). To access a value by position, use `ser.iloc[pos]`\n",
      "  initiate_asset = data[\"Open\"][0]\n"
     ]
    },
    {
     "name": "stdout",
     "output_type": "stream",
     "text": [
      "check : Losscut.\n",
      "check : Profit Line is crossed.\n",
      "check : Profit Line is crossed.\n",
      "check : Losscut.\n",
      "check : Losscut.\n",
      "check : Losscut.\n",
      "check : Losscut.\n",
      "index 0 is out of bounds for axis 0 with size 0\n",
      "loss_cut: 9 profit_count: 4\n",
      "totalreturn: [20.83250807] initiate_asset:57.7400016784668\n",
      "0.18620146728055287\n",
      "(入力前の)シグナルが0なら売ります。\n",
      "check : Losscut.\n",
      "check : Profit Line is crossed.\n",
      "check : Losscut.\n"
     ]
    },
    {
     "name": "stderr",
     "output_type": "stream",
     "text": [
      "C:\\Users\\admin\\AppData\\Local\\Temp\\ipykernel_9988\\1064569515.py:161: FutureWarning: Series.__getitem__ treating keys as positions is deprecated. In a future version, integer keys will always be treated as labels (consistent with DataFrame behavior). To access a value by position, use `ser.iloc[pos]`\n",
      "  initiate_asset = data[\"Open\"][0]\n"
     ]
    },
    {
     "name": "stdout",
     "output_type": "stream",
     "text": [
      "check : Losscut.\n",
      "check : Losscut.\n",
      "check : Profit Line is crossed.\n",
      "check : Losscut.\n",
      "check : Profit Line is crossed.\n",
      "check : Profit Line is crossed.\n",
      "check : Losscut.\n",
      "check : Losscut.\n",
      "check : Losscut.\n",
      "check : Losscut.\n",
      "index 0 is out of bounds for axis 0 with size 0\n",
      "loss_cut: 9 profit_count: 4\n",
      "totalreturn: [20.92146807] initiate_asset:57.7400016784668\n",
      "0.18678573756926464\n",
      "(入力前の)シグナルが0なら売ります。\n"
     ]
    },
    {
     "name": "stderr",
     "output_type": "stream",
     "text": [
      "C:\\Users\\admin\\AppData\\Local\\Temp\\ipykernel_9988\\1064569515.py:161: FutureWarning: Series.__getitem__ treating keys as positions is deprecated. In a future version, integer keys will always be treated as labels (consistent with DataFrame behavior). To access a value by position, use `ser.iloc[pos]`\n",
      "  initiate_asset = data[\"Open\"][0]\n"
     ]
    },
    {
     "name": "stdout",
     "output_type": "stream",
     "text": [
      "check : Losscut.\n",
      "check : Profit Line is crossed.\n",
      "check : Losscut.\n",
      "check : Losscut.\n",
      "check : Losscut.\n",
      "check : Profit Line is crossed.\n",
      "check : Losscut.\n",
      "check : Profit Line is crossed.\n",
      "check : Profit Line is crossed.\n",
      "check : Losscut.\n",
      "check : Losscut.\n",
      "check : Losscut.\n",
      "check : Losscut.\n",
      "index 0 is out of bounds for axis 0 with size 0\n",
      "loss_cut: 9 profit_count: 4\n",
      "totalreturn: [21.01042807] initiate_asset:57.7400016784668\n",
      "0.1873686288012451\n",
      "(入力前の)シグナルが0なら売ります。\n",
      "check : Losscut.\n",
      "check : Profit Line is crossed.\n",
      "check : Losscut.\n",
      "check : Losscut.\n",
      "check : Losscut.\n",
      "check : Profit Line is crossed.\n"
     ]
    },
    {
     "name": "stderr",
     "output_type": "stream",
     "text": [
      "C:\\Users\\admin\\AppData\\Local\\Temp\\ipykernel_9988\\1064569515.py:161: FutureWarning: Series.__getitem__ treating keys as positions is deprecated. In a future version, integer keys will always be treated as labels (consistent with DataFrame behavior). To access a value by position, use `ser.iloc[pos]`\n",
      "  initiate_asset = data[\"Open\"][0]\n"
     ]
    },
    {
     "name": "stdout",
     "output_type": "stream",
     "text": [
      "check : Losscut.\n",
      "check : Profit Line is crossed.\n",
      "check : Profit Line is crossed.\n",
      "check : Losscut.\n",
      "check : Losscut.\n",
      "check : Losscut.\n",
      "check : Losscut.\n",
      "index 0 is out of bounds for axis 0 with size 0\n",
      "loss_cut: 9 profit_count: 4\n",
      "totalreturn: [21.09938807] initiate_asset:57.7400016784668\n",
      "0.18795014136214383\n",
      "(入力前の)シグナルが0なら売ります。\n",
      "check : Losscut.\n",
      "check : Profit Line is crossed.\n",
      "check : Losscut.\n",
      "check : Losscut.\n",
      "check : Losscut.\n",
      "check : Profit Line is crossed.\n"
     ]
    },
    {
     "name": "stderr",
     "output_type": "stream",
     "text": [
      "C:\\Users\\admin\\AppData\\Local\\Temp\\ipykernel_9988\\1064569515.py:161: FutureWarning: Series.__getitem__ treating keys as positions is deprecated. In a future version, integer keys will always be treated as labels (consistent with DataFrame behavior). To access a value by position, use `ser.iloc[pos]`\n",
      "  initiate_asset = data[\"Open\"][0]\n"
     ]
    },
    {
     "name": "stdout",
     "output_type": "stream",
     "text": [
      "check : Losscut.\n",
      "check : Profit Line is crossed.\n",
      "check : Profit Line is crossed.\n",
      "check : Losscut.\n",
      "check : Losscut.\n",
      "check : Losscut.\n",
      "check : Losscut.\n",
      "index 0 is out of bounds for axis 0 with size 0\n",
      "loss_cut: 9 profit_count: 4\n",
      "totalreturn: [21.18834807] initiate_asset:57.7400016784668\n",
      "0.188530275667961\n",
      "(入力前の)シグナルが0なら売ります。\n",
      "check : Losscut.\n",
      "check : Profit Line is crossed.\n",
      "check : Losscut.\n",
      "check : Losscut.\n",
      "check : Losscut.\n"
     ]
    },
    {
     "name": "stderr",
     "output_type": "stream",
     "text": [
      "C:\\Users\\admin\\AppData\\Local\\Temp\\ipykernel_9988\\1064569515.py:161: FutureWarning: Series.__getitem__ treating keys as positions is deprecated. In a future version, integer keys will always be treated as labels (consistent with DataFrame behavior). To access a value by position, use `ser.iloc[pos]`\n",
      "  initiate_asset = data[\"Open\"][0]\n"
     ]
    },
    {
     "name": "stdout",
     "output_type": "stream",
     "text": [
      "check : Profit Line is crossed.\n",
      "check : Losscut.\n",
      "check : Profit Line is crossed.\n",
      "check : Profit Line is crossed.\n",
      "check : Losscut.\n",
      "check : Losscut.\n",
      "check : Losscut.\n",
      "check : Losscut.\n",
      "index 0 is out of bounds for axis 0 with size 0\n",
      "loss_cut: 9 profit_count: 4\n",
      "totalreturn: [21.27730806] initiate_asset:57.7400016784668\n",
      "0.18910903216480773\n",
      "(入力前の)シグナルが0なら売ります。\n",
      "check : Losscut.\n",
      "check : Profit Line is crossed.\n"
     ]
    },
    {
     "name": "stderr",
     "output_type": "stream",
     "text": [
      "C:\\Users\\admin\\AppData\\Local\\Temp\\ipykernel_9988\\1064569515.py:161: FutureWarning: Series.__getitem__ treating keys as positions is deprecated. In a future version, integer keys will always be treated as labels (consistent with DataFrame behavior). To access a value by position, use `ser.iloc[pos]`\n",
      "  initiate_asset = data[\"Open\"][0]\n"
     ]
    },
    {
     "name": "stdout",
     "output_type": "stream",
     "text": [
      "check : Losscut.\n",
      "check : Losscut.\n",
      "check : Losscut.\n",
      "check : Profit Line is crossed.\n",
      "check : Losscut.\n",
      "check : Profit Line is crossed.\n",
      "check : Profit Line is crossed.\n",
      "check : Losscut.\n",
      "check : Losscut.\n",
      "check : Losscut.\n",
      "check : Losscut.\n",
      "index 0 is out of bounds for axis 0 with size 0\n",
      "loss_cut: 9 profit_count: 4\n",
      "totalreturn: [21.36626806] initiate_asset:57.7400016784668\n",
      "0.1896864113286665\n",
      "(入力前の)シグナルが0なら売ります。\n",
      "check : Losscut.\n",
      "check : Profit Line is crossed.\n",
      "check : Losscut.\n",
      "check : Losscut.\n",
      "check : Losscut.\n",
      "check : Profit Line is crossed.\n"
     ]
    },
    {
     "name": "stderr",
     "output_type": "stream",
     "text": [
      "C:\\Users\\admin\\AppData\\Local\\Temp\\ipykernel_9988\\1064569515.py:161: FutureWarning: Series.__getitem__ treating keys as positions is deprecated. In a future version, integer keys will always be treated as labels (consistent with DataFrame behavior). To access a value by position, use `ser.iloc[pos]`\n",
      "  initiate_asset = data[\"Open\"][0]\n"
     ]
    },
    {
     "name": "stdout",
     "output_type": "stream",
     "text": [
      "check : Losscut.\n",
      "check : Profit Line is crossed.\n",
      "check : Profit Line is crossed.\n",
      "check : Losscut.\n",
      "check : Losscut.\n",
      "check : Losscut.\n",
      "check : Losscut.\n",
      "index 0 is out of bounds for axis 0 with size 0\n",
      "loss_cut: 9 profit_count: 4\n",
      "totalreturn: [21.45522806] initiate_asset:57.7400016784668\n",
      "0.19026241366515192\n",
      "(入力前の)シグナルが0なら売ります。\n",
      "check : Losscut.\n",
      "check : Profit Line is crossed.\n",
      "check : Losscut.\n",
      "check : Losscut.\n"
     ]
    },
    {
     "name": "stderr",
     "output_type": "stream",
     "text": [
      "C:\\Users\\admin\\AppData\\Local\\Temp\\ipykernel_9988\\1064569515.py:161: FutureWarning: Series.__getitem__ treating keys as positions is deprecated. In a future version, integer keys will always be treated as labels (consistent with DataFrame behavior). To access a value by position, use `ser.iloc[pos]`\n",
      "  initiate_asset = data[\"Open\"][0]\n"
     ]
    },
    {
     "name": "stdout",
     "output_type": "stream",
     "text": [
      "check : Losscut.\n",
      "check : Profit Line is crossed.\n",
      "check : Losscut.\n",
      "check : Profit Line is crossed.\n",
      "check : Profit Line is crossed.\n",
      "check : Losscut.\n",
      "check : Losscut.\n",
      "check : Losscut.\n",
      "check : Losscut.\n",
      "index 0 is out of bounds for axis 0 with size 0\n",
      "loss_cut: 9 profit_count: 4\n",
      "totalreturn: [21.54418806] initiate_asset:57.7400016784668\n",
      "0.19083703970927093\n",
      "(入力前の)シグナルが0なら売ります。\n",
      "check : Losscut.\n",
      "check : Profit Line is crossed.\n",
      "check : Losscut.\n"
     ]
    },
    {
     "name": "stderr",
     "output_type": "stream",
     "text": [
      "C:\\Users\\admin\\AppData\\Local\\Temp\\ipykernel_9988\\1064569515.py:161: FutureWarning: Series.__getitem__ treating keys as positions is deprecated. In a future version, integer keys will always be treated as labels (consistent with DataFrame behavior). To access a value by position, use `ser.iloc[pos]`\n",
      "  initiate_asset = data[\"Open\"][0]\n"
     ]
    },
    {
     "name": "stdout",
     "output_type": "stream",
     "text": [
      "check : Losscut.\n",
      "check : Losscut.\n",
      "check : Profit Line is crossed.\n",
      "check : Losscut.\n",
      "check : Profit Line is crossed.\n",
      "check : Profit Line is crossed.\n",
      "check : Losscut.\n",
      "check : Losscut.\n",
      "check : Losscut.\n",
      "check : Losscut.\n",
      "index 0 is out of bounds for axis 0 with size 0\n",
      "loss_cut: 9 profit_count: 4\n",
      "totalreturn: [21.63314806] initiate_asset:57.7400016784668\n",
      "0.19141029002518362\n",
      "(入力前の)シグナルが0なら売ります。\n"
     ]
    },
    {
     "name": "stderr",
     "output_type": "stream",
     "text": [
      "C:\\Users\\admin\\AppData\\Local\\Temp\\ipykernel_9988\\1064569515.py:161: FutureWarning: Series.__getitem__ treating keys as positions is deprecated. In a future version, integer keys will always be treated as labels (consistent with DataFrame behavior). To access a value by position, use `ser.iloc[pos]`\n",
      "  initiate_asset = data[\"Open\"][0]\n"
     ]
    },
    {
     "name": "stdout",
     "output_type": "stream",
     "text": [
      "check : Losscut.\n",
      "check : Profit Line is crossed.\n",
      "check : Losscut.\n",
      "check : Losscut.\n",
      "check : Losscut.\n",
      "check : Profit Line is crossed.\n",
      "check : Losscut.\n",
      "check : Profit Line is crossed.\n",
      "check : Profit Line is crossed.\n",
      "check : Losscut.\n",
      "check : Losscut.\n",
      "check : Losscut.\n",
      "check : Losscut.\n",
      "index 0 is out of bounds for axis 0 with size 0\n",
      "loss_cut: 9 profit_count: 4\n",
      "totalreturn: [21.72210806] initiate_asset:57.7400016784668\n",
      "0.19198216520596398\n",
      "(入力前の)シグナルが0なら売ります。\n",
      "check : Losscut.\n",
      "check : Profit Line is crossed.\n",
      "check : Losscut.\n",
      "check : Losscut.\n",
      "check : Losscut.\n",
      "check : Profit Line is crossed.\n"
     ]
    },
    {
     "name": "stderr",
     "output_type": "stream",
     "text": [
      "C:\\Users\\admin\\AppData\\Local\\Temp\\ipykernel_9988\\1064569515.py:161: FutureWarning: Series.__getitem__ treating keys as positions is deprecated. In a future version, integer keys will always be treated as labels (consistent with DataFrame behavior). To access a value by position, use `ser.iloc[pos]`\n",
      "  initiate_asset = data[\"Open\"][0]\n"
     ]
    },
    {
     "name": "stdout",
     "output_type": "stream",
     "text": [
      "check : Losscut.\n",
      "check : Profit Line is crossed.\n",
      "check : Profit Line is crossed.\n",
      "check : Losscut.\n",
      "check : Losscut.\n",
      "check : Losscut.\n",
      "check : Losscut.\n",
      "index 0 is out of bounds for axis 0 with size 0\n",
      "loss_cut: 9 profit_count: 4\n",
      "totalreturn: [21.81106806] initiate_asset:57.7400016784668\n",
      "0.19255266587336065\n",
      "(入力前の)シグナルが0なら売ります。\n",
      "check : Losscut.\n",
      "check : Profit Line is crossed.\n",
      "check : Losscut.\n",
      "check : Losscut.\n"
     ]
    },
    {
     "name": "stderr",
     "output_type": "stream",
     "text": [
      "C:\\Users\\admin\\AppData\\Local\\Temp\\ipykernel_9988\\1064569515.py:161: FutureWarning: Series.__getitem__ treating keys as positions is deprecated. In a future version, integer keys will always be treated as labels (consistent with DataFrame behavior). To access a value by position, use `ser.iloc[pos]`\n",
      "  initiate_asset = data[\"Open\"][0]\n"
     ]
    },
    {
     "name": "stdout",
     "output_type": "stream",
     "text": [
      "check : Losscut.\n",
      "check : Profit Line is crossed.\n",
      "check : Losscut.\n",
      "check : Profit Line is crossed.\n",
      "check : Profit Line is crossed.\n",
      "check : Losscut.\n",
      "check : Losscut.\n",
      "check : Losscut.\n",
      "check : Losscut.\n",
      "index 0 is out of bounds for axis 0 with size 0\n",
      "loss_cut: 9 profit_count: 4\n",
      "totalreturn: [21.90002806] initiate_asset:57.7400016784668\n",
      "0.19312179267755822\n",
      "(入力前の)シグナルが0なら売ります。\n",
      "check : Losscut.\n",
      "check : Profit Line is crossed.\n",
      "check : Losscut.\n"
     ]
    },
    {
     "name": "stderr",
     "output_type": "stream",
     "text": [
      "C:\\Users\\admin\\AppData\\Local\\Temp\\ipykernel_9988\\1064569515.py:161: FutureWarning: Series.__getitem__ treating keys as positions is deprecated. In a future version, integer keys will always be treated as labels (consistent with DataFrame behavior). To access a value by position, use `ser.iloc[pos]`\n",
      "  initiate_asset = data[\"Open\"][0]\n"
     ]
    },
    {
     "name": "stdout",
     "output_type": "stream",
     "text": [
      "check : Losscut.\n",
      "check : Losscut.\n",
      "check : Losscut.\n",
      "check : Profit Line is crossed.\n",
      "check : Profit Line is crossed.\n",
      "check : Losscut.\n",
      "check : Losscut.\n",
      "check : Losscut.\n",
      "check : Losscut.\n",
      "index 0 is out of bounds for axis 0 with size 0\n",
      "loss_cut: 9 profit_count: 3\n",
      "totalreturn: [16.88098775] initiate_asset:57.7400016784668\n",
      "0.1556544244261975\n",
      "(入力前の)シグナルが0なら売ります。\n",
      "check : Losscut.\n",
      "check : Profit Line is crossed.\n",
      "check : Losscut.\n",
      "check : Losscut.\n",
      "check : Losscut.\n",
      "check : Losscut.\n",
      "check : Profit Line is crossed.\n"
     ]
    },
    {
     "name": "stderr",
     "output_type": "stream",
     "text": [
      "C:\\Users\\admin\\AppData\\Local\\Temp\\ipykernel_9988\\1064569515.py:161: FutureWarning: Series.__getitem__ treating keys as positions is deprecated. In a future version, integer keys will always be treated as labels (consistent with DataFrame behavior). To access a value by position, use `ser.iloc[pos]`\n",
      "  initiate_asset = data[\"Open\"][0]\n"
     ]
    },
    {
     "name": "stdout",
     "output_type": "stream",
     "text": [
      "check : Profit Line is crossed.\n",
      "check : Losscut.\n",
      "check : Losscut.\n",
      "check : Losscut.\n",
      "check : Losscut.\n",
      "index 0 is out of bounds for axis 0 with size 0\n",
      "loss_cut: 9 profit_count: 3\n",
      "totalreturn: [16.92794775] initiate_asset:57.7400016784668\n",
      "0.15596177492657384\n",
      "(入力前の)シグナルが0なら売ります。\n",
      "check : Losscut.\n",
      "check : Profit Line is crossed.\n",
      "check : Losscut.\n",
      "check : Losscut.\n",
      "check : Losscut.\n"
     ]
    },
    {
     "name": "stderr",
     "output_type": "stream",
     "text": [
      "C:\\Users\\admin\\AppData\\Local\\Temp\\ipykernel_9988\\1064569515.py:161: FutureWarning: Series.__getitem__ treating keys as positions is deprecated. In a future version, integer keys will always be treated as labels (consistent with DataFrame behavior). To access a value by position, use `ser.iloc[pos]`\n",
      "  initiate_asset = data[\"Open\"][0]\n"
     ]
    },
    {
     "name": "stdout",
     "output_type": "stream",
     "text": [
      "check : Losscut.\n",
      "check : Profit Line is crossed.\n",
      "check : Profit Line is crossed.\n",
      "check : Losscut.\n",
      "check : Losscut.\n",
      "check : Losscut.\n",
      "check : Losscut.\n",
      "index 0 is out of bounds for axis 0 with size 0\n",
      "loss_cut: 9 profit_count: 3\n",
      "totalreturn: [16.97490775] initiate_asset:57.7400016784668\n",
      "0.15626861750246981\n",
      "(入力前の)シグナルが0なら売ります。\n",
      "check : Losscut.\n",
      "check : Profit Line is crossed.\n",
      "check : Losscut.\n",
      "check : Losscut.\n"
     ]
    },
    {
     "name": "stderr",
     "output_type": "stream",
     "text": [
      "C:\\Users\\admin\\AppData\\Local\\Temp\\ipykernel_9988\\1064569515.py:161: FutureWarning: Series.__getitem__ treating keys as positions is deprecated. In a future version, integer keys will always be treated as labels (consistent with DataFrame behavior). To access a value by position, use `ser.iloc[pos]`\n",
      "  initiate_asset = data[\"Open\"][0]\n"
     ]
    },
    {
     "name": "stdout",
     "output_type": "stream",
     "text": [
      "check : Losscut.\n",
      "check : Losscut.\n",
      "check : Profit Line is crossed.\n",
      "check : Profit Line is crossed.\n",
      "check : Losscut.\n",
      "check : Losscut.\n",
      "check : Losscut.\n",
      "check : Losscut.\n",
      "index 0 is out of bounds for axis 0 with size 0\n",
      "loss_cut: 9 profit_count: 3\n",
      "totalreturn: [17.02186775] initiate_asset:57.7400016784668\n",
      "0.15657495184552103\n",
      "(入力前の)シグナルが0なら売ります。\n"
     ]
    },
    {
     "name": "stderr",
     "output_type": "stream",
     "text": [
      "C:\\Users\\admin\\AppData\\Local\\Temp\\ipykernel_9988\\1064569515.py:161: FutureWarning: Series.__getitem__ treating keys as positions is deprecated. In a future version, integer keys will always be treated as labels (consistent with DataFrame behavior). To access a value by position, use `ser.iloc[pos]`\n",
      "  initiate_asset = data[\"Open\"][0]\n"
     ]
    },
    {
     "name": "stdout",
     "output_type": "stream",
     "text": [
      "check : Losscut.\n",
      "check : Profit Line is crossed.\n",
      "check : Losscut.\n",
      "check : Losscut.\n",
      "check : Losscut.\n",
      "check : Losscut.\n",
      "check : Profit Line is crossed.\n",
      "check : Profit Line is crossed.\n",
      "check : Losscut.\n",
      "check : Losscut.\n",
      "check : Losscut.\n",
      "check : Losscut.\n",
      "index 0 is out of bounds for axis 0 with size 0\n",
      "loss_cut: 9 profit_count: 3\n",
      "totalreturn: [17.06882775] initiate_asset:57.7400016784668\n",
      "0.15688077765514502\n",
      "(入力前の)シグナルが0なら売ります。\n",
      "check : Losscut.\n",
      "check : Profit Line is crossed.\n",
      "check : Losscut.\n",
      "check : Losscut.\n"
     ]
    },
    {
     "name": "stderr",
     "output_type": "stream",
     "text": [
      "C:\\Users\\admin\\AppData\\Local\\Temp\\ipykernel_9988\\1064569515.py:161: FutureWarning: Series.__getitem__ treating keys as positions is deprecated. In a future version, integer keys will always be treated as labels (consistent with DataFrame behavior). To access a value by position, use `ser.iloc[pos]`\n",
      "  initiate_asset = data[\"Open\"][0]\n"
     ]
    },
    {
     "name": "stdout",
     "output_type": "stream",
     "text": [
      "check : Losscut.\n",
      "check : Losscut.\n",
      "check : Profit Line is crossed.\n",
      "check : Profit Line is crossed.\n",
      "check : Losscut.\n",
      "check : Losscut.\n",
      "check : Losscut.\n",
      "check : Losscut.\n",
      "index 0 is out of bounds for axis 0 with size 0\n",
      "loss_cut: 9 profit_count: 3\n",
      "totalreturn: [17.11578775] initiate_asset:57.7400016784668\n",
      "0.1571860946385156\n",
      "(入力前の)シグナルが0なら売ります。\n",
      "check : Losscut.\n",
      "check : Profit Line is crossed.\n",
      "check : Losscut.\n",
      "check : Losscut.\n",
      "check : Losscut.\n"
     ]
    },
    {
     "name": "stderr",
     "output_type": "stream",
     "text": [
      "C:\\Users\\admin\\AppData\\Local\\Temp\\ipykernel_9988\\1064569515.py:161: FutureWarning: Series.__getitem__ treating keys as positions is deprecated. In a future version, integer keys will always be treated as labels (consistent with DataFrame behavior). To access a value by position, use `ser.iloc[pos]`\n",
      "  initiate_asset = data[\"Open\"][0]\n"
     ]
    },
    {
     "name": "stdout",
     "output_type": "stream",
     "text": [
      "check : Losscut.\n",
      "check : Profit Line is crossed.\n",
      "check : Profit Line is crossed.\n",
      "check : Losscut.\n",
      "check : Losscut.\n",
      "check : Losscut.\n",
      "check : Losscut.\n",
      "index 0 is out of bounds for axis 0 with size 0\n",
      "loss_cut: 9 profit_count: 3\n",
      "totalreturn: [17.16274775] initiate_asset:57.7400016784668\n",
      "0.15749090251053746\n",
      "(入力前の)シグナルが0なら売ります。\n",
      "check : Losscut.\n",
      "check : Profit Line is crossed.\n",
      "check : Losscut.\n",
      "check : Losscut.\n"
     ]
    },
    {
     "name": "stderr",
     "output_type": "stream",
     "text": [
      "C:\\Users\\admin\\AppData\\Local\\Temp\\ipykernel_9988\\1064569515.py:161: FutureWarning: Series.__getitem__ treating keys as positions is deprecated. In a future version, integer keys will always be treated as labels (consistent with DataFrame behavior). To access a value by position, use `ser.iloc[pos]`\n",
      "  initiate_asset = data[\"Open\"][0]\n"
     ]
    },
    {
     "name": "stdout",
     "output_type": "stream",
     "text": [
      "check : Losscut.\n",
      "check : Losscut.\n",
      "check : Profit Line is crossed.\n",
      "check : Profit Line is crossed.\n",
      "check : Losscut.\n",
      "check : Losscut.\n",
      "check : Losscut.\n",
      "check : Losscut.\n",
      "index 0 is out of bounds for axis 0 with size 0\n",
      "loss_cut: 9 profit_count: 3\n",
      "totalreturn: [17.20970775] initiate_asset:57.7400016784668\n",
      "0.15779520099382055\n",
      "(入力前の)シグナルが0なら売ります。\n",
      "check : Losscut.\n",
      "check : Profit Line is crossed.\n",
      "check : Losscut.\n"
     ]
    },
    {
     "name": "stderr",
     "output_type": "stream",
     "text": [
      "C:\\Users\\admin\\AppData\\Local\\Temp\\ipykernel_9988\\1064569515.py:161: FutureWarning: Series.__getitem__ treating keys as positions is deprecated. In a future version, integer keys will always be treated as labels (consistent with DataFrame behavior). To access a value by position, use `ser.iloc[pos]`\n",
      "  initiate_asset = data[\"Open\"][0]\n"
     ]
    },
    {
     "name": "stdout",
     "output_type": "stream",
     "text": [
      "check : Losscut.\n",
      "check : Losscut.\n",
      "check : Losscut.\n",
      "check : Profit Line is crossed.\n",
      "check : Profit Line is crossed.\n",
      "check : Losscut.\n",
      "check : Losscut.\n",
      "check : Losscut.\n",
      "check : Losscut.\n",
      "index 0 is out of bounds for axis 0 with size 0\n",
      "loss_cut: 9 profit_count: 3\n",
      "totalreturn: [17.25666774] initiate_asset:57.7400016784668\n",
      "0.15809898981865383\n",
      "(入力前の)シグナルが0なら売ります。\n",
      "check : Losscut.\n",
      "check : Profit Line is crossed.\n",
      "check : Losscut.\n",
      "check : Losscut.\n",
      "check : Losscut.\n",
      "check : Losscut.\n",
      "check : Profit Line is crossed.\n",
      "check : Profit Line is crossed.\n"
     ]
    },
    {
     "name": "stderr",
     "output_type": "stream",
     "text": [
      "C:\\Users\\admin\\AppData\\Local\\Temp\\ipykernel_9988\\1064569515.py:161: FutureWarning: Series.__getitem__ treating keys as positions is deprecated. In a future version, integer keys will always be treated as labels (consistent with DataFrame behavior). To access a value by position, use `ser.iloc[pos]`\n",
      "  initiate_asset = data[\"Open\"][0]\n"
     ]
    },
    {
     "name": "stdout",
     "output_type": "stream",
     "text": [
      "check : Losscut.\n",
      "check : Losscut.\n",
      "check : Losscut.\n",
      "check : Losscut.\n",
      "index 0 is out of bounds for axis 0 with size 0\n",
      "loss_cut: 9 profit_count: 3\n",
      "totalreturn: [17.30362774] initiate_asset:57.7400016784668\n",
      "0.1584022687229795\n",
      "(入力前の)シグナルが0なら売ります。\n",
      "check : Losscut.\n",
      "check : Profit Line is crossed.\n",
      "check : Losscut.\n",
      "check : Losscut.\n",
      "check : Losscut.\n"
     ]
    },
    {
     "name": "stderr",
     "output_type": "stream",
     "text": [
      "C:\\Users\\admin\\AppData\\Local\\Temp\\ipykernel_9988\\1064569515.py:161: FutureWarning: Series.__getitem__ treating keys as positions is deprecated. In a future version, integer keys will always be treated as labels (consistent with DataFrame behavior). To access a value by position, use `ser.iloc[pos]`\n",
      "  initiate_asset = data[\"Open\"][0]\n"
     ]
    },
    {
     "name": "stdout",
     "output_type": "stream",
     "text": [
      "check : Losscut.\n",
      "check : Profit Line is crossed.\n",
      "check : Profit Line is crossed.\n",
      "check : Losscut.\n",
      "check : Losscut.\n",
      "check : Losscut.\n",
      "check : Losscut.\n",
      "index 0 is out of bounds for axis 0 with size 0\n",
      "loss_cut: 9 profit_count: 3\n",
      "totalreturn: [17.35058774] initiate_asset:57.7400016784668\n",
      "0.15870503745236647\n",
      "(入力前の)シグナルが0なら売ります。\n",
      "check : Losscut.\n",
      "check : Profit Line is crossed.\n",
      "check : Losscut.\n",
      "check : Losscut.\n",
      "check : Losscut.\n"
     ]
    },
    {
     "name": "stderr",
     "output_type": "stream",
     "text": [
      "C:\\Users\\admin\\AppData\\Local\\Temp\\ipykernel_9988\\1064569515.py:161: FutureWarning: Series.__getitem__ treating keys as positions is deprecated. In a future version, integer keys will always be treated as labels (consistent with DataFrame behavior). To access a value by position, use `ser.iloc[pos]`\n",
      "  initiate_asset = data[\"Open\"][0]\n"
     ]
    },
    {
     "name": "stdout",
     "output_type": "stream",
     "text": [
      "check : Losscut.\n",
      "check : Profit Line is crossed.\n",
      "check : Profit Line is crossed.\n",
      "check : Losscut.\n",
      "check : Losscut.\n",
      "check : Losscut.\n",
      "check : Losscut.\n",
      "index 0 is out of bounds for axis 0 with size 0\n",
      "loss_cut: 9 profit_count: 3\n",
      "totalreturn: [17.39754774] initiate_asset:57.7400016784668\n",
      "0.15900729575998415\n",
      "(入力前の)シグナルが0なら売ります。\n",
      "check : Losscut.\n",
      "check : Profit Line is crossed.\n",
      "check : Losscut.\n",
      "check : Losscut.\n"
     ]
    },
    {
     "name": "stderr",
     "output_type": "stream",
     "text": [
      "C:\\Users\\admin\\AppData\\Local\\Temp\\ipykernel_9988\\1064569515.py:161: FutureWarning: Series.__getitem__ treating keys as positions is deprecated. In a future version, integer keys will always be treated as labels (consistent with DataFrame behavior). To access a value by position, use `ser.iloc[pos]`\n",
      "  initiate_asset = data[\"Open\"][0]\n"
     ]
    },
    {
     "name": "stdout",
     "output_type": "stream",
     "text": [
      "check : Losscut.\n",
      "check : Losscut.\n",
      "check : Profit Line is crossed.\n",
      "check : Profit Line is crossed.\n",
      "check : Losscut.\n",
      "check : Losscut.\n",
      "check : Losscut.\n",
      "check : Losscut.\n",
      "index 0 is out of bounds for axis 0 with size 0\n",
      "loss_cut: 9 profit_count: 3\n",
      "totalreturn: [17.44450774] initiate_asset:57.7400016784668\n",
      "0.15930904340657578\n",
      "(入力前の)シグナルが0なら売ります。\n",
      "check : Losscut.\n",
      "check : Profit Line is crossed.\n",
      "check : Losscut.\n"
     ]
    },
    {
     "name": "stderr",
     "output_type": "stream",
     "text": [
      "C:\\Users\\admin\\AppData\\Local\\Temp\\ipykernel_9988\\1064569515.py:161: FutureWarning: Series.__getitem__ treating keys as positions is deprecated. In a future version, integer keys will always be treated as labels (consistent with DataFrame behavior). To access a value by position, use `ser.iloc[pos]`\n",
      "  initiate_asset = data[\"Open\"][0]\n"
     ]
    },
    {
     "name": "stdout",
     "output_type": "stream",
     "text": [
      "check : Losscut.\n",
      "check : Losscut.\n",
      "check : Losscut.\n",
      "check : Profit Line is crossed.\n",
      "check : Profit Line is crossed.\n",
      "check : Losscut.\n",
      "check : Losscut.\n",
      "check : Losscut.\n",
      "check : Losscut.\n",
      "index 0 is out of bounds for axis 0 with size 0\n",
      "loss_cut: 9 profit_count: 3\n",
      "totalreturn: [17.49146774] initiate_asset:57.7400016784668\n",
      "0.1596102801604317\n",
      "(入力前の)シグナルが0なら売ります。\n",
      "check : Losscut.\n",
      "check : Profit Line is crossed.\n",
      "check : Losscut.\n",
      "check : Losscut.\n",
      "check : Losscut.\n",
      "check : Losscut.\n",
      "check : Profit Line is crossed.\n"
     ]
    },
    {
     "name": "stderr",
     "output_type": "stream",
     "text": [
      "C:\\Users\\admin\\AppData\\Local\\Temp\\ipykernel_9988\\1064569515.py:161: FutureWarning: Series.__getitem__ treating keys as positions is deprecated. In a future version, integer keys will always be treated as labels (consistent with DataFrame behavior). To access a value by position, use `ser.iloc[pos]`\n",
      "  initiate_asset = data[\"Open\"][0]\n"
     ]
    },
    {
     "name": "stdout",
     "output_type": "stream",
     "text": [
      "check : Profit Line is crossed.\n",
      "check : Losscut.\n",
      "check : Losscut.\n",
      "check : Losscut.\n",
      "check : Losscut.\n",
      "index 0 is out of bounds for axis 0 with size 0\n",
      "loss_cut: 9 profit_count: 3\n",
      "totalreturn: [17.53842774] initiate_asset:57.7400016784668\n",
      "0.15991100579736225\n",
      "(入力前の)シグナルが0なら売ります。\n",
      "check : Losscut.\n",
      "check : Profit Line is crossed.\n",
      "check : Losscut.\n",
      "check : Losscut.\n",
      "check : Losscut.\n"
     ]
    },
    {
     "name": "stderr",
     "output_type": "stream",
     "text": [
      "C:\\Users\\admin\\AppData\\Local\\Temp\\ipykernel_9988\\1064569515.py:161: FutureWarning: Series.__getitem__ treating keys as positions is deprecated. In a future version, integer keys will always be treated as labels (consistent with DataFrame behavior). To access a value by position, use `ser.iloc[pos]`\n",
      "  initiate_asset = data[\"Open\"][0]\n"
     ]
    },
    {
     "name": "stdout",
     "output_type": "stream",
     "text": [
      "check : Losscut.\n",
      "check : Profit Line is crossed.\n",
      "check : Profit Line is crossed.\n",
      "check : Losscut.\n",
      "check : Losscut.\n",
      "check : Losscut.\n",
      "check : Losscut.\n",
      "index 0 is out of bounds for axis 0 with size 0\n",
      "loss_cut: 9 profit_count: 3\n",
      "totalreturn: [17.58538774] initiate_asset:57.7400016784668\n",
      "0.16021122010067143\n",
      "(入力前の)シグナルが0なら売ります。\n",
      "check : Losscut.\n",
      "check : Profit Line is crossed.\n",
      "check : Losscut.\n",
      "check : Losscut.\n"
     ]
    },
    {
     "name": "stderr",
     "output_type": "stream",
     "text": [
      "C:\\Users\\admin\\AppData\\Local\\Temp\\ipykernel_9988\\1064569515.py:161: FutureWarning: Series.__getitem__ treating keys as positions is deprecated. In a future version, integer keys will always be treated as labels (consistent with DataFrame behavior). To access a value by position, use `ser.iloc[pos]`\n",
      "  initiate_asset = data[\"Open\"][0]\n"
     ]
    },
    {
     "name": "stdout",
     "output_type": "stream",
     "text": [
      "check : Losscut.\n",
      "check : Losscut.\n",
      "check : Profit Line is crossed.\n",
      "check : Profit Line is crossed.\n",
      "check : Losscut.\n",
      "check : Losscut.\n",
      "check : Losscut.\n",
      "check : Losscut.\n",
      "index 0 is out of bounds for axis 0 with size 0\n",
      "loss_cut: 9 profit_count: 3\n",
      "totalreturn: [17.63234774] initiate_asset:57.7400016784668\n",
      "0.16051092286112853\n",
      "(入力前の)シグナルが0なら売ります。\n",
      "check : Losscut.\n",
      "check : Profit Line is crossed.\n",
      "check : Losscut.\n"
     ]
    },
    {
     "name": "stderr",
     "output_type": "stream",
     "text": [
      "C:\\Users\\admin\\AppData\\Local\\Temp\\ipykernel_9988\\1064569515.py:161: FutureWarning: Series.__getitem__ treating keys as positions is deprecated. In a future version, integer keys will always be treated as labels (consistent with DataFrame behavior). To access a value by position, use `ser.iloc[pos]`\n",
      "  initiate_asset = data[\"Open\"][0]\n"
     ]
    },
    {
     "name": "stdout",
     "output_type": "stream",
     "text": [
      "check : Losscut.\n",
      "check : Losscut.\n",
      "check : Losscut.\n",
      "check : Profit Line is crossed.\n",
      "check : Profit Line is crossed.\n",
      "check : Losscut.\n",
      "check : Losscut.\n",
      "check : Losscut.\n",
      "check : Losscut.\n",
      "index 0 is out of bounds for axis 0 with size 0\n",
      "loss_cut: 9 profit_count: 3\n",
      "totalreturn: [17.67930774] initiate_asset:57.7400016784668\n",
      "0.16081011387694194\n",
      "(入力前の)シグナルが0なら売ります。\n"
     ]
    },
    {
     "name": "stderr",
     "output_type": "stream",
     "text": [
      "C:\\Users\\admin\\AppData\\Local\\Temp\\ipykernel_9988\\1064569515.py:161: FutureWarning: Series.__getitem__ treating keys as positions is deprecated. In a future version, integer keys will always be treated as labels (consistent with DataFrame behavior). To access a value by position, use `ser.iloc[pos]`\n",
      "  initiate_asset = data[\"Open\"][0]\n"
     ]
    },
    {
     "name": "stdout",
     "output_type": "stream",
     "text": [
      "check : Losscut.\n",
      "check : Profit Line is crossed.\n",
      "check : Losscut.\n",
      "check : Losscut.\n",
      "check : Losscut.\n",
      "check : Losscut.\n",
      "check : Profit Line is crossed.\n",
      "check : Profit Line is crossed.\n",
      "check : Losscut.\n",
      "check : Losscut.\n",
      "check : Losscut.\n",
      "check : Losscut.\n",
      "index 0 is out of bounds for axis 0 with size 0\n",
      "loss_cut: 9 profit_count: 3\n",
      "totalreturn: [17.72626774] initiate_asset:57.7400016784668\n",
      "0.16110879295373084\n",
      "(入力前の)シグナルが0なら売ります。\n",
      "check : Losscut.\n",
      "check : Profit Line is crossed.\n",
      "check : Losscut.\n",
      "check : Losscut.\n",
      "check : Losscut.\n",
      "check : Losscut.\n",
      "check : Profit Line is crossed.\n"
     ]
    },
    {
     "name": "stderr",
     "output_type": "stream",
     "text": [
      "C:\\Users\\admin\\AppData\\Local\\Temp\\ipykernel_9988\\1064569515.py:161: FutureWarning: Series.__getitem__ treating keys as positions is deprecated. In a future version, integer keys will always be treated as labels (consistent with DataFrame behavior). To access a value by position, use `ser.iloc[pos]`\n",
      "  initiate_asset = data[\"Open\"][0]\n"
     ]
    },
    {
     "name": "stdout",
     "output_type": "stream",
     "text": [
      "check : Profit Line is crossed.\n",
      "check : Losscut.\n",
      "check : Losscut.\n",
      "check : Losscut.\n",
      "check : Losscut.\n",
      "index 0 is out of bounds for axis 0 with size 0\n",
      "loss_cut: 9 profit_count: 3\n",
      "totalreturn: [17.77322773] initiate_asset:57.7400016784668\n",
      "0.161406959904498\n",
      "(入力前の)シグナルが0なら売ります。\n",
      "check : Losscut.\n",
      "check : Profit Line is crossed.\n",
      "check : Losscut.\n",
      "check : Losscut.\n",
      "check : Losscut.\n"
     ]
    },
    {
     "name": "stderr",
     "output_type": "stream",
     "text": [
      "C:\\Users\\admin\\AppData\\Local\\Temp\\ipykernel_9988\\1064569515.py:161: FutureWarning: Series.__getitem__ treating keys as positions is deprecated. In a future version, integer keys will always be treated as labels (consistent with DataFrame behavior). To access a value by position, use `ser.iloc[pos]`\n",
      "  initiate_asset = data[\"Open\"][0]\n"
     ]
    },
    {
     "name": "stdout",
     "output_type": "stream",
     "text": [
      "check : Losscut.\n",
      "check : Profit Line is crossed.\n",
      "check : Profit Line is crossed.\n",
      "check : Losscut.\n",
      "check : Losscut.\n",
      "check : Losscut.\n",
      "check : Losscut.\n",
      "index 0 is out of bounds for axis 0 with size 0\n",
      "loss_cut: 9 profit_count: 3\n",
      "totalreturn: [17.82018773] initiate_asset:57.7400016784668\n",
      "0.1617046145496018\n",
      "(入力前の)シグナルが0なら売ります。\n",
      "check : Losscut.\n",
      "check : Profit Line is crossed.\n",
      "check : Losscut.\n",
      "check : Losscut.\n",
      "check : Losscut.\n"
     ]
    },
    {
     "name": "stderr",
     "output_type": "stream",
     "text": [
      "C:\\Users\\admin\\AppData\\Local\\Temp\\ipykernel_9988\\1064569515.py:161: FutureWarning: Series.__getitem__ treating keys as positions is deprecated. In a future version, integer keys will always be treated as labels (consistent with DataFrame behavior). To access a value by position, use `ser.iloc[pos]`\n",
      "  initiate_asset = data[\"Open\"][0]\n"
     ]
    },
    {
     "name": "stdout",
     "output_type": "stream",
     "text": [
      "check : Losscut.\n",
      "check : Profit Line is crossed.\n",
      "check : Profit Line is crossed.\n",
      "check : Losscut.\n",
      "check : Losscut.\n",
      "check : Losscut.\n",
      "check : Losscut.\n",
      "index 0 is out of bounds for axis 0 with size 0\n",
      "loss_cut: 9 profit_count: 3\n",
      "totalreturn: [17.86714773] initiate_asset:57.7400016784668\n",
      "0.16200175671672837\n",
      "(入力前の)シグナルが0なら売ります。\n",
      "check : Losscut.\n",
      "check : Profit Line is crossed.\n",
      "check : Losscut.\n",
      "check : Losscut.\n",
      "check : Losscut.\n"
     ]
    },
    {
     "name": "stderr",
     "output_type": "stream",
     "text": [
      "C:\\Users\\admin\\AppData\\Local\\Temp\\ipykernel_9988\\1064569515.py:161: FutureWarning: Series.__getitem__ treating keys as positions is deprecated. In a future version, integer keys will always be treated as labels (consistent with DataFrame behavior). To access a value by position, use `ser.iloc[pos]`\n",
      "  initiate_asset = data[\"Open\"][0]\n"
     ]
    },
    {
     "name": "stdout",
     "output_type": "stream",
     "text": [
      "check : Losscut.\n",
      "check : Profit Line is crossed.\n",
      "check : Profit Line is crossed.\n",
      "check : Losscut.\n",
      "check : Losscut.\n",
      "check : Losscut.\n",
      "check : Losscut.\n",
      "index 0 is out of bounds for axis 0 with size 0\n",
      "loss_cut: 9 profit_count: 3\n",
      "totalreturn: [17.91410773] initiate_asset:57.7400016784668\n",
      "0.16229838624086337\n",
      "(入力前の)シグナルが0なら売ります。\n",
      "check : Losscut.\n",
      "check : Profit Line is crossed.\n",
      "check : Losscut.\n",
      "check : Losscut.\n",
      "check : Losscut.\n"
     ]
    },
    {
     "name": "stderr",
     "output_type": "stream",
     "text": [
      "C:\\Users\\admin\\AppData\\Local\\Temp\\ipykernel_9988\\1064569515.py:161: FutureWarning: Series.__getitem__ treating keys as positions is deprecated. In a future version, integer keys will always be treated as labels (consistent with DataFrame behavior). To access a value by position, use `ser.iloc[pos]`\n",
      "  initiate_asset = data[\"Open\"][0]\n"
     ]
    },
    {
     "name": "stdout",
     "output_type": "stream",
     "text": [
      "check : Losscut.\n",
      "check : Profit Line is crossed.\n",
      "check : Profit Line is crossed.\n",
      "check : Losscut.\n",
      "check : Losscut.\n",
      "check : Losscut.\n",
      "check : Losscut.\n",
      "index 0 is out of bounds for axis 0 with size 0\n",
      "loss_cut: 9 profit_count: 3\n",
      "totalreturn: [17.96106773] initiate_asset:57.7400016784668\n",
      "0.16259450296426425\n",
      "(入力前の)シグナルが0なら売ります。\n",
      "check : Losscut.\n",
      "check : Profit Line is crossed.\n",
      "check : Losscut.\n",
      "check : Losscut.\n",
      "check : Losscut.\n"
     ]
    },
    {
     "name": "stderr",
     "output_type": "stream",
     "text": [
      "C:\\Users\\admin\\AppData\\Local\\Temp\\ipykernel_9988\\1064569515.py:161: FutureWarning: Series.__getitem__ treating keys as positions is deprecated. In a future version, integer keys will always be treated as labels (consistent with DataFrame behavior). To access a value by position, use `ser.iloc[pos]`\n",
      "  initiate_asset = data[\"Open\"][0]\n"
     ]
    },
    {
     "name": "stdout",
     "output_type": "stream",
     "text": [
      "check : Losscut.\n",
      "check : Profit Line is crossed.\n",
      "check : Profit Line is crossed.\n",
      "check : Losscut.\n",
      "check : Losscut.\n",
      "check : Losscut.\n",
      "check : Losscut.\n",
      "index 0 is out of bounds for axis 0 with size 0\n",
      "loss_cut: 9 profit_count: 3\n",
      "totalreturn: [18.00802773] initiate_asset:57.7400016784668\n",
      "0.1628901067364313\n",
      "sell_last_losscut : 0.0734 sell_last_profitlevel : 0.0765 last_losscut　：0.0585 last_profitlevel : 0.1461  sharpratio : 0.3991262568968553 5\n"
     ]
    }
   ],
   "source": [
    "from tqdm.notebook import tqdm\n",
    "max_yield, tp1, sharp_ratio1, i1, j1 = 0, 0, 0, 0, 0\n",
    "for num in range(5, 10, 5):\n",
    "    \n",
    "\n",
    "    data =  price_and_predict.loc[\"2011-08-01\":, :]\n",
    "\n",
    "\n",
    "    lis = []\n",
    "    \n",
    "\n",
    "    for k in tqdm(range(585, 590, 10)):\n",
    "        loss_cut = k * 0.01*0.01\n",
    "        for j in range(1461, 1462, 5):       \n",
    "            profitline = j * 0.01*0.01\n",
    "\n",
    "            totalreturns, df = calc(\n",
    "                data=data,\n",
    "                losscut_rate=loss_cut, \n",
    "                profitlevel=profitline, \n",
    "                reverse=False,\n",
    "                leverage=1, # 第４因数は、Falseの方がデフォです。\n",
    "                losscut2=loss_cut2, \n",
    "                profitline2=profitline2, \n",
    "                data2=data2)  \n",
    "            sharp_ratio = np.mean(df['Return']) /np.std(df['Return'], ddof=1)\n",
    "\n",
    "            print(sharp_ratio*np.sqrt(2))\n",
    "            lis.append(sharp_ratio*np.sqrt(2))\n",
    "            if sharp_ratio >= sharp_ratio1:\n",
    "\n",
    "                last_losscut = loss_cut\n",
    "                last_profitlevel = profitline\n",
    "\n",
    "\n",
    "\n",
    "                sharp_ratio1 = sharp_ratio\n",
    "\n",
    "    for l in (range(734, 735, 10)):\n",
    "        loss_cut2 = l*0.01*0.01\n",
    "        for m in range(740, 1545, 5):       \n",
    "            profitline2 = m*0.01*0.01\n",
    "\n",
    "            # data, losscut_rate, profitlevel, reverse, leverage,losscut2, profitline2, data2=data2\n",
    "\n",
    "            totalreturns, df = calc(\n",
    "                data=data,\n",
    "                losscut_rate=last_losscut, \n",
    "                profitlevel=last_profitlevel, \n",
    "                reverse=False,\n",
    "                leverage=1, # 第４因数は、Falseの方がデフォです。\n",
    "                losscut2=loss_cut2, \n",
    "                profitline2=profitline2, \n",
    "                data2=data2)  \n",
    "            sharp_ratio = np.mean(df['Return']) /np.std(df['Return'], ddof=1)\n",
    "\n",
    "            print(sharp_ratio*np.sqrt(2))\n",
    "            lis.append(sharp_ratio*np.sqrt(2))\n",
    "            if sharp_ratio >= sharp_ratio1:\n",
    "\n",
    "\n",
    "                sell_last_losscut = loss_cut2\n",
    "                sell_last_profitlevel = profitline2\n",
    "\n",
    "\n",
    "                sharp_ratio1 = sharp_ratio\n",
    "                num1=num\n",
    "\n",
    "\n",
    "\n",
    "\n",
    "print(\n",
    "    f\"sell_last_losscut : {sell_last_losscut}\",\n",
    "    f\"sell_last_profitlevel : {sell_last_profitlevel}\",\n",
    "    f\"last_losscut　：{last_losscut}\",   \n",
    "    f\"last_profitlevel : {last_profitlevel} \",\n",
    "    f\"sharpratio : {sharp_ratio1*np.sqrt(2)}\",\n",
    "    num1\n",
    ")  "
   ]
  },
  {
   "cell_type": "code",
   "execution_count": 26,
   "metadata": {},
   "outputs": [
    {
     "name": "stdout",
     "output_type": "stream",
     "text": [
      "sell_last_losscut : 0.11 sell_last_profitlevel : 0.10200000000000001 last_losscut　：0.137 last_profitlevel : 0.08230000000000001  sharpratio : 0.9421935656648435\n"
     ]
    }
   ],
   "source": [
    "print(\n",
    "    f\"sell_last_losscut : {sell_last_losscut}\",\n",
    "    f\"sell_last_profitlevel : {sell_last_profitlevel}\",\n",
    "    f\"last_losscut　：{last_losscut}\",   \n",
    "    f\"last_profitlevel : {last_profitlevel} \",\n",
    "    f\"sharpratio : {sharp_ratio1*np.sqrt(4)}\")  "
   ]
  },
  {
   "cell_type": "code",
   "execution_count": 21,
   "metadata": {
    "scrolled": true
   },
   "outputs": [
    {
     "name": "stdout",
     "output_type": "stream",
     "text": [
      "(入力前の)シグナルが0なら売ります。\n",
      "check : Losscut.\n",
      "check : Profit Line is crossed.\n",
      "check : Losscut.\n",
      "check : Losscut.\n",
      "check : Losscut.\n",
      "check : Losscut.\n",
      "check : Profit Line is crossed.\n"
     ]
    },
    {
     "name": "stderr",
     "output_type": "stream",
     "text": [
      "C:\\Users\\admin\\AppData\\Local\\Temp\\ipykernel_9988\\4112177944.py:161: FutureWarning: Series.__getitem__ treating keys as positions is deprecated. In a future version, integer keys will always be treated as labels (consistent with DataFrame behavior). To access a value by position, use `ser.iloc[pos]`\n",
      "  initiate_asset = data[\"Open\"][0]\n"
     ]
    },
    {
     "name": "stdout",
     "output_type": "stream",
     "text": [
      "check : Profit Line is crossed.\n",
      "check : Losscut.\n",
      "check : Losscut.\n",
      "check : Losscut.\n",
      "check : Losscut.\n",
      "index 0 is out of bounds for axis 0 with size 0\n",
      "loss_cut: 9 profit_count: 3\n",
      "totalreturn: [18.00802773] initiate_asset:57.7400016784668\n",
      "sharp ratio : 0.2303613981230622\n"
     ]
    },
    {
     "ename": "TypeError",
     "evalue": "graph() missing 1 required positional argument: 'NYdow'",
     "output_type": "error",
     "traceback": [
      "\u001b[1;31m---------------------------------------------------------------------------\u001b[0m",
      "\u001b[1;31mTypeError\u001b[0m                                 Traceback (most recent call last)",
      "Cell \u001b[1;32mIn[21], line 8\u001b[0m\n\u001b[0;32m      6\u001b[0m sharp_ratio \u001b[38;5;241m=\u001b[39m np\u001b[38;5;241m.\u001b[39mmean(df[\u001b[38;5;124m'\u001b[39m\u001b[38;5;124mReturn\u001b[39m\u001b[38;5;124m'\u001b[39m]) \u001b[38;5;241m/\u001b[39mnp\u001b[38;5;241m.\u001b[39mstd(df[\u001b[38;5;124m'\u001b[39m\u001b[38;5;124mReturn\u001b[39m\u001b[38;5;124m'\u001b[39m], ddof\u001b[38;5;241m=\u001b[39m\u001b[38;5;241m1\u001b[39m)\n\u001b[0;32m      7\u001b[0m \u001b[38;5;28mprint\u001b[39m(\u001b[38;5;124mf\u001b[39m\u001b[38;5;124m\"\u001b[39m\u001b[38;5;124msharp ratio : \u001b[39m\u001b[38;5;124m{\u001b[39m\u001b[38;5;124msharp_ratio*np.sqrt(4)}\u001b[39m\u001b[38;5;124m\"\u001b[39m)\n\u001b[1;32m----> 8\u001b[0m graph(df, \u001b[38;5;28;01mFalse\u001b[39;00m, \u001b[38;5;124m\"\u001b[39m\u001b[38;5;124m./graph_image/\u001b[39m\u001b[38;5;124m\"\u001b[39m\u001b[38;5;241m+\u001b[39mticker\u001b[38;5;241m+\u001b[39m\u001b[38;5;124m\"\u001b[39m\u001b[38;5;124m\"\u001b[39m, \u001b[38;5;28;01mTrue\u001b[39;00m)\n",
      "\u001b[1;31mTypeError\u001b[0m: graph() missing 1 required positional argument: 'NYdow'"
     ]
    }
   ],
   "source": [
    "data =  price_and_predict[\"2011-08-01\":\"2023-09-01\"]\n",
    "\n",
    "\n",
    "temp = calc(data, last_losscut, last_profitlevel, False, 1, sell_last_losscut, sell_last_profitlevel, data2)  # 第４因数は、Falseの方がデフォです。\n",
    "totalreturns, df = temp[0], temp[1]\n",
    "sharp_ratio = np.mean(df['Return']) /np.std(df['Return'], ddof=1)\n",
    "print(f\"sharp ratio : {sharp_ratio*np.sqrt(4)}\")\n",
    "graph(df, False, \"./graph_image/\"+ticker+\"\", True)"
   ]
  },
  {
   "cell_type": "code",
   "execution_count": 13,
   "metadata": {},
   "outputs": [],
   "source": [
    "df.to_csv('testdata/17startIYR.csv')"
   ]
  },
  {
   "cell_type": "code",
   "execution_count": null,
   "metadata": {},
   "outputs": [],
   "source": [
    "1=2 # Run all でここまで実行する。"
   ]
  },
  {
   "cell_type": "code",
   "execution_count": null,
   "metadata": {},
   "outputs": [],
   "source": [
    "df"
   ]
  },
  {
   "cell_type": "code",
   "execution_count": null,
   "metadata": {},
   "outputs": [],
   "source": [
    "df.to_csv('testdata/'+ticker+'dataframe.csv')"
   ]
  },
  {
   "cell_type": "code",
   "execution_count": null,
   "metadata": {},
   "outputs": [],
   "source": [
    "start = 2015 # year\n",
    "\n",
    "dic = {f\"{start+i}.12\":[j] for i,j in enumerate(totalreturns) }\n",
    "df2 = df.set_index([df.index.year, df.index])\n",
    "df2.index.names = ['year', 'date']\n",
    "for i in range(12):\n",
    "    df2.query('year==2011').sum()['interest']\n",
    "dic2 = {f\"{2015+i}.{12}\":[f\"{df2.query('year==@start+@i').sum()['Return']:.2f}\"] for i in range(8) }\n",
    "\n",
    "temp = pd.DataFrame(dic).rename({0:\"累積資産額\"})\n",
    "temp2 = pd.DataFrame(dic2).rename({0:\"yield\"})\n",
    "temp3 = pd.concat([temp,temp2])\n",
    "\n",
    "temp3.T.to_csv('./tabledata/'+ticker+'table_3month.csv')\n",
    "pd.set_option('display.max_row', None)\n",
    "temp3.T"
   ]
  },
  {
   "cell_type": "code",
   "execution_count": null,
   "metadata": {},
   "outputs": [],
   "source": [
    "def Evaluation(df):\n",
    "    Sel = pd.Series()\n",
    "    Sel['初期資金'] = df['open_price'][0]\n",
    "    \n",
    "    Sel[\"全トレード数\"] = df.shape[0]\n",
    "    #print((10**2) * df.query('interest >= 0').count() / df.shape[0])\n",
    "    Sel[\"勝率\"] = \"{:.2f}%\".format((10**2) * df.query('interest >= 0').shape[0] / df.shape[0])\n",
    "    Sel[\"負率\"] = \"{:.2f}%\".format((10**2)* df.query('interest < 0').shape[0] / df.shape[0])\n",
    "    Sel[\"全トレード平均利益\"] = df['interest'].mean()\n",
    "    Sel[\"勝ちトレード平均利益\"] =  df.query('interest >= 0')['interest'].mean()\n",
    "    Sel[\"負けトレード平均利益\"] =  df.query('interest < 0')['interest'].mean()\n",
    "    \n",
    "    Sel[\"プロフィットファクター\"] = df.query('interest >= 0')['interest'].sum() / -df.query('interest < 0')['interest'].sum()\n",
    "    \n",
    "    display(pd.DataFrame(Sel))\n",
    "    fig, ax = plt.subplots()\n",
    "    ax.hist(df['interest'], bins=20, label='interest')\n",
    "Evaluation(df.query('signal==0'))"
   ]
  },
  {
   "cell_type": "code",
   "execution_count": 46,
   "metadata": {},
   "outputs": [
    {
     "name": "stderr",
     "output_type": "stream",
     "text": [
      "C:\\Users\\admin\\AppData\\Local\\Temp\\ipykernel_2344\\4227582052.py:1: SettingWithCopyWarning: \n",
      "A value is trying to be set on a copy of a slice from a DataFrame.\n",
      "Try using .loc[row_indexer,col_indexer] = value instead\n",
      "\n",
      "See the caveats in the documentation: https://pandas.pydata.org/pandas-docs/stable/user_guide/indexing.html#returning-a-view-versus-a-copy\n",
      "  data['predict']= [1 for i in range(len(df)+1)]\n"
     ]
    },
    {
     "name": "stdout",
     "output_type": "stream",
     "text": [
      "(入力前の)シグナルが0なら売ります。\n",
      "index 0 is out of bounds for axis 0 with size 0\n",
      "loss_cut: 0 profit_count: 0\n",
      "totalreturn: [30.77001572] initiate_asset:nan\n",
      "単利計算です。各y値は、その時点までの各利率の累積です。\n",
      "最大ドローダウン: 21.886 %\n"
     ]
    },
    {
     "data": {
      "image/png": "[encoded data removed]",
      "text/plain": [
       "<Figure size 1200x700 with 1 Axes>"
      ]
     },
     "metadata": {},
     "output_type": "display_data"
    }
   ],
   "source": [
    "\n",
    "data['predict']= [1 for i in range(len(df)+1)]\n",
    "c, df3 = calc(data, 1, 1, False,1,1, data2)\n",
    "def graph3(df, save, file_name, raw_data=df3, simple_interest=False):\n",
    "    if not simple_interest:\n",
    "        \n",
    "        print(\"利回り中心です。各y値は、総資産/初期資金です。\")\n",
    "        temp, temp2 = df[\"interest\"].values, raw_data[\"interest\"].values\n",
    "\n",
    "        initial = df[\"open_price\"][0] \n",
    "        lis = np.cumsum(temp) + initial\n",
    "        lis2 = np.cumsum(temp2) + initial\n",
    "        \n",
    "        \n",
    "        profit_month =np.array(lis)  / initial\n",
    "        profit_month2 =np.array(lis2)  / initial\n",
    "\n",
    "        # 月ごとのそれまでの最大資産の計算\n",
    "        max_assets = pd.Series(profit_month).cummax().values\n",
    "        \n",
    "        total = profit_month\n",
    "        total2 = profit_month2\n",
    "\n",
    "        \n",
    "        # ドローダウンの計算\n",
    "        dd = 1 - profit_month / max_assets\n",
    "    else:\n",
    "        print(\"単利計算です。各y値は、その時点までの各利率の累積です。\")\n",
    "        temp, temp2 = df[\"Return\"].values, raw_data[\"Return\"].values\n",
    "\n",
    "        \n",
    "\n",
    "        profit_daily = temp\n",
    "        profit_daily2 = temp2\n",
    "\n",
    "\n",
    "        # 単利運用での資産額の計算(初日を1とする)\n",
    "        total = 1 + np.cumsum(profit_daily) \n",
    "        total2 = 1 + np.cumsum(profit_daily2)\n",
    "\n",
    "        \n",
    "        # 日ごとのそれまでの最大資産の計算\n",
    "        max_assets = pd.Series(total).cummax().values \n",
    "\n",
    "        # ドローダウンの計算\n",
    "        dd = max_assets - total # 単利運用なので初期資金(1)に対する額で計算\n",
    "    \n",
    "    # 最大ドローダウンの計算\n",
    "    max_dd_percent = max(dd) * 100\n",
    "    print(f'最大ドローダウン: {max_dd_percent:.3f} %')\n",
    "    fig, ax1 = plt.subplots(figsize=(12, 7))\n",
    "\n",
    "    ax1.set_xlabel('運用日数(日)')\n",
    "    ax1.set_ylabel('資産額')\n",
    "    \n",
    "    ax1.plot(total, label='元戦略', alpha=0.7)\n",
    "    ax1.plot(total2, label='保有し続けたケース', alpha=0.7)\n",
    "\n",
    "    ax1.legend()\n",
    "    \n",
    "    if save:\n",
    "        fig.savefig(file_name+\".png\")\n",
    "\n",
    "graph3(df, False, './graph_image/USReit_3moTest', df3, True)"
   ]
  },
  {
   "cell_type": "code",
   "execution_count": 25,
   "metadata": {},
   "outputs": [
    {
     "name": "stderr",
     "output_type": "stream",
     "text": [
      "C:\\Users\\admin\\AppData\\Local\\Temp\\ipykernel_9988\\1884156507.py:1: SettingWithCopyWarning: \n",
      "A value is trying to be set on a copy of a slice from a DataFrame.\n",
      "Try using .loc[row_indexer,col_indexer] = value instead\n",
      "\n",
      "See the caveats in the documentation: https://pandas.pydata.org/pandas-docs/stable/user_guide/indexing.html#returning-a-view-versus-a-copy\n",
      "  data['predict']= [1 for i in range(len(data))]\n",
      "C:\\Users\\admin\\AppData\\Local\\Temp\\ipykernel_9988\\4112177944.py:161: FutureWarning: Series.__getitem__ treating keys as positions is deprecated. In a future version, integer keys will always be treated as labels (consistent with DataFrame behavior). To access a value by position, use `ser.iloc[pos]`\n",
      "  initiate_asset = data[\"Open\"][0]\n"
     ]
    },
    {
     "name": "stdout",
     "output_type": "stream",
     "text": [
      "(入力前の)シグナルが0なら売ります。\n",
      "index 0 is out of bounds for axis 0 with size 0\n",
      "loss_cut: 0 profit_count: 0\n",
      "totalreturn: [29.49001694] initiate_asset:57.7400016784668\n",
      "[*********************100%%**********************]  1 of 1 completed\n",
      "(入力前の)シグナルが0なら売ります。\n"
     ]
    },
    {
     "name": "stderr",
     "output_type": "stream",
     "text": [
      "C:\\Users\\admin\\AppData\\Local\\Temp\\ipykernel_9988\\4112177944.py:161: FutureWarning: Series.__getitem__ treating keys as positions is deprecated. In a future version, integer keys will always be treated as labels (consistent with DataFrame behavior). To access a value by position, use `ser.iloc[pos]`\n",
      "  initiate_asset = data[\"Open\"][0]\n"
     ]
    },
    {
     "name": "stdout",
     "output_type": "stream",
     "text": [
      "loss_cut: 0 profit_count: 0\n",
      "totalreturn: [23123.46289062] initiate_asset:12221.1904296875\n"
     ]
    }
   ],
   "source": [
    "data['predict']= [1 for i in range(len(data))]\n",
    "c, df3 = calc(data, 1, 1, False,1,1,1, data2)\n",
    "array = df.index\n",
    "df2 = yf.download('^DJI', start='2011-08-01', interval='1d')\n",
    "dfX = pd.DataFrame()\n",
    "for i, j in enumerate(array):\n",
    "    try:\n",
    "        array[i+1]\n",
    "    except:\n",
    "        horizon = df2.loc[j:, :]\n",
    "    else:\n",
    "        horizon = df2.loc[j:array[i+1], :]\n",
    "    try:\n",
    "        op, cl, high, low = horizon.head(1)['Open'].values, horizon.tail(1)['Close'].values, max(horizon['High']), min(horizon['Low'])\n",
    "    except:\n",
    "        continue\n",
    "    temp = pd.DataFrame({'Open':op, 'Close':cl, 'High':high, 'Low':low}, index=[j])\n",
    "    dfX = pd.concat([dfX, temp])\n",
    "\n",
    "data2['Trade']['2021-01-01':].head(10)\n",
    "\n",
    "dfX['predict'] = [1 for i in range(len(dfX))]\n",
    "df2['Trade'] = data2['Trade']\n",
    "_, dataX = calc(\n",
    "            data=dfX,\n",
    "            losscut_rate=1, \n",
    "            profitlevel=1, \n",
    "            reverse=False,\n",
    "            leverage=1, # 第４因数は、Falseの方がデフォです。\n",
    "            losscut2=1, \n",
    "            profitlevel2=1, \n",
    "            data2=df2)  "
   ]
  },
  {
   "cell_type": "code",
   "execution_count": 26,
   "metadata": {},
   "outputs": [
    {
     "data": {
      "image/png": "[encoded data removed]",
      "text/plain": [
       "<Figure size 1200x700 with 1 Axes>"
      ]
     },
     "metadata": {},
     "output_type": "display_data"
    }
   ],
   "source": [
    "def graph(df, save, file_name, raw_data, NYdow):\n",
    "    \n",
    "    NYdow = NYdow.loc['2011-08-01':]\n",
    "    \n",
    "    profit = df[\"Return\"].values\n",
    "    profit2 = raw_data[\"Return\"].values\n",
    "    profit3 = (NYdow[\"Return\"]).values \n",
    "    \n",
    "    # 単利運用での資産額の計算(初日を1とする)\n",
    "    total = 1 + np.cumsum(profit) \n",
    "    total2 = 1 + np.cumsum(profit2)\n",
    "    total3 = 1+np.cumsum(profit3) \n",
    "    \n",
    "    # 日ごとのそれまでの最大資産の計算\n",
    "    max_assets = pd.Series(total).cummax().values \n",
    "\n",
    "\n",
    "    indexes = pd.to_datetime(df.index, format=\"%Y-%m-%d\")\n",
    "    #indexes = [dt.strftime(array[i], format=\"%Y-%m-%d\") if i % 4 == 2 else '' for i in range(len(array))]\n",
    "    \n",
    "    fig, ax1 = plt.subplots(figsize=(12, 7))\n",
    "    ax1.set_xticks(df.index[::10])\n",
    "    ax1.set_xticklabels(indexes[::10],rotation=45)\n",
    "    ax1.set_xlabel('運用ターム数(四半期数)')\n",
    "    ax1.set_ylabel('資産額')\n",
    "    \n",
    "    ax1.plot(total, label='元戦略', alpha=0.7)\n",
    "    ax1.plot(total2, label='Reit Market', alpha=0.7)\n",
    "    ax1.plot(total3, label='NYdow Market', alpha=0.3)\n",
    "    \n",
    "    ax1.legend(loc='upper left')\n",
    "    \n",
    "    if save:\n",
    "        fig.savefig(file_name+\".png\")\n",
    "graph(df=df,\n",
    "      save=False,\n",
    "      file_name='graph',\n",
    "      raw_data=df3,\n",
    "     NYdow=dataX)"
   ]
  },
  {
   "cell_type": "code",
   "execution_count": 23,
   "metadata": {},
   "outputs": [
    {
     "data": {
      "text/html": [
       "<div>\n",
       "<style scoped>\n",
       "    .dataframe tbody tr th:only-of-type {\n",
       "        vertical-align: middle;\n",
       "    }\n",
       "\n",
       "    .dataframe tbody tr th {\n",
       "        vertical-align: top;\n",
       "    }\n",
       "\n",
       "    .dataframe thead th {\n",
       "        text-align: right;\n",
       "    }\n",
       "</style>\n",
       "<table border=\"1\" class=\"dataframe\">\n",
       "  <thead>\n",
       "    <tr style=\"text-align: right;\">\n",
       "      <th></th>\n",
       "      <th>signal</th>\n",
       "      <th>Return</th>\n",
       "      <th>totalreturn</th>\n",
       "      <th>profitline</th>\n",
       "      <th>loss_cut</th>\n",
       "      <th>interest</th>\n",
       "      <th>open_price</th>\n",
       "    </tr>\n",
       "  </thead>\n",
       "  <tbody>\n",
       "    <tr>\n",
       "      <th>2012-01-01</th>\n",
       "      <td>0.0</td>\n",
       "      <td>-0.073400</td>\n",
       "      <td>-4.195544</td>\n",
       "      <td>not crossed</td>\n",
       "      <td>Losscut.</td>\n",
       "      <td>-4.195544</td>\n",
       "      <td>57.160000</td>\n",
       "    </tr>\n",
       "    <tr>\n",
       "      <th>2012-07-01</th>\n",
       "      <td>1.0</td>\n",
       "      <td>0.030965</td>\n",
       "      <td>-2.195544</td>\n",
       "      <td>not crossed</td>\n",
       "      <td>safe</td>\n",
       "      <td>2.000000</td>\n",
       "      <td>64.589996</td>\n",
       "    </tr>\n",
       "    <tr>\n",
       "      <th>2013-01-01</th>\n",
       "      <td>1.0</td>\n",
       "      <td>0.146100</td>\n",
       "      <td>7.518645</td>\n",
       "      <td>crossed</td>\n",
       "      <td>safe</td>\n",
       "      <td>9.714189</td>\n",
       "      <td>66.489998</td>\n",
       "    </tr>\n",
       "    <tr>\n",
       "      <th>2013-07-01</th>\n",
       "      <td>1.0</td>\n",
       "      <td>-0.058500</td>\n",
       "      <td>3.526605</td>\n",
       "      <td>not crossed</td>\n",
       "      <td>Losscut.</td>\n",
       "      <td>-3.992040</td>\n",
       "      <td>68.239998</td>\n",
       "    </tr>\n",
       "    <tr>\n",
       "      <th>2014-01-01</th>\n",
       "      <td>1.0</td>\n",
       "      <td>0.133646</td>\n",
       "      <td>12.086602</td>\n",
       "      <td>not crossed</td>\n",
       "      <td>safe</td>\n",
       "      <td>8.559998</td>\n",
       "      <td>64.050003</td>\n",
       "    </tr>\n",
       "    <tr>\n",
       "      <th>...</th>\n",
       "      <td>...</td>\n",
       "      <td>...</td>\n",
       "      <td>...</td>\n",
       "      <td>...</td>\n",
       "      <td>...</td>\n",
       "      <td>...</td>\n",
       "      <td>...</td>\n",
       "    </tr>\n",
       "    <tr>\n",
       "      <th>2021-01-01</th>\n",
       "      <td>0.0</td>\n",
       "      <td>-0.073400</td>\n",
       "      <td>21.426032</td>\n",
       "      <td>not crossed</td>\n",
       "      <td>Losscut.</td>\n",
       "      <td>-6.032746</td>\n",
       "      <td>82.190002</td>\n",
       "    </tr>\n",
       "    <tr>\n",
       "      <th>2021-07-01</th>\n",
       "      <td>1.0</td>\n",
       "      <td>0.044935</td>\n",
       "      <td>26.186034</td>\n",
       "      <td>not crossed</td>\n",
       "      <td>safe</td>\n",
       "      <td>4.760002</td>\n",
       "      <td>105.930000</td>\n",
       "    </tr>\n",
       "    <tr>\n",
       "      <th>2022-01-01</th>\n",
       "      <td>1.0</td>\n",
       "      <td>-0.058500</td>\n",
       "      <td>19.687854</td>\n",
       "      <td>not crossed</td>\n",
       "      <td>Losscut.</td>\n",
       "      <td>-6.498180</td>\n",
       "      <td>111.080002</td>\n",
       "    </tr>\n",
       "    <tr>\n",
       "      <th>2022-07-01</th>\n",
       "      <td>1.0</td>\n",
       "      <td>-0.058500</td>\n",
       "      <td>14.338030</td>\n",
       "      <td>not crossed</td>\n",
       "      <td>Losscut.</td>\n",
       "      <td>-5.349825</td>\n",
       "      <td>91.449997</td>\n",
       "    </tr>\n",
       "    <tr>\n",
       "      <th>2023-01-01</th>\n",
       "      <td>0.0</td>\n",
       "      <td>0.040878</td>\n",
       "      <td>18.008028</td>\n",
       "      <td>not crossed</td>\n",
       "      <td>safe</td>\n",
       "      <td>3.669998</td>\n",
       "      <td>89.779999</td>\n",
       "    </tr>\n",
       "  </tbody>\n",
       "</table>\n",
       "<p>23 rows × 7 columns</p>\n",
       "</div>"
      ],
      "text/plain": [
       "            signal    Return  totalreturn   profitline  loss_cut  interest  \\\n",
       "2012-01-01     0.0 -0.073400    -4.195544  not crossed  Losscut. -4.195544   \n",
       "2012-07-01     1.0  0.030965    -2.195544  not crossed      safe  2.000000   \n",
       "2013-01-01     1.0  0.146100     7.518645      crossed      safe  9.714189   \n",
       "2013-07-01     1.0 -0.058500     3.526605  not crossed  Losscut. -3.992040   \n",
       "2014-01-01     1.0  0.133646    12.086602  not crossed      safe  8.559998   \n",
       "...            ...       ...          ...          ...       ...       ...   \n",
       "2021-01-01     0.0 -0.073400    21.426032  not crossed  Losscut. -6.032746   \n",
       "2021-07-01     1.0  0.044935    26.186034  not crossed      safe  4.760002   \n",
       "2022-01-01     1.0 -0.058500    19.687854  not crossed  Losscut. -6.498180   \n",
       "2022-07-01     1.0 -0.058500    14.338030  not crossed  Losscut. -5.349825   \n",
       "2023-01-01     0.0  0.040878    18.008028  not crossed      safe  3.669998   \n",
       "\n",
       "            open_price  \n",
       "2012-01-01   57.160000  \n",
       "2012-07-01   64.589996  \n",
       "2013-01-01   66.489998  \n",
       "2013-07-01   68.239998  \n",
       "2014-01-01   64.050003  \n",
       "...                ...  \n",
       "2021-01-01   82.190002  \n",
       "2021-07-01  105.930000  \n",
       "2022-01-01  111.080002  \n",
       "2022-07-01   91.449997  \n",
       "2023-01-01   89.779999  \n",
       "\n",
       "[23 rows x 7 columns]"
      ]
     },
     "execution_count": 23,
     "metadata": {},
     "output_type": "execute_result"
    }
   ],
   "source": [
    "df"
   ]
  },
  {
   "cell_type": "code",
   "execution_count": null,
   "metadata": {},
   "outputs": [],
   "source": []
  }
 ],
 "metadata": {
  "kernelspec": {
   "display_name": "Python 3 (ipykernel)",
   "language": "python",
   "name": "python3"
  },
  "language_info": {
   "codemirror_mode": {
    "name": "ipython",
    "version": 3
   },
   "file_extension": ".py",
   "mimetype": "text/x-python",
   "name": "python",
   "nbconvert_exporter": "python",
   "pygments_lexer": "ipython3",
   "version": "3.11.5"
  }
 },
 "nbformat": 4,
 "nbformat_minor": 4
}
